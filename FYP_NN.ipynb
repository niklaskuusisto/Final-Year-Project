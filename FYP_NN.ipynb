{
  "nbformat": 4,
  "nbformat_minor": 0,
  "metadata": {
    "colab": {
      "name": "FYP_NN.ipynb",
      "provenance": [],
      "collapsed_sections": [],
      "toc_visible": true
    },
    "kernelspec": {
      "name": "python3",
      "display_name": "Python 3"
    },
    "language_info": {
      "name": "python"
    },
    "accelerator": "GPU"
  },
  "cells": [
    {
      "cell_type": "code",
      "metadata": {
        "colab": {
          "base_uri": "https://localhost:8080/"
        },
        "id": "wZc9g7NEJkV_",
        "outputId": "19446e98-9466-442d-dc5e-f489803e6587"
      },
      "source": [
        "\"\"\"\n",
        "Author:\n",
        "Niklas Santeri Kuusisto\n",
        "\n",
        "The following works were referenced in implementing the code:\n",
        "    \n",
        "    Q. Shi, J. Yin, J. Cai, A. Cichocki, T. Yokota, L. Chen, M. Yuan, and J. Zeng,\n",
        "    “BlockHankel Tensor ARIMA for Multiple Short Time Series Forecasting,” 2020, \n",
        "    Proceedings of AAAI.\n",
        "\n",
        "    Y. Yang, D. Krompass, and V. Tresp, “Tensor-Train Recurrent Neural Networks for\n",
        "    Video Classification,” 2017, ICML.\n",
        "\n",
        "    A. Novikov, D. Podoprikhin, A. Osokin, and D. Vetrov, “Tensorizing Neural Networks,”\n",
        "    2015, Advances in Neural Information Processing Systems 28.\n",
        "\n",
        "    Y. L. Xu, G. G. Calvi, and D. P. Mandic, “Tensor-Train Recurrent Neural Networks for\n",
        "    Interpretable Multi-Way Financial Forecasting,” 2021, arXiv e-prints.\n",
        "\n",
        "    Y. L. Xu, “Tensor-Train Recurrent Neural Networks in Financial Forecasting,”\n",
        "    2019, Final Year Project, Department of Electrical and Electronic Engineering,\n",
        "    Imperial College London.\n",
        "\"\"\"\n",
        "\n",
        "%reset"
      ],
      "execution_count": 5,
      "outputs": [
        {
          "output_type": "stream",
          "text": [
            "Once deleted, variables cannot be recovered. Proceed (y/[n])? y\n"
          ],
          "name": "stdout"
        }
      ]
    },
    {
      "cell_type": "markdown",
      "metadata": {
        "id": "S7klc6_DDyAq"
      },
      "source": [
        "# Version"
      ]
    },
    {
      "cell_type": "code",
      "metadata": {
        "id": "8XZVAl6_hLs_",
        "colab": {
          "base_uri": "https://localhost:8080/"
        },
        "outputId": "ecb5a73f-0387-42ce-b98a-5a2058b1c70c"
      },
      "source": [
        "!pip uninstall keras-nightly"
      ],
      "execution_count": 3,
      "outputs": [
        {
          "output_type": "stream",
          "text": [
            "Uninstalling keras-nightly-2.5.0.dev2021032900:\n",
            "  Would remove:\n",
            "    /usr/local/lib/python3.7/dist-packages/keras/*\n",
            "    /usr/local/lib/python3.7/dist-packages/keras_nightly-2.5.0.dev2021032900.dist-info/*\n",
            "  Would not remove (might be manually added):\n",
            "    /usr/local/lib/python3.7/dist-packages/keras/applications/resnet50.py\n",
            "    /usr/local/lib/python3.7/dist-packages/keras/engine/network.py\n",
            "    /usr/local/lib/python3.7/dist-packages/keras/engine/topology.py\n",
            "    /usr/local/lib/python3.7/dist-packages/keras/initializers.py\n",
            "    /usr/local/lib/python3.7/dist-packages/keras/layers/experimental/__init__.py\n",
            "    /usr/local/lib/python3.7/dist-packages/keras/layers/experimental/preprocessing/__init__.py\n",
            "    /usr/local/lib/python3.7/dist-packages/keras/objectives.py\n",
            "    /usr/local/lib/python3.7/dist-packages/keras/optimizers/__init__.py\n",
            "    /usr/local/lib/python3.7/dist-packages/keras/optimizers/schedules/__init__.py\n",
            "    /usr/local/lib/python3.7/dist-packages/keras/utils/test_utils.py\n",
            "Proceed (y/n)? y\n",
            "  Successfully uninstalled keras-nightly-2.5.0.dev2021032900\n"
          ],
          "name": "stdout"
        }
      ]
    },
    {
      "cell_type": "code",
      "metadata": {
        "id": "SMvYoBwUZPBq",
        "colab": {
          "base_uri": "https://localhost:8080/",
          "height": 1000
        },
        "outputId": "e7b8f38e-7230-4b37-a009-799ff1c5e532"
      },
      "source": [
        "!pip install tensorflow==1.*\n",
        "!pip install tensorflow-gpu==1.15\n",
        "!pip install keras==2.2.4.\n",
        "\n",
        "# restart runtime"
      ],
      "execution_count": 4,
      "outputs": [
        {
          "output_type": "stream",
          "text": [
            "Collecting tensorflow==1.*\n",
            "\u001b[?25l  Downloading https://files.pythonhosted.org/packages/9a/51/99abd43185d94adaaaddf8f44a80c418a91977924a7bc39b8dacd0c495b0/tensorflow-1.15.5-cp37-cp37m-manylinux2010_x86_64.whl (110.5MB)\n",
            "\u001b[K     |████████████████████████████████| 110.5MB 86kB/s \n",
            "\u001b[?25hCollecting gast==0.2.2\n",
            "  Downloading https://files.pythonhosted.org/packages/4e/35/11749bf99b2d4e3cceb4d55ca22590b0d7c2c62b9de38ac4a4a7f4687421/gast-0.2.2.tar.gz\n",
            "Collecting numpy<1.19.0,>=1.16.0\n",
            "\u001b[?25l  Downloading https://files.pythonhosted.org/packages/d6/c6/58e517e8b1fb192725cfa23c01c2e60e4e6699314ee9684a1c5f5c9b27e1/numpy-1.18.5-cp37-cp37m-manylinux1_x86_64.whl (20.1MB)\n",
            "\u001b[K     |████████████████████████████████| 20.1MB 10.1MB/s \n",
            "\u001b[?25hRequirement already satisfied: protobuf>=3.6.1 in /usr/local/lib/python3.7/dist-packages (from tensorflow==1.*) (3.12.4)\n",
            "Collecting h5py<=2.10.0\n",
            "\u001b[?25l  Downloading https://files.pythonhosted.org/packages/3f/c0/abde58b837e066bca19a3f7332d9d0493521d7dd6b48248451a9e3fe2214/h5py-2.10.0-cp37-cp37m-manylinux1_x86_64.whl (2.9MB)\n",
            "\u001b[K     |████████████████████████████████| 2.9MB 34.9MB/s \n",
            "\u001b[?25hRequirement already satisfied: six>=1.10.0 in /usr/local/lib/python3.7/dist-packages (from tensorflow==1.*) (1.15.0)\n",
            "Requirement already satisfied: absl-py>=0.7.0 in /usr/local/lib/python3.7/dist-packages (from tensorflow==1.*) (0.12.0)\n",
            "Collecting keras-applications>=1.0.8\n",
            "\u001b[?25l  Downloading https://files.pythonhosted.org/packages/71/e3/19762fdfc62877ae9102edf6342d71b28fbfd9dea3d2f96a882ce099b03f/Keras_Applications-1.0.8-py3-none-any.whl (50kB)\n",
            "\u001b[K     |████████████████████████████████| 51kB 7.4MB/s \n",
            "\u001b[?25hRequirement already satisfied: wheel>=0.26; python_version >= \"3\" in /usr/local/lib/python3.7/dist-packages (from tensorflow==1.*) (0.36.2)\n",
            "Collecting tensorboard<1.16.0,>=1.15.0\n",
            "\u001b[?25l  Downloading https://files.pythonhosted.org/packages/1e/e9/d3d747a97f7188f48aa5eda486907f3b345cd409f0a0850468ba867db246/tensorboard-1.15.0-py3-none-any.whl (3.8MB)\n",
            "\u001b[K     |████████████████████████████████| 3.8MB 33.3MB/s \n",
            "\u001b[?25hRequirement already satisfied: grpcio>=1.8.6 in /usr/local/lib/python3.7/dist-packages (from tensorflow==1.*) (1.34.1)\n",
            "Requirement already satisfied: astor>=0.6.0 in /usr/local/lib/python3.7/dist-packages (from tensorflow==1.*) (0.8.1)\n",
            "Collecting tensorflow-estimator==1.15.1\n",
            "\u001b[?25l  Downloading https://files.pythonhosted.org/packages/de/62/2ee9cd74c9fa2fa450877847ba560b260f5d0fb70ee0595203082dafcc9d/tensorflow_estimator-1.15.1-py2.py3-none-any.whl (503kB)\n",
            "\u001b[K     |████████████████████████████████| 512kB 27.1MB/s \n",
            "\u001b[?25hRequirement already satisfied: termcolor>=1.1.0 in /usr/local/lib/python3.7/dist-packages (from tensorflow==1.*) (1.1.0)\n",
            "Requirement already satisfied: wrapt>=1.11.1 in /usr/local/lib/python3.7/dist-packages (from tensorflow==1.*) (1.12.1)\n",
            "Requirement already satisfied: google-pasta>=0.1.6 in /usr/local/lib/python3.7/dist-packages (from tensorflow==1.*) (0.2.0)\n",
            "Requirement already satisfied: opt-einsum>=2.3.2 in /usr/local/lib/python3.7/dist-packages (from tensorflow==1.*) (3.3.0)\n",
            "Requirement already satisfied: keras-preprocessing>=1.0.5 in /usr/local/lib/python3.7/dist-packages (from tensorflow==1.*) (1.1.2)\n",
            "Requirement already satisfied: setuptools in /usr/local/lib/python3.7/dist-packages (from protobuf>=3.6.1->tensorflow==1.*) (57.0.0)\n",
            "Requirement already satisfied: werkzeug>=0.11.15 in /usr/local/lib/python3.7/dist-packages (from tensorboard<1.16.0,>=1.15.0->tensorflow==1.*) (1.0.1)\n",
            "Requirement already satisfied: markdown>=2.6.8 in /usr/local/lib/python3.7/dist-packages (from tensorboard<1.16.0,>=1.15.0->tensorflow==1.*) (3.3.4)\n",
            "Requirement already satisfied: importlib-metadata; python_version < \"3.8\" in /usr/local/lib/python3.7/dist-packages (from markdown>=2.6.8->tensorboard<1.16.0,>=1.15.0->tensorflow==1.*) (4.5.0)\n",
            "Requirement already satisfied: zipp>=0.5 in /usr/local/lib/python3.7/dist-packages (from importlib-metadata; python_version < \"3.8\"->markdown>=2.6.8->tensorboard<1.16.0,>=1.15.0->tensorflow==1.*) (3.4.1)\n",
            "Requirement already satisfied: typing-extensions>=3.6.4; python_version < \"3.8\" in /usr/local/lib/python3.7/dist-packages (from importlib-metadata; python_version < \"3.8\"->markdown>=2.6.8->tensorboard<1.16.0,>=1.15.0->tensorflow==1.*) (3.7.4.3)\n",
            "Building wheels for collected packages: gast\n",
            "  Building wheel for gast (setup.py) ... \u001b[?25l\u001b[?25hdone\n",
            "  Created wheel for gast: filename=gast-0.2.2-cp37-none-any.whl size=7557 sha256=2725080a282bad5c5a87ed0ee8a000382b2be2b61701fc13adb3eed8391737ac\n",
            "  Stored in directory: /root/.cache/pip/wheels/5c/2e/7e/a1d4d4fcebe6c381f378ce7743a3ced3699feb89bcfbdadadd\n",
            "Successfully built gast\n",
            "\u001b[31mERROR: tensorflow-probability 0.12.1 has requirement gast>=0.3.2, but you'll have gast 0.2.2 which is incompatible.\u001b[0m\n",
            "\u001b[31mERROR: kapre 0.3.5 has requirement tensorflow>=2.0.0, but you'll have tensorflow 1.15.5 which is incompatible.\u001b[0m\n",
            "\u001b[31mERROR: datascience 0.10.6 has requirement folium==0.2.1, but you'll have folium 0.8.3 which is incompatible.\u001b[0m\n",
            "\u001b[31mERROR: albumentations 0.1.12 has requirement imgaug<0.2.7,>=0.2.5, but you'll have imgaug 0.2.9 which is incompatible.\u001b[0m\n",
            "Installing collected packages: gast, numpy, h5py, keras-applications, tensorboard, tensorflow-estimator, tensorflow\n",
            "  Found existing installation: gast 0.4.0\n",
            "    Uninstalling gast-0.4.0:\n",
            "      Successfully uninstalled gast-0.4.0\n",
            "  Found existing installation: numpy 1.19.5\n",
            "    Uninstalling numpy-1.19.5:\n",
            "      Successfully uninstalled numpy-1.19.5\n",
            "  Found existing installation: h5py 3.1.0\n",
            "    Uninstalling h5py-3.1.0:\n",
            "      Successfully uninstalled h5py-3.1.0\n",
            "  Found existing installation: tensorboard 2.5.0\n",
            "    Uninstalling tensorboard-2.5.0:\n",
            "      Successfully uninstalled tensorboard-2.5.0\n",
            "  Found existing installation: tensorflow-estimator 2.5.0\n",
            "    Uninstalling tensorflow-estimator-2.5.0:\n",
            "      Successfully uninstalled tensorflow-estimator-2.5.0\n",
            "  Found existing installation: tensorflow 2.5.0\n",
            "    Uninstalling tensorflow-2.5.0:\n",
            "      Successfully uninstalled tensorflow-2.5.0\n",
            "Successfully installed gast-0.2.2 h5py-2.10.0 keras-applications-1.0.8 numpy-1.18.5 tensorboard-1.15.0 tensorflow-1.15.5 tensorflow-estimator-1.15.1\n"
          ],
          "name": "stdout"
        },
        {
          "output_type": "display_data",
          "data": {
            "application/vnd.colab-display-data+json": {
              "pip_warning": {
                "packages": [
                  "gast",
                  "h5py",
                  "numpy",
                  "tensorboard",
                  "tensorflow"
                ]
              }
            }
          },
          "metadata": {
            "tags": []
          }
        },
        {
          "output_type": "stream",
          "text": [
            "Collecting tensorflow-gpu==1.15\n",
            "\u001b[?25l  Downloading https://files.pythonhosted.org/packages/bc/72/d06017379ad4760dc58781c765376ce4ba5dcf3c08d37032eeefbccf1c51/tensorflow_gpu-1.15.0-cp37-cp37m-manylinux2010_x86_64.whl (411.5MB)\n",
            "\u001b[K     |████████████████████████████████| 411.5MB 45kB/s \n",
            "\u001b[?25hRequirement already satisfied: absl-py>=0.7.0 in /usr/local/lib/python3.7/dist-packages (from tensorflow-gpu==1.15) (0.12.0)\n",
            "Requirement already satisfied: numpy<2.0,>=1.16.0 in /usr/local/lib/python3.7/dist-packages (from tensorflow-gpu==1.15) (1.18.5)\n",
            "Requirement already satisfied: protobuf>=3.6.1 in /usr/local/lib/python3.7/dist-packages (from tensorflow-gpu==1.15) (3.12.4)\n",
            "Requirement already satisfied: termcolor>=1.1.0 in /usr/local/lib/python3.7/dist-packages (from tensorflow-gpu==1.15) (1.1.0)\n",
            "Requirement already satisfied: opt-einsum>=2.3.2 in /usr/local/lib/python3.7/dist-packages (from tensorflow-gpu==1.15) (3.3.0)\n",
            "Requirement already satisfied: wrapt>=1.11.1 in /usr/local/lib/python3.7/dist-packages (from tensorflow-gpu==1.15) (1.12.1)\n",
            "Requirement already satisfied: astor>=0.6.0 in /usr/local/lib/python3.7/dist-packages (from tensorflow-gpu==1.15) (0.8.1)\n",
            "Requirement already satisfied: gast==0.2.2 in /usr/local/lib/python3.7/dist-packages (from tensorflow-gpu==1.15) (0.2.2)\n",
            "Requirement already satisfied: wheel>=0.26 in /usr/local/lib/python3.7/dist-packages (from tensorflow-gpu==1.15) (0.36.2)\n",
            "Requirement already satisfied: six>=1.10.0 in /usr/local/lib/python3.7/dist-packages (from tensorflow-gpu==1.15) (1.15.0)\n",
            "Requirement already satisfied: keras-preprocessing>=1.0.5 in /usr/local/lib/python3.7/dist-packages (from tensorflow-gpu==1.15) (1.1.2)\n",
            "Requirement already satisfied: tensorflow-estimator==1.15.1 in /usr/local/lib/python3.7/dist-packages (from tensorflow-gpu==1.15) (1.15.1)\n",
            "Requirement already satisfied: google-pasta>=0.1.6 in /usr/local/lib/python3.7/dist-packages (from tensorflow-gpu==1.15) (0.2.0)\n",
            "Requirement already satisfied: tensorboard<1.16.0,>=1.15.0 in /usr/local/lib/python3.7/dist-packages (from tensorflow-gpu==1.15) (1.15.0)\n",
            "Requirement already satisfied: keras-applications>=1.0.8 in /usr/local/lib/python3.7/dist-packages (from tensorflow-gpu==1.15) (1.0.8)\n",
            "Requirement already satisfied: grpcio>=1.8.6 in /usr/local/lib/python3.7/dist-packages (from tensorflow-gpu==1.15) (1.34.1)\n",
            "Requirement already satisfied: setuptools in /usr/local/lib/python3.7/dist-packages (from protobuf>=3.6.1->tensorflow-gpu==1.15) (57.0.0)\n",
            "Requirement already satisfied: markdown>=2.6.8 in /usr/local/lib/python3.7/dist-packages (from tensorboard<1.16.0,>=1.15.0->tensorflow-gpu==1.15) (3.3.4)\n",
            "Requirement already satisfied: werkzeug>=0.11.15 in /usr/local/lib/python3.7/dist-packages (from tensorboard<1.16.0,>=1.15.0->tensorflow-gpu==1.15) (1.0.1)\n",
            "Requirement already satisfied: h5py in /usr/local/lib/python3.7/dist-packages (from keras-applications>=1.0.8->tensorflow-gpu==1.15) (2.10.0)\n",
            "Requirement already satisfied: importlib-metadata; python_version < \"3.8\" in /usr/local/lib/python3.7/dist-packages (from markdown>=2.6.8->tensorboard<1.16.0,>=1.15.0->tensorflow-gpu==1.15) (4.5.0)\n",
            "Requirement already satisfied: zipp>=0.5 in /usr/local/lib/python3.7/dist-packages (from importlib-metadata; python_version < \"3.8\"->markdown>=2.6.8->tensorboard<1.16.0,>=1.15.0->tensorflow-gpu==1.15) (3.4.1)\n",
            "Requirement already satisfied: typing-extensions>=3.6.4; python_version < \"3.8\" in /usr/local/lib/python3.7/dist-packages (from importlib-metadata; python_version < \"3.8\"->markdown>=2.6.8->tensorboard<1.16.0,>=1.15.0->tensorflow-gpu==1.15) (3.7.4.3)\n",
            "Installing collected packages: tensorflow-gpu\n",
            "Successfully installed tensorflow-gpu-1.15.0\n"
          ],
          "name": "stdout"
        },
        {
          "output_type": "display_data",
          "data": {
            "application/vnd.colab-display-data+json": {
              "pip_warning": {
                "packages": [
                  "tensorflow"
                ]
              }
            }
          },
          "metadata": {
            "tags": []
          }
        },
        {
          "output_type": "stream",
          "text": [
            "Collecting keras==2.2.4.\n",
            "\u001b[?25l  Downloading https://files.pythonhosted.org/packages/5e/10/aa32dad071ce52b5502266b5c659451cfd6ffcbf14e6c8c4f16c0ff5aaab/Keras-2.2.4-py2.py3-none-any.whl (312kB)\n",
            "\r\u001b[K     |█                               | 10kB 20.0MB/s eta 0:00:01\r\u001b[K     |██                              | 20kB 19.7MB/s eta 0:00:01\r\u001b[K     |███▏                            | 30kB 15.2MB/s eta 0:00:01\r\u001b[K     |████▏                           | 40kB 13.7MB/s eta 0:00:01\r\u001b[K     |█████▎                          | 51kB 10.0MB/s eta 0:00:01\r\u001b[K     |██████▎                         | 61kB 11.4MB/s eta 0:00:01\r\u001b[K     |███████▍                        | 71kB 12.1MB/s eta 0:00:01\r\u001b[K     |████████▍                       | 81kB 13.2MB/s eta 0:00:01\r\u001b[K     |█████████▍                      | 92kB 11.0MB/s eta 0:00:01\r\u001b[K     |██████████▌                     | 102kB 11.8MB/s eta 0:00:01\r\u001b[K     |███████████▌                    | 112kB 11.8MB/s eta 0:00:01\r\u001b[K     |████████████▋                   | 122kB 11.8MB/s eta 0:00:01\r\u001b[K     |█████████████▋                  | 133kB 11.8MB/s eta 0:00:01\r\u001b[K     |██████████████▊                 | 143kB 11.8MB/s eta 0:00:01\r\u001b[K     |███████████████▊                | 153kB 11.8MB/s eta 0:00:01\r\u001b[K     |████████████████▊               | 163kB 11.8MB/s eta 0:00:01\r\u001b[K     |█████████████████▉              | 174kB 11.8MB/s eta 0:00:01\r\u001b[K     |██████████████████▉             | 184kB 11.8MB/s eta 0:00:01\r\u001b[K     |████████████████████            | 194kB 11.8MB/s eta 0:00:01\r\u001b[K     |█████████████████████           | 204kB 11.8MB/s eta 0:00:01\r\u001b[K     |██████████████████████          | 215kB 11.8MB/s eta 0:00:01\r\u001b[K     |███████████████████████         | 225kB 11.8MB/s eta 0:00:01\r\u001b[K     |████████████████████████▏       | 235kB 11.8MB/s eta 0:00:01\r\u001b[K     |█████████████████████████▏      | 245kB 11.8MB/s eta 0:00:01\r\u001b[K     |██████████████████████████▏     | 256kB 11.8MB/s eta 0:00:01\r\u001b[K     |███████████████████████████▎    | 266kB 11.8MB/s eta 0:00:01\r\u001b[K     |████████████████████████████▎   | 276kB 11.8MB/s eta 0:00:01\r\u001b[K     |█████████████████████████████▍  | 286kB 11.8MB/s eta 0:00:01\r\u001b[K     |██████████████████████████████▍ | 296kB 11.8MB/s eta 0:00:01\r\u001b[K     |███████████████████████████████▌| 307kB 11.8MB/s eta 0:00:01\r\u001b[K     |████████████████████████████████| 317kB 11.8MB/s \n",
            "\u001b[?25hRequirement already satisfied: numpy>=1.9.1 in /usr/local/lib/python3.7/dist-packages (from keras==2.2.4.) (1.18.5)\n",
            "Requirement already satisfied: keras-preprocessing>=1.0.5 in /usr/local/lib/python3.7/dist-packages (from keras==2.2.4.) (1.1.2)\n",
            "Requirement already satisfied: keras-applications>=1.0.6 in /usr/local/lib/python3.7/dist-packages (from keras==2.2.4.) (1.0.8)\n",
            "Requirement already satisfied: scipy>=0.14 in /usr/local/lib/python3.7/dist-packages (from keras==2.2.4.) (1.4.1)\n",
            "Requirement already satisfied: pyyaml in /usr/local/lib/python3.7/dist-packages (from keras==2.2.4.) (3.13)\n",
            "Requirement already satisfied: h5py in /usr/local/lib/python3.7/dist-packages (from keras==2.2.4.) (2.10.0)\n",
            "Requirement already satisfied: six>=1.9.0 in /usr/local/lib/python3.7/dist-packages (from keras==2.2.4.) (1.15.0)\n",
            "Installing collected packages: keras\n",
            "  Found existing installation: Keras 2.4.3\n",
            "    Uninstalling Keras-2.4.3:\n",
            "      Successfully uninstalled Keras-2.4.3\n",
            "Successfully installed keras-2.2.4\n"
          ],
          "name": "stdout"
        },
        {
          "output_type": "display_data",
          "data": {
            "application/vnd.colab-display-data+json": {
              "pip_warning": {
                "packages": [
                  "keras"
                ]
              }
            }
          },
          "metadata": {
            "tags": []
          }
        }
      ]
    },
    {
      "cell_type": "markdown",
      "metadata": {
        "id": "pSFxAVJc2I5A"
      },
      "source": [
        "# Imports"
      ]
    },
    {
      "cell_type": "code",
      "metadata": {
        "id": "6oz163OiF_Mq"
      },
      "source": [
        "import numpy as np\n",
        "import pandas as pd\n",
        "from datetime import datetime\n",
        "import matplotlib.pyplot as plt\n",
        "from sklearn import preprocessing\n",
        "from sklearn.metrics import accuracy_score\n",
        "\n",
        "from google.colab import drive"
      ],
      "execution_count": 1,
      "outputs": []
    },
    {
      "cell_type": "code",
      "metadata": {
        "id": "8TbGkLhkKLl9",
        "colab": {
          "base_uri": "https://localhost:8080/"
        },
        "outputId": "39ef96b6-2706-4035-c9ed-a79acdb1ab1b"
      },
      "source": [
        "from keras import backend as K\n",
        "from keras.layers import Layer\n",
        "from keras import activations\n",
        "from keras import initializers\n",
        "from keras.layers import Dense, SimpleRNN, Flatten\n",
        "from keras.layers.recurrent import Recurrent\n",
        "from keras.models import Sequential\n",
        "from keras.optimizers import sgd\n",
        "from keras.utils.np_utils import to_categorical\n",
        "\n",
        "from tensorflow import set_random_seed as tf_random_seed\n",
        "import tensorflow as tf"
      ],
      "execution_count": 2,
      "outputs": [
        {
          "output_type": "stream",
          "text": [
            "Using TensorFlow backend.\n"
          ],
          "name": "stderr"
        }
      ]
    },
    {
      "cell_type": "code",
      "metadata": {
        "id": "KpWauYnh4IzE"
      },
      "source": [
        "np.random.seed(100)\n",
        "tf_random_seed(100)"
      ],
      "execution_count": 3,
      "outputs": []
    },
    {
      "cell_type": "code",
      "metadata": {
        "colab": {
          "base_uri": "https://localhost:8080/"
        },
        "id": "lodNRvE6Mamp",
        "outputId": "c5a2fd0a-49d8-46c9-ada4-0257a68fbdb7"
      },
      "source": [
        "drive.mount('/content/drive')"
      ],
      "execution_count": 4,
      "outputs": [
        {
          "output_type": "stream",
          "text": [
            "Drive already mounted at /content/drive; to attempt to forcibly remount, call drive.mount(\"/content/drive\", force_remount=True).\n"
          ],
          "name": "stdout"
        }
      ]
    },
    {
      "cell_type": "code",
      "metadata": {
        "id": "V2QJznVfoqjZ",
        "colab": {
          "base_uri": "https://localhost:8080/"
        },
        "outputId": "7c05aed8-8754-4444-f506-b50200692ce5"
      },
      "source": [
        "device_name = tf.test.gpu_device_name()\n",
        "if device_name != '/device:GPU:0':\n",
        "  raise SystemError('GPU device not found')\n",
        "print('Found GPU at: {}'.format(device_name))"
      ],
      "execution_count": 5,
      "outputs": [
        {
          "output_type": "stream",
          "text": [
            "Found GPU at: /device:GPU:0\n"
          ],
          "name": "stdout"
        }
      ]
    },
    {
      "cell_type": "markdown",
      "metadata": {
        "id": "vwNPmPylSh8x"
      },
      "source": [
        "# TT Recurrent Layer"
      ]
    },
    {
      "cell_type": "code",
      "metadata": {
        "id": "-MN0yz5cTm2A"
      },
      "source": [
        "class TTRecurrentLayer(Recurrent):\n",
        "    def __init__(self, tt_input, tt_output, tt_ranks, activation='tanh', kernel_initializer='glorot_uniform', recurrent_initializer='orthogonal', bias_initializer='zeros', **kwargs):\n",
        "        self.tt_input = np.array(tt_input)\n",
        "        self.tt_output = np.array(tt_output)\n",
        "        self.tt_ranks = np.array(tt_ranks)\n",
        "        self.num_dim = self.tt_input.shape[0]\n",
        "        self.parameters = np.sum(self.tt_input*self.tt_output*self.tt_ranks[1:]*self.tt_ranks[:-1])\n",
        "        self.units = np.prod(np.array(tt_output))\n",
        "        self.activation = activations.get(activation)\n",
        "        self.kernel_initializer = initializers.get(kernel_initializer)\n",
        "        self.recurrent_initializer = initializers.get(recurrent_initializer)\n",
        "        self.bias_initializer = initializers.get(bias_initializer)\n",
        "\n",
        "        super(TTRecurrentLayer, self).__init__(**kwargs)\n",
        "\n",
        "    def build(self, input_shape):\n",
        "        self.states = [None]\n",
        "        if self.stateful:\n",
        "            self.reset_states()\n",
        "\n",
        "        self.kernel = self.add_weight((self.parameters,), initializer=self.kernel_initializer, name='kernel')\n",
        "        self.bias = self.add_weight((np.prod(self.tt_output), ), initializer=self.bias_initializer, name='bias')\n",
        "\n",
        "        self.indices = np.zeros(self.num_dim).astype('int32')\n",
        "        self.shapes = np.zeros((self.num_dim, 2)).astype('int32')\n",
        "        self.cores = [None] * self.num_dim\n",
        "\n",
        "        for k in range(self.num_dim - 1, -1, -1):\n",
        "            self.shapes[k] = (self.tt_input[k] * self.tt_ranks[k + 1], self.tt_ranks[k] * self.tt_output[k])\n",
        "            self.cores[k] = self.kernel[self.indices[k]:self.indices[k] + np.prod(self.shapes[k])]\n",
        "            if 0 < k:\n",
        "                self.indices[k - 1] = self.indices[k] + np.prod(self.shapes[k])\n",
        "\n",
        "        self.recurrent_kernel = self.add_weight(shape=(self.units, self.units),name='recurrent_kernel',initializer=self.recurrent_initializer)\n",
        "        \n",
        "        fully_connected_params = (np.prod(self.tt_input) * np.prod(self.tt_output))\n",
        "\n",
        "        print ('Model TT ranks: ' + str(self.tt_ranks))\n",
        "        print ('TT number of parameters: ', self.parameters)\n",
        "        print ('Equivalent fully connected layer parameters: ', fully_connected_params)\n",
        "        \n",
        "    def preprocess_input(self, x, training=None):\n",
        "        return x\n",
        "\n",
        "    def step(self, x, states):\n",
        "        res = x\n",
        "        for i in range(self.num_dim - 1, -1, -1):\n",
        "            res = K.dot(K.reshape(res, (-1, self.shapes[i][0])), K.reshape(self.cores[i], self.shapes[i]))\n",
        "            res = K.transpose(K.reshape(res, (-1, self.tt_output[i])))\n",
        "        res = K.transpose(K.reshape(res, (-1, K.shape(x)[0])))\n",
        "                \n",
        "        h = res + self.bias\n",
        "\n",
        "        prev_output = states[0]\n",
        "        output = h + K.dot(prev_output, self.recurrent_kernel)\n",
        "        output = self.activation(output)\n",
        "\n",
        "        return output, [output]"
      ],
      "execution_count": 6,
      "outputs": []
    },
    {
      "cell_type": "markdown",
      "metadata": {
        "id": "jLmX7UvAT9KB"
      },
      "source": [
        "# Models"
      ]
    },
    {
      "cell_type": "code",
      "metadata": {
        "id": "xwW0olP1TCWt"
      },
      "source": [
        "def create_RNN(n=1024, lr=1e-3):\n",
        "    model = Sequential()\n",
        "    model.add(SimpleRNN(units=n,activation='tanh', return_sequences=False))\n",
        "    model.add(Dense(units=3, activation='softmax'))\n",
        "    model.compile(optimizer=sgd(lr), loss='categorical_crossentropy', metrics=['acc'])\n",
        "    return model"
      ],
      "execution_count": 8,
      "outputs": []
    },
    {
      "cell_type": "code",
      "metadata": {
        "id": "s8BYBeqhSmLB"
      },
      "source": [
        "def create_TTRNN(tt_input, tt_output, tt_ranks, lr=1e-3):\n",
        "    model = Sequential()\n",
        "    model.add(TTRecurrentLayer(tt_input, tt_output, tt_ranks, activation='tanh', return_sequences=False)) # activation sigmoid to introduce gating instead\n",
        "    model.add(Dense(units=3, activation='softmax'))\n",
        "    model.compile(optimizer=sgd(lr), loss='categorical_crossentropy', metrics=['acc'])\n",
        "    return model"
      ],
      "execution_count": 7,
      "outputs": []
    },
    {
      "cell_type": "markdown",
      "metadata": {
        "id": "fiMEwDMlVCB4"
      },
      "source": [
        "# Utility Functions"
      ]
    },
    {
      "cell_type": "code",
      "metadata": {
        "id": "rQtLFxGm4cRR"
      },
      "source": [
        "def maximum_drawdown(input):\n",
        "  x = input.cumsum().values\n",
        "  i = np.argmax(np.maximum.accumulate(x)-x) \n",
        "  j = np.argmax(x[:i])\n",
        "  return (x[i]-x[j]), (i-j)"
      ],
      "execution_count": 8,
      "outputs": []
    },
    {
      "cell_type": "code",
      "metadata": {
        "id": "saSUYVfaVEmg"
      },
      "source": [
        "def trading_results(input):\n",
        "  df = pd.Series()\n",
        "  df['Total return (%)'] = sum(input)\n",
        "  df['Accuracy (%)'] = 100*len(input[input>0])/len(input)\n",
        "  df['Average return (%)'] = input.mean()\n",
        "  df['Maximum drawdown (%)'] = maximum_drawdown(input)[0]\n",
        "  df['Drawdown duration (Days)'] = maximum_drawdown(input)[1]\n",
        "  df['Sharpe ratio'] = input.mean()/input.std()\n",
        "  df['Skew'] = input.skew()\n",
        "  df['Kurtosis'] = input.kurtosis()\n",
        "  return df"
      ],
      "execution_count": 9,
      "outputs": []
    },
    {
      "cell_type": "code",
      "metadata": {
        "id": "zdWXdCpUVNIP"
      },
      "source": [
        "def get_data(ticker, input_path = 'drive/My Drive/FYP Data/'):\n",
        "    input_file = input_path+ticker+'.csv'\n",
        "    data = pd.read_csv(input_file, header=0, index_col=0)\n",
        "    data.index = pd.to_datetime(data.index)\n",
        "    data = data.astype(float)\n",
        "    data = data.sort_index()\n",
        "    return data"
      ],
      "execution_count": 10,
      "outputs": []
    },
    {
      "cell_type": "code",
      "metadata": {
        "id": "iPmIH9CXVaHJ"
      },
      "source": [
        "tickers = ['DAX','NKY','SPX','USDJPY','USDEUR','USDGBP','ZG','T','NG','DE10YT','JP10YT','US10YT']"
      ],
      "execution_count": 11,
      "outputs": []
    },
    {
      "cell_type": "markdown",
      "metadata": {
        "id": "VBm_dqHmG793"
      },
      "source": [
        "# Standard Recurrent Neural Network Model"
      ]
    },
    {
      "cell_type": "markdown",
      "metadata": {
        "id": "gRhadvTBHBbf"
      },
      "source": [
        "## Pre-processing of Data"
      ]
    },
    {
      "cell_type": "code",
      "metadata": {
        "id": "vhmz584NHDqD"
      },
      "source": [
        "labels = pd.read_csv('drive/My Drive/FYP Data/labels.csv', index_col=0, header=0)\n",
        "output = np.sign(labels['SPX'])+1 # 0,1,2 or negative, neutral, positive\n",
        "output = to_categorical(output)"
      ],
      "execution_count": 14,
      "outputs": []
    },
    {
      "cell_type": "code",
      "metadata": {
        "id": "MhxPLdkHHW62"
      },
      "source": [
        "X = np.zeros((3735,180)) # 3735 time steps, 180 = 15*3*4\n",
        "\n",
        "for ticker in tickers:\n",
        "  tmp_idx1 = tickers.index(ticker)*15\n",
        "  tmp_idx2 = tmp_idx1+15\n",
        "  X[:, tmp_idx1:tmp_idx2] = get_data(ticker).values"
      ],
      "execution_count": 15,
      "outputs": []
    },
    {
      "cell_type": "code",
      "metadata": {
        "id": "2J0_Ux_IIKvu"
      },
      "source": [
        "split_idx = int(3735*0.9)\n",
        "X_train = X[:split_idx]\n",
        "X_test = X[split_idx:]\n",
        "y_train = output[:split_idx]\n",
        "y_test = output[split_idx:]"
      ],
      "execution_count": 16,
      "outputs": []
    },
    {
      "cell_type": "code",
      "metadata": {
        "id": "wAZE2oPQIPpV"
      },
      "source": [
        "scaler = preprocessing.StandardScaler()\n",
        "scaler.fit(X_train)\n",
        "X_train = scaler.transform(X_train)\n",
        "X_test = scaler.transform(X_test)"
      ],
      "execution_count": 17,
      "outputs": []
    },
    {
      "cell_type": "code",
      "metadata": {
        "id": "j6QOr8JLWF0c"
      },
      "source": [
        "time_step = 22\n",
        "\n",
        "RNN_X_train = np.zeros((X_train.shape[0]-time_step,time_step,180))\n",
        "RNN_y_train = np.zeros((y_train.shape[0]-time_step,y_train.shape[1]))\n",
        "RNN_X_test = np.zeros((X_test.shape[0]-time_step,time_step,180))\n",
        "RNN_y_test = np.zeros((y_test.shape[0]-time_step,y_test.shape[1]))\n",
        "\n",
        "for i in range(time_step, X_train.shape[0]):\n",
        "  RNN_X_train[i-time_step] = X_train[i-time_step:i]\n",
        "  RNN_y_train[i-time_step] = y_train[:i][-1]\n",
        "  \n",
        "for i in range(time_step, X_test.shape[0]):\n",
        "  RNN_X_test[i-time_step]=X_test[i-time_step:i]\n",
        "  RNN_y_test[i-time_step]=y_test[:i][-1]"
      ],
      "execution_count": 18,
      "outputs": []
    },
    {
      "cell_type": "markdown",
      "metadata": {
        "id": "FfvBWYB6JGR8"
      },
      "source": [
        "## Model Training"
      ]
    },
    {
      "cell_type": "code",
      "metadata": {
        "colab": {
          "base_uri": "https://localhost:8080/"
        },
        "id": "KKcXV_e-JIq6",
        "outputId": "e3393fcf-36bf-4247-8c7e-34b81656097a"
      },
      "source": [
        "train_loss = []\n",
        "valid_loss = []\n",
        "train_acc = []\n",
        "valid_acc = []\n",
        "\n",
        "epochs = 20\n",
        "batch_size = 22*3\n",
        "model = create_RNN()\n",
        "\n",
        "start_time = datetime.now()\n",
        "for e in range(epochs):\n",
        "    print('epoch: ', e)\n",
        "    history = model.fit(x=RNN_X_train, y=RNN_y_train, verbose=1, epochs=1, batch_size=batch_size, validation_split=0.1)\n",
        "\n",
        "    train_loss.append(history.history['loss'][0])\n",
        "    valid_loss.append(history.history['val_loss'][0])\n",
        "    train_acc.append(history.history['acc'][0]*100)\n",
        "    valid_acc.append(history.history['val_acc'][0]*100)\n",
        "\n",
        "print('Time elapsed: ', datetime.now()-start_time)"
      ],
      "execution_count": 19,
      "outputs": [
        {
          "output_type": "stream",
          "text": [
            "WARNING:tensorflow:From /usr/local/lib/python3.7/dist-packages/keras/backend/tensorflow_backend.py:74: The name tf.get_default_graph is deprecated. Please use tf.compat.v1.get_default_graph instead.\n",
            "\n",
            "WARNING:tensorflow:From /usr/local/lib/python3.7/dist-packages/keras/optimizers.py:790: The name tf.train.Optimizer is deprecated. Please use tf.compat.v1.train.Optimizer instead.\n",
            "\n",
            "epoch:  0\n",
            "WARNING:tensorflow:From /usr/local/lib/python3.7/dist-packages/keras/backend/tensorflow_backend.py:517: The name tf.placeholder is deprecated. Please use tf.compat.v1.placeholder instead.\n",
            "\n",
            "WARNING:tensorflow:From /usr/local/lib/python3.7/dist-packages/keras/backend/tensorflow_backend.py:4138: The name tf.random_uniform is deprecated. Please use tf.random.uniform instead.\n",
            "\n",
            "WARNING:tensorflow:From /usr/local/lib/python3.7/dist-packages/keras/backend/tensorflow_backend.py:3295: The name tf.log is deprecated. Please use tf.math.log instead.\n",
            "\n",
            "WARNING:tensorflow:From /usr/local/lib/python3.7/dist-packages/tensorflow_core/python/ops/math_grad.py:1424: where (from tensorflow.python.ops.array_ops) is deprecated and will be removed in a future version.\n",
            "Instructions for updating:\n",
            "Use tf.where in 2.0, which has the same broadcast rule as np.where\n",
            "WARNING:tensorflow:From /usr/local/lib/python3.7/dist-packages/keras/backend/tensorflow_backend.py:986: The name tf.assign_add is deprecated. Please use tf.compat.v1.assign_add instead.\n",
            "\n",
            "WARNING:tensorflow:From /usr/local/lib/python3.7/dist-packages/keras/backend/tensorflow_backend.py:973: The name tf.assign is deprecated. Please use tf.compat.v1.assign instead.\n",
            "\n",
            "WARNING:tensorflow:From /usr/local/lib/python3.7/dist-packages/keras/backend/tensorflow_backend.py:2741: The name tf.Session is deprecated. Please use tf.compat.v1.Session instead.\n",
            "\n",
            "Train on 3005 samples, validate on 334 samples\n",
            "Epoch 1/1\n",
            "WARNING:tensorflow:From /usr/local/lib/python3.7/dist-packages/keras/backend/tensorflow_backend.py:174: The name tf.get_default_session is deprecated. Please use tf.compat.v1.get_default_session instead.\n",
            "\n",
            "WARNING:tensorflow:From /usr/local/lib/python3.7/dist-packages/keras/backend/tensorflow_backend.py:181: The name tf.ConfigProto is deprecated. Please use tf.compat.v1.ConfigProto instead.\n",
            "\n",
            "WARNING:tensorflow:From /usr/local/lib/python3.7/dist-packages/keras/backend/tensorflow_backend.py:190: The name tf.global_variables is deprecated. Please use tf.compat.v1.global_variables instead.\n",
            "\n",
            "WARNING:tensorflow:From /usr/local/lib/python3.7/dist-packages/keras/backend/tensorflow_backend.py:199: The name tf.is_variable_initialized is deprecated. Please use tf.compat.v1.is_variable_initialized instead.\n",
            "\n",
            "WARNING:tensorflow:From /usr/local/lib/python3.7/dist-packages/keras/backend/tensorflow_backend.py:206: The name tf.variables_initializer is deprecated. Please use tf.compat.v1.variables_initializer instead.\n",
            "\n",
            "3005/3005 [==============================] - 3s 862us/step - loss: 1.2521 - acc: 0.3381 - val_loss: 1.3561 - val_acc: 0.2605\n",
            "epoch:  1\n",
            "Train on 3005 samples, validate on 334 samples\n",
            "Epoch 1/1\n",
            "3005/3005 [==============================] - 2s 547us/step - loss: 1.1884 - acc: 0.3561 - val_loss: 1.3237 - val_acc: 0.2605\n",
            "epoch:  2\n",
            "Train on 3005 samples, validate on 334 samples\n",
            "Epoch 1/1\n",
            "3005/3005 [==============================] - 2s 534us/step - loss: 1.1414 - acc: 0.3827 - val_loss: 1.3047 - val_acc: 0.2575\n",
            "epoch:  3\n",
            "Train on 3005 samples, validate on 334 samples\n",
            "Epoch 1/1\n",
            "3005/3005 [==============================] - 2s 529us/step - loss: 1.1029 - acc: 0.4083 - val_loss: 1.2919 - val_acc: 0.2515\n",
            "epoch:  4\n",
            "Train on 3005 samples, validate on 334 samples\n",
            "Epoch 1/1\n",
            "3005/3005 [==============================] - 2s 527us/step - loss: 1.0700 - acc: 0.4366 - val_loss: 1.2770 - val_acc: 0.2605\n",
            "epoch:  5\n",
            "Train on 3005 samples, validate on 334 samples\n",
            "Epoch 1/1\n",
            "3005/3005 [==============================] - 2s 527us/step - loss: 1.0411 - acc: 0.4569 - val_loss: 1.2677 - val_acc: 0.2695\n",
            "epoch:  6\n",
            "Train on 3005 samples, validate on 334 samples\n",
            "Epoch 1/1\n",
            "3005/3005 [==============================] - 2s 529us/step - loss: 1.0151 - acc: 0.4705 - val_loss: 1.2580 - val_acc: 0.2695\n",
            "epoch:  7\n",
            "Train on 3005 samples, validate on 334 samples\n",
            "Epoch 1/1\n",
            "3005/3005 [==============================] - 2s 535us/step - loss: 0.9915 - acc: 0.4872 - val_loss: 1.2480 - val_acc: 0.2725\n",
            "epoch:  8\n",
            "Train on 3005 samples, validate on 334 samples\n",
            "Epoch 1/1\n",
            "3005/3005 [==============================] - 2s 524us/step - loss: 0.9701 - acc: 0.5028 - val_loss: 1.2392 - val_acc: 0.2814\n",
            "epoch:  9\n",
            "Train on 3005 samples, validate on 334 samples\n",
            "Epoch 1/1\n",
            "3005/3005 [==============================] - 2s 525us/step - loss: 0.9503 - acc: 0.5195 - val_loss: 1.2290 - val_acc: 0.2844\n",
            "epoch:  10\n",
            "Train on 3005 samples, validate on 334 samples\n",
            "Epoch 1/1\n",
            "3005/3005 [==============================] - 2s 530us/step - loss: 0.9320 - acc: 0.5341 - val_loss: 1.2217 - val_acc: 0.2814\n",
            "epoch:  11\n",
            "Train on 3005 samples, validate on 334 samples\n",
            "Epoch 1/1\n",
            "3005/3005 [==============================] - 2s 536us/step - loss: 0.9146 - acc: 0.5471 - val_loss: 1.2143 - val_acc: 0.3024\n",
            "epoch:  12\n",
            "Train on 3005 samples, validate on 334 samples\n",
            "Epoch 1/1\n",
            "3005/3005 [==============================] - 2s 538us/step - loss: 0.8985 - acc: 0.5604 - val_loss: 1.2082 - val_acc: 0.3084\n",
            "epoch:  13\n",
            "Train on 3005 samples, validate on 334 samples\n",
            "Epoch 1/1\n",
            "3005/3005 [==============================] - 2s 533us/step - loss: 0.8835 - acc: 0.5697 - val_loss: 1.2007 - val_acc: 0.3144\n",
            "epoch:  14\n",
            "Train on 3005 samples, validate on 334 samples\n",
            "Epoch 1/1\n",
            "3005/3005 [==============================] - 2s 536us/step - loss: 0.8689 - acc: 0.5790 - val_loss: 1.1943 - val_acc: 0.3144\n",
            "epoch:  15\n",
            "Train on 3005 samples, validate on 334 samples\n",
            "Epoch 1/1\n",
            "3005/3005 [==============================] - 2s 536us/step - loss: 0.8555 - acc: 0.5880 - val_loss: 1.1895 - val_acc: 0.3144\n",
            "epoch:  16\n",
            "Train on 3005 samples, validate on 334 samples\n",
            "Epoch 1/1\n",
            "3005/3005 [==============================] - 2s 542us/step - loss: 0.8424 - acc: 0.5997 - val_loss: 1.1830 - val_acc: 0.3263\n",
            "epoch:  17\n",
            "Train on 3005 samples, validate on 334 samples\n",
            "Epoch 1/1\n",
            "3005/3005 [==============================] - 2s 536us/step - loss: 0.8301 - acc: 0.6100 - val_loss: 1.1799 - val_acc: 0.3263\n",
            "epoch:  18\n",
            "Train on 3005 samples, validate on 334 samples\n",
            "Epoch 1/1\n",
            "3005/3005 [==============================] - 2s 530us/step - loss: 0.8184 - acc: 0.6126 - val_loss: 1.1711 - val_acc: 0.3323\n",
            "epoch:  19\n",
            "Train on 3005 samples, validate on 334 samples\n",
            "Epoch 1/1\n",
            "3005/3005 [==============================] - 2s 530us/step - loss: 0.8073 - acc: 0.6186 - val_loss: 1.1637 - val_acc: 0.3413\n",
            "Time elapsed:  0:00:34.576979\n"
          ],
          "name": "stdout"
        }
      ]
    },
    {
      "cell_type": "code",
      "metadata": {
        "id": "Ir8Rtv2PVkon",
        "colab": {
          "base_uri": "https://localhost:8080/"
        },
        "outputId": "59112f86-3874-4d4f-a8bb-65fba1e74d60"
      },
      "source": [
        "model.summary()"
      ],
      "execution_count": 20,
      "outputs": [
        {
          "output_type": "stream",
          "text": [
            "_________________________________________________________________\n",
            "Layer (type)                 Output Shape              Param #   \n",
            "=================================================================\n",
            "simple_rnn_1 (SimpleRNN)     (None, 1024)              1233920   \n",
            "_________________________________________________________________\n",
            "dense_1 (Dense)              (None, 3)                 3075      \n",
            "=================================================================\n",
            "Total params: 1,236,995\n",
            "Trainable params: 1,236,995\n",
            "Non-trainable params: 0\n",
            "_________________________________________________________________\n"
          ],
          "name": "stdout"
        }
      ]
    },
    {
      "cell_type": "markdown",
      "metadata": {
        "id": "Kcd0ympjR1jX"
      },
      "source": [
        "## Analysis"
      ]
    },
    {
      "cell_type": "code",
      "metadata": {
        "colab": {
          "base_uri": "https://localhost:8080/",
          "height": 543
        },
        "id": "J3m0MKI6R3tT",
        "outputId": "c41a634a-b034-4355-812f-b658b9f72ef5"
      },
      "source": [
        "fig, axes = plt.subplots(2,1)\n",
        "\n",
        "ax=axes[0]\n",
        "ax.plot([i for i in range(1,epochs+1)], train_loss, marker='o', markersize=4)\n",
        "ax.plot([i for i in range(1,epochs+1)], valid_loss, marker='o', markersize=4)\n",
        "ax.legend(['Train', 'Validation'],loc='best')\n",
        "ax.set_title('Cross-entropy loss')\n",
        "ax.set_xlabel('Epoch')\n",
        "ax.set_ylabel('Loss')\n",
        "ax.set_xlim([1,20])\n",
        "\n",
        "ax=axes[1]\n",
        "ax.plot([i for i in range(1,epochs+1)], train_acc, marker='o', markersize=4)\n",
        "ax.plot([i for i in range(1,epochs+1)], valid_acc, marker='o', markersize=4)\n",
        "ax.legend(['Train', 'Validation'],loc='best')\n",
        "ax.set_title('Accuracy')\n",
        "ax.set_xlabel('Epoch')\n",
        "ax.set_ylabel('Accuracy (%)')\n",
        "ax.set_xlim([1,20])\n",
        "\n",
        "fig.set_size_inches(12,6)\n",
        "fig.tight_layout()\n",
        "\n",
        "print('train loss: ',train_loss[19])\n",
        "print('validation loss: ', valid_loss[19], '\\n')\n",
        "print('train accuracy: ',train_acc[19])\n",
        "print('validation accuracy: ', valid_acc[19], '\\n')"
      ],
      "execution_count": 21,
      "outputs": [
        {
          "output_type": "stream",
          "text": [
            "train loss:  0.8072562766154475\n",
            "validation loss:  1.1637227435311872 \n",
            "\n",
            "train accuracy:  61.86356025606939\n",
            "validation accuracy:  34.13173694632011 \n",
            "\n"
          ],
          "name": "stdout"
        },
        {
          "output_type": "display_data",
          "data": {
            "image/png": "[encoded data removed]",
            "text/plain": [
              "<Figure size 864x432 with 2 Axes>"
            ]
          },
          "metadata": {
            "tags": [],
            "needs_background": "light"
          }
        }
      ]
    },
    {
      "cell_type": "markdown",
      "metadata": {
        "id": "A5yir7M2i3xc"
      },
      "source": [
        "## Backtest"
      ]
    },
    {
      "cell_type": "code",
      "metadata": {
        "id": "arQDzQcTLICn",
        "colab": {
          "base_uri": "https://localhost:8080/",
          "height": 227
        },
        "outputId": "673f49d9-51f3-4bc9-bbd1-8584980a06b2"
      },
      "source": [
        "returns = labels['SPX'][-RNN_y_test.shape[0]:]*100\n",
        "\n",
        "idx = model.predict(RNN_X_test).argmax(1)-1\n",
        "idx = idx*model.predict(RNN_X_test).max(1)\n",
        "\n",
        "predicted = returns*idx\n",
        "\n",
        "returns.index = pd.to_datetime(returns.index)\n",
        "predicted.index = pd.to_datetime(predicted.index)\n",
        "\n",
        "fig, axes =  plt.subplots()\n",
        "axes.plot(returns.cumsum())\n",
        "axes.plot(predicted.cumsum())\n",
        "axes.legend(['Actual', 'Forecast'], loc='best')\n",
        "axes.set_title('Backtesting with SPX')\n",
        "axes.set_ylabel('Cumulative log returns (%)')\n",
        "fig.set_size_inches(12,3)"
      ],
      "execution_count": 26,
      "outputs": [
        {
          "output_type": "display_data",
          "data": {
            "image/png": "[encoded data removed]",
            "text/plain": [
              "<Figure size 864x216 with 1 Axes>"
            ]
          },
          "metadata": {
            "tags": [],
            "needs_background": "light"
          }
        }
      ]
    },
    {
      "cell_type": "code",
      "metadata": {
        "colab": {
          "base_uri": "https://localhost:8080/"
        },
        "id": "BnX6_G2SkXiT",
        "outputId": "d73a33a9-69d9-42d1-c970-1fda1a4f5406"
      },
      "source": [
        "trading_results(predicted)"
      ],
      "execution_count": 29,
      "outputs": [
        {
          "output_type": "stream",
          "text": [
            "/usr/local/lib/python3.7/dist-packages/ipykernel_launcher.py:2: DeprecationWarning: The default dtype for empty Series will be 'object' instead of 'float64' in a future version. Specify a dtype explicitly to silence this warning.\n",
            "  \n"
          ],
          "name": "stderr"
        },
        {
          "output_type": "execute_result",
          "data": {
            "text/plain": [
              "Total return (%)           -12.887647\n",
              "Accuracy (%)                23.579545\n",
              "Average return (%)          -0.036613\n",
              "Maximum drawdown (%)       -28.793144\n",
              "Drawdown duration (Days)    81.000000\n",
              "Sharpe ratio                -0.038219\n",
              "Skew                        -0.673401\n",
              "Kurtosis                    16.117346\n",
              "dtype: float64"
            ]
          },
          "metadata": {
            "tags": []
          },
          "execution_count": 29
        }
      ]
    },
    {
      "cell_type": "code",
      "metadata": {
        "id": "De8OpuxbkbJ_",
        "colab": {
          "base_uri": "https://localhost:8080/"
        },
        "outputId": "be7ccfda-a632-4629-d968-1d6f46a7f9d0"
      },
      "source": [
        "# test results\n",
        "score = model.evaluate(RNN_X_test,RNN_y_test, batch_size=22*3)\n",
        "score"
      ],
      "execution_count": 30,
      "outputs": [
        {
          "output_type": "stream",
          "text": [
            "352/352 [==============================] - 0s 330us/step\n"
          ],
          "name": "stdout"
        },
        {
          "output_type": "execute_result",
          "data": {
            "text/plain": [
              "[1.250395692884922, 0.26988636888563633]"
            ]
          },
          "metadata": {
            "tags": []
          },
          "execution_count": 30
        }
      ]
    },
    {
      "cell_type": "markdown",
      "metadata": {
        "id": "x3mL3epPQ3Kr"
      },
      "source": [
        "# TT Recurrent Neural Network Model"
      ]
    },
    {
      "cell_type": "markdown",
      "metadata": {
        "id": "tVVJu1GJMQUf"
      },
      "source": [
        "## Pre-processing of Data"
      ]
    },
    {
      "cell_type": "code",
      "metadata": {
        "id": "kFErKNUUMT-a"
      },
      "source": [
        "labels = pd.read_csv('drive/My Drive/FYP Data/labels.csv', index_col=0, header=0)\n",
        "output = np.sign(labels['SPX'])+1 # 0,1,2 or negative, neutral, positive\n",
        "output = to_categorical(output)"
      ],
      "execution_count": 12,
      "outputs": []
    },
    {
      "cell_type": "code",
      "metadata": {
        "id": "FGhrzjyjMW2d"
      },
      "source": [
        "X = np.zeros((3735,180))\n",
        "\n",
        "for ticker in tickers:\n",
        "  tmp_idx1 = tickers.index(ticker)*15\n",
        "  tmp_idx2 = tmp_idx1+15\n",
        "  X[:, tmp_idx1:tmp_idx2] = get_data(ticker).values"
      ],
      "execution_count": 13,
      "outputs": []
    },
    {
      "cell_type": "code",
      "metadata": {
        "id": "4Y_dXpkKMXDf"
      },
      "source": [
        "split_idx = int(3735*0.9)\n",
        "\n",
        "X_train = X[:split_idx]\n",
        "X_test = X[split_idx:]\n",
        "y_train = output[:split_idx]\n",
        "y_test = output[split_idx:]"
      ],
      "execution_count": 14,
      "outputs": []
    },
    {
      "cell_type": "code",
      "metadata": {
        "id": "l3Eb0ETBMXGd"
      },
      "source": [
        "scaler = preprocessing.StandardScaler()\n",
        "scaler.fit(X_train)\n",
        "X_train = scaler.transform(X_train)\n",
        "X_test = scaler.transform(X_test)"
      ],
      "execution_count": 15,
      "outputs": []
    },
    {
      "cell_type": "code",
      "metadata": {
        "id": "qnECzivPMdvc"
      },
      "source": [
        "time_step = 22\n",
        "\n",
        "RNN_X_train = np.zeros((X_train.shape[0]-time_step,time_step,180))\n",
        "RNN_y_train = np.zeros((y_train.shape[0]-time_step,y_train.shape[1]))\n",
        "RNN_X_test = np.zeros((X_test.shape[0]-time_step,time_step,180))\n",
        "RNN_y_test = np.zeros((y_test.shape[0]-time_step,y_test.shape[1]))\n",
        "\n",
        "for i in range(time_step, X_train.shape[0]):\n",
        "  RNN_X_train[i-time_step]=X_train[i-time_step:i]\n",
        "  RNN_y_train[i-time_step]=y_train[:i][-1]\n",
        "  \n",
        "for i in range(time_step, X_test.shape[0]):\n",
        "  RNN_X_test[i-time_step]=X_test[i-time_step:i]\n",
        "  RNN_y_test[i-time_step]=y_test[:i][-1]"
      ],
      "execution_count": 16,
      "outputs": []
    },
    {
      "cell_type": "markdown",
      "metadata": {
        "id": "q13Y8RQ6Q_Sr"
      },
      "source": [
        "## Model Training"
      ]
    },
    {
      "cell_type": "code",
      "metadata": {
        "id": "ODBcPcV5RB6w",
        "colab": {
          "base_uri": "https://localhost:8080/"
        },
        "outputId": "ae92a86c-6a60-4460-ac30-901df1114163"
      },
      "source": [
        "epochs = 20\n",
        "batch_size = 22*3\n",
        "ranks = [1,2,3,4,5,6,7,8,9,10]\n",
        "parameters = []\n",
        "\n",
        "# so far tried:\n",
        "# 1x5x3x4x3 best\n",
        "# 1x5x3x3x4 not good\n",
        "# 1x3x5x4x3 not good\n",
        "\n",
        "tt_input = [1,5,3,4,3]\n",
        "tt_output = [4,4,4,4,4]\n",
        "\n",
        "train_losses = pd.Series()\n",
        "test_losses = pd.Series()\n",
        "trading_res = pd.DataFrame()\n",
        "best_return = 0"
      ],
      "execution_count": 17,
      "outputs": [
        {
          "output_type": "stream",
          "text": [
            "/usr/local/lib/python3.7/dist-packages/ipykernel_launcher.py:14: DeprecationWarning: The default dtype for empty Series will be 'object' instead of 'float64' in a future version. Specify a dtype explicitly to silence this warning.\n",
            "  \n",
            "/usr/local/lib/python3.7/dist-packages/ipykernel_launcher.py:15: DeprecationWarning: The default dtype for empty Series will be 'object' instead of 'float64' in a future version. Specify a dtype explicitly to silence this warning.\n",
            "  from ipykernel import kernelapp as app\n"
          ],
          "name": "stderr"
        }
      ]
    },
    {
      "cell_type": "code",
      "metadata": {
        "id": "Yz2SW-ZDR-ft",
        "colab": {
          "base_uri": "https://localhost:8080/"
        },
        "outputId": "3d4f0027-a36d-4e15-a0d6-6cf1f409598d"
      },
      "source": [
        "for r in ranks:\n",
        "  tt_ranks = [1,r,r,r,r,1]\n",
        "  model = create_TTRNN(tt_input,tt_output,tt_ranks)\n",
        "\n",
        "  train_loss = []\n",
        "  valid_loss = []\n",
        "  train_acc = []\n",
        "  valid_acc = []\n",
        "\n",
        "  weights_XH = []\n",
        "  weights_HH = []\n",
        "\n",
        "  for e in range(epochs):\n",
        "      print('epoch: ', e)\n",
        "      history = model.fit(x=RNN_X_train, y=RNN_y_train, verbose=1, epochs=1, batch_size=batch_size, validation_split=0.1)\n",
        "      train_loss.append(history.history['loss'][0])\n",
        "      valid_loss.append(history.history['val_loss'][0])\n",
        "      train_acc.append(history.history['acc'][0]*100)\n",
        "      valid_acc.append(history.history['val_acc'][0]*100)\n",
        "\n",
        "      weights = model.get_weights()\n",
        "      weights_XH.append(weights[0])\n",
        "      weights_HH.append(weights[2])\n",
        "\n",
        "  parameters.append(np.sum(np.array(tt_input)*np.array(tt_output)*np.array(tt_ranks)[1:]*np.array(tt_ranks)[:-1]))\n",
        "\n",
        "  if not r in trading_res.columns:\n",
        "    train_losses[str(r)] = model.evaluate(RNN_X_train, RNN_y_train, verbose=0)[0]\n",
        "    test_losses[str(r)] = model.evaluate(RNN_X_test, RNN_y_test, verbose=0)[0]\n",
        "  \n",
        "  returns = labels['SPX'][-RNN_y_test.shape[0]:]*100\n",
        "  idx = model.predict(RNN_X_test).argmax(1)-1\n",
        "  idx = idx*model.predict(RNN_X_test).max(1)\n",
        "  predicted = returns*idx\n",
        "\n",
        "  if not r in trading_res.columns:\n",
        "    trading_res[r] = trading_results(predicted)\n",
        "    print(trading_res)\n",
        "  if trading_res[r]['Accuracy (%)'] > 0.5:\n",
        "    if trading_res[r]['Total return (%)'] > best_return:\n",
        "      best_return = trading_res[r]['Total return (%)']\n",
        "      best_model = model\n",
        "      best_result = trading_res[r]['Total return (%)']\n",
        "      best_train_loss = train_loss\n",
        "      best_valid_loss = valid_loss\n",
        "      best_train_acc = train_acc\n",
        "      best_valid_acc = valid_acc\n",
        "      best_weights_XH = weights_XH\n",
        "      best_weights_HH = weights_HH"
      ],
      "execution_count": 18,
      "outputs": [
        {
          "output_type": "stream",
          "text": [
            "WARNING:tensorflow:From /usr/local/lib/python3.7/dist-packages/keras/backend/tensorflow_backend.py:74: The name tf.get_default_graph is deprecated. Please use tf.compat.v1.get_default_graph instead.\n",
            "\n",
            "WARNING:tensorflow:From /usr/local/lib/python3.7/dist-packages/keras/optimizers.py:790: The name tf.train.Optimizer is deprecated. Please use tf.compat.v1.train.Optimizer instead.\n",
            "\n",
            "epoch:  0\n",
            "WARNING:tensorflow:From /usr/local/lib/python3.7/dist-packages/keras/backend/tensorflow_backend.py:517: The name tf.placeholder is deprecated. Please use tf.compat.v1.placeholder instead.\n",
            "\n",
            "WARNING:tensorflow:From /usr/local/lib/python3.7/dist-packages/keras/backend/tensorflow_backend.py:4138: The name tf.random_uniform is deprecated. Please use tf.random.uniform instead.\n",
            "\n",
            "Model TT ranks: [1 1 1 1 1 1]\n",
            "TT number of parameters:  64\n",
            "Equivalent fully connected layer parameters:  184320\n",
            "WARNING:tensorflow:From /usr/local/lib/python3.7/dist-packages/keras/backend/tensorflow_backend.py:3295: The name tf.log is deprecated. Please use tf.math.log instead.\n",
            "\n",
            "WARNING:tensorflow:From /usr/local/lib/python3.7/dist-packages/tensorflow_core/python/ops/math_grad.py:1424: where (from tensorflow.python.ops.array_ops) is deprecated and will be removed in a future version.\n",
            "Instructions for updating:\n",
            "Use tf.where in 2.0, which has the same broadcast rule as np.where\n",
            "WARNING:tensorflow:From /usr/local/lib/python3.7/dist-packages/keras/backend/tensorflow_backend.py:986: The name tf.assign_add is deprecated. Please use tf.compat.v1.assign_add instead.\n",
            "\n",
            "WARNING:tensorflow:From /usr/local/lib/python3.7/dist-packages/keras/backend/tensorflow_backend.py:973: The name tf.assign is deprecated. Please use tf.compat.v1.assign instead.\n",
            "\n",
            "WARNING:tensorflow:From /usr/local/lib/python3.7/dist-packages/keras/backend/tensorflow_backend.py:2741: The name tf.Session is deprecated. Please use tf.compat.v1.Session instead.\n",
            "\n",
            "Train on 3005 samples, validate on 334 samples\n",
            "Epoch 1/1\n",
            "WARNING:tensorflow:From /usr/local/lib/python3.7/dist-packages/keras/backend/tensorflow_backend.py:174: The name tf.get_default_session is deprecated. Please use tf.compat.v1.get_default_session instead.\n",
            "\n",
            "WARNING:tensorflow:From /usr/local/lib/python3.7/dist-packages/keras/backend/tensorflow_backend.py:181: The name tf.ConfigProto is deprecated. Please use tf.compat.v1.ConfigProto instead.\n",
            "\n",
            "WARNING:tensorflow:From /usr/local/lib/python3.7/dist-packages/keras/backend/tensorflow_backend.py:190: The name tf.global_variables is deprecated. Please use tf.compat.v1.global_variables instead.\n",
            "\n",
            "WARNING:tensorflow:From /usr/local/lib/python3.7/dist-packages/keras/backend/tensorflow_backend.py:199: The name tf.is_variable_initialized is deprecated. Please use tf.compat.v1.is_variable_initialized instead.\n",
            "\n",
            "WARNING:tensorflow:From /usr/local/lib/python3.7/dist-packages/keras/backend/tensorflow_backend.py:206: The name tf.variables_initializer is deprecated. Please use tf.compat.v1.variables_initializer instead.\n",
            "\n",
            "3005/3005 [==============================] - 4s 1ms/step - loss: 1.0577 - acc: 0.4183 - val_loss: 1.0359 - val_acc: 0.4431\n",
            "epoch:  1\n",
            "Train on 3005 samples, validate on 334 samples\n",
            "Epoch 1/1\n",
            "3005/3005 [==============================] - 2s 770us/step - loss: 0.9344 - acc: 0.4972 - val_loss: 0.9021 - val_acc: 0.4790\n",
            "epoch:  2\n",
            "Train on 3005 samples, validate on 334 samples\n",
            "Epoch 1/1\n",
            "3005/3005 [==============================] - 2s 778us/step - loss: 0.8500 - acc: 0.5171 - val_loss: 0.8485 - val_acc: 0.4850\n",
            "epoch:  3\n",
            "Train on 3005 samples, validate on 334 samples\n",
            "Epoch 1/1\n",
            "3005/3005 [==============================] - 2s 761us/step - loss: 0.8335 - acc: 0.5171 - val_loss: 0.8396 - val_acc: 0.5090\n",
            "epoch:  4\n",
            "Train on 3005 samples, validate on 334 samples\n",
            "Epoch 1/1\n",
            "3005/3005 [==============================] - 2s 762us/step - loss: 0.8286 - acc: 0.5298 - val_loss: 0.8361 - val_acc: 0.4910\n",
            "epoch:  5\n",
            "Train on 3005 samples, validate on 334 samples\n",
            "Epoch 1/1\n",
            "3005/3005 [==============================] - 2s 774us/step - loss: 0.8262 - acc: 0.5324 - val_loss: 0.8399 - val_acc: 0.4820\n",
            "epoch:  6\n",
            "Train on 3005 samples, validate on 334 samples\n",
            "Epoch 1/1\n",
            "3005/3005 [==============================] - 2s 775us/step - loss: 0.8228 - acc: 0.5408 - val_loss: 0.8396 - val_acc: 0.4731\n",
            "epoch:  7\n",
            "Train on 3005 samples, validate on 334 samples\n",
            "Epoch 1/1\n",
            "3005/3005 [==============================] - 2s 771us/step - loss: 0.8195 - acc: 0.5481 - val_loss: 0.8418 - val_acc: 0.5180\n",
            "epoch:  8\n",
            "Train on 3005 samples, validate on 334 samples\n",
            "Epoch 1/1\n",
            "3005/3005 [==============================] - 2s 771us/step - loss: 0.8172 - acc: 0.5488 - val_loss: 0.8418 - val_acc: 0.5240\n",
            "epoch:  9\n",
            "Train on 3005 samples, validate on 334 samples\n",
            "Epoch 1/1\n",
            "3005/3005 [==============================] - 2s 762us/step - loss: 0.8148 - acc: 0.5501 - val_loss: 0.8429 - val_acc: 0.5180\n",
            "epoch:  10\n",
            "Train on 3005 samples, validate on 334 samples\n",
            "Epoch 1/1\n",
            "3005/3005 [==============================] - 2s 771us/step - loss: 0.8129 - acc: 0.5534 - val_loss: 0.8415 - val_acc: 0.4760\n",
            "epoch:  11\n",
            "Train on 3005 samples, validate on 334 samples\n",
            "Epoch 1/1\n",
            "3005/3005 [==============================] - 2s 785us/step - loss: 0.8106 - acc: 0.5544 - val_loss: 0.8419 - val_acc: 0.4731\n",
            "epoch:  12\n",
            "Train on 3005 samples, validate on 334 samples\n",
            "Epoch 1/1\n",
            "3005/3005 [==============================] - 2s 780us/step - loss: 0.8085 - acc: 0.5587 - val_loss: 0.8408 - val_acc: 0.4790\n",
            "epoch:  13\n",
            "Train on 3005 samples, validate on 334 samples\n",
            "Epoch 1/1\n",
            "3005/3005 [==============================] - 2s 783us/step - loss: 0.8064 - acc: 0.5627 - val_loss: 0.8423 - val_acc: 0.4880\n",
            "epoch:  14\n",
            "Train on 3005 samples, validate on 334 samples\n",
            "Epoch 1/1\n",
            "3005/3005 [==============================] - 2s 781us/step - loss: 0.8046 - acc: 0.5697 - val_loss: 0.8440 - val_acc: 0.4940\n",
            "epoch:  15\n",
            "Train on 3005 samples, validate on 334 samples\n",
            "Epoch 1/1\n",
            "3005/3005 [==============================] - 2s 780us/step - loss: 0.8029 - acc: 0.5704 - val_loss: 0.8448 - val_acc: 0.4850\n",
            "epoch:  16\n",
            "Train on 3005 samples, validate on 334 samples\n",
            "Epoch 1/1\n",
            "3005/3005 [==============================] - 2s 772us/step - loss: 0.8007 - acc: 0.5727 - val_loss: 0.8431 - val_acc: 0.4880\n",
            "epoch:  17\n",
            "Train on 3005 samples, validate on 334 samples\n",
            "Epoch 1/1\n",
            "3005/3005 [==============================] - 2s 775us/step - loss: 0.7992 - acc: 0.5770 - val_loss: 0.8467 - val_acc: 0.5000\n",
            "epoch:  18\n",
            "Train on 3005 samples, validate on 334 samples\n",
            "Epoch 1/1\n",
            "3005/3005 [==============================] - 2s 745us/step - loss: 0.7978 - acc: 0.5807 - val_loss: 0.8458 - val_acc: 0.4850\n",
            "epoch:  19\n",
            "Train on 3005 samples, validate on 334 samples\n",
            "Epoch 1/1\n",
            "3005/3005 [==============================] - 2s 754us/step - loss: 0.7961 - acc: 0.5834 - val_loss: 0.8467 - val_acc: 0.5000\n"
          ],
          "name": "stdout"
        },
        {
          "output_type": "stream",
          "text": [
            "/usr/local/lib/python3.7/dist-packages/ipykernel_launcher.py:2: DeprecationWarning: The default dtype for empty Series will be 'object' instead of 'float64' in a future version. Specify a dtype explicitly to silence this warning.\n",
            "  \n"
          ],
          "name": "stderr"
        },
        {
          "output_type": "stream",
          "text": [
            "                                  1\n",
            "Total return (%)           9.715103\n",
            "Accuracy (%)              54.261364\n",
            "Average return (%)         0.027600\n",
            "Maximum drawdown (%)     -17.131367\n",
            "Drawdown duration (Days)  28.000000\n",
            "Sharpe ratio               0.027154\n",
            "Skew                      -1.307246\n",
            "Kurtosis                   9.755881\n",
            "epoch:  0\n",
            "Model TT ranks: [1 2 2 2 2 1]\n",
            "TT number of parameters:  224\n",
            "Equivalent fully connected layer parameters:  184320\n",
            "Train on 3005 samples, validate on 334 samples\n",
            "Epoch 1/1\n",
            "3005/3005 [==============================] - 3s 983us/step - loss: 1.0516 - acc: 0.4097 - val_loss: 1.0148 - val_acc: 0.4820\n",
            "epoch:  1\n",
            "Train on 3005 samples, validate on 334 samples\n",
            "Epoch 1/1\n",
            "3005/3005 [==============================] - 2s 757us/step - loss: 0.9125 - acc: 0.4922 - val_loss: 0.8875 - val_acc: 0.5479\n",
            "epoch:  2\n",
            "Train on 3005 samples, validate on 334 samples\n",
            "Epoch 1/1\n",
            "3005/3005 [==============================] - 2s 760us/step - loss: 0.8490 - acc: 0.5088 - val_loss: 0.8417 - val_acc: 0.5419\n",
            "epoch:  3\n",
            "Train on 3005 samples, validate on 334 samples\n",
            "Epoch 1/1\n",
            "3005/3005 [==============================] - 2s 755us/step - loss: 0.8372 - acc: 0.5128 - val_loss: 0.8343 - val_acc: 0.5479\n",
            "epoch:  4\n",
            "Train on 3005 samples, validate on 334 samples\n",
            "Epoch 1/1\n",
            "3005/3005 [==============================] - 2s 754us/step - loss: 0.8322 - acc: 0.5198 - val_loss: 0.8326 - val_acc: 0.5299\n",
            "epoch:  5\n",
            "Train on 3005 samples, validate on 334 samples\n",
            "Epoch 1/1\n",
            "3005/3005 [==============================] - 2s 750us/step - loss: 0.8282 - acc: 0.5231 - val_loss: 0.8310 - val_acc: 0.5509\n",
            "epoch:  6\n",
            "Train on 3005 samples, validate on 334 samples\n",
            "Epoch 1/1\n",
            "3005/3005 [==============================] - 2s 766us/step - loss: 0.8250 - acc: 0.5314 - val_loss: 0.8321 - val_acc: 0.5269\n",
            "epoch:  7\n",
            "Train on 3005 samples, validate on 334 samples\n",
            "Epoch 1/1\n",
            "3005/3005 [==============================] - 2s 756us/step - loss: 0.8226 - acc: 0.5228 - val_loss: 0.8304 - val_acc: 0.5269\n",
            "epoch:  8\n",
            "Train on 3005 samples, validate on 334 samples\n",
            "Epoch 1/1\n",
            "3005/3005 [==============================] - 2s 762us/step - loss: 0.8199 - acc: 0.5401 - val_loss: 0.8320 - val_acc: 0.4940\n",
            "epoch:  9\n",
            "Train on 3005 samples, validate on 334 samples\n",
            "Epoch 1/1\n",
            "3005/3005 [==============================] - 2s 768us/step - loss: 0.8178 - acc: 0.5384 - val_loss: 0.8312 - val_acc: 0.5329\n",
            "epoch:  10\n",
            "Train on 3005 samples, validate on 334 samples\n",
            "Epoch 1/1\n",
            "3005/3005 [==============================] - 2s 784us/step - loss: 0.8152 - acc: 0.5464 - val_loss: 0.8354 - val_acc: 0.4940\n",
            "epoch:  11\n",
            "Train on 3005 samples, validate on 334 samples\n",
            "Epoch 1/1\n",
            "3005/3005 [==============================] - 2s 794us/step - loss: 0.8132 - acc: 0.5491 - val_loss: 0.8323 - val_acc: 0.5060\n",
            "epoch:  12\n",
            "Train on 3005 samples, validate on 334 samples\n",
            "Epoch 1/1\n",
            "3005/3005 [==============================] - 2s 778us/step - loss: 0.8112 - acc: 0.5488 - val_loss: 0.8358 - val_acc: 0.4970\n",
            "epoch:  13\n",
            "Train on 3005 samples, validate on 334 samples\n",
            "Epoch 1/1\n",
            "3005/3005 [==============================] - 2s 780us/step - loss: 0.8092 - acc: 0.5567 - val_loss: 0.8341 - val_acc: 0.4910\n",
            "epoch:  14\n",
            "Train on 3005 samples, validate on 334 samples\n",
            "Epoch 1/1\n",
            "3005/3005 [==============================] - 2s 774us/step - loss: 0.8069 - acc: 0.5607 - val_loss: 0.8341 - val_acc: 0.5240\n",
            "epoch:  15\n",
            "Train on 3005 samples, validate on 334 samples\n",
            "Epoch 1/1\n",
            "3005/3005 [==============================] - 2s 789us/step - loss: 0.8054 - acc: 0.5607 - val_loss: 0.8371 - val_acc: 0.4850\n",
            "epoch:  16\n",
            "Train on 3005 samples, validate on 334 samples\n",
            "Epoch 1/1\n",
            "3005/3005 [==============================] - 2s 800us/step - loss: 0.8038 - acc: 0.5644 - val_loss: 0.8383 - val_acc: 0.4880\n",
            "epoch:  17\n",
            "Train on 3005 samples, validate on 334 samples\n",
            "Epoch 1/1\n",
            "3005/3005 [==============================] - 2s 778us/step - loss: 0.8013 - acc: 0.5694 - val_loss: 0.8415 - val_acc: 0.4880\n",
            "epoch:  18\n",
            "Train on 3005 samples, validate on 334 samples\n",
            "Epoch 1/1\n",
            "3005/3005 [==============================] - 2s 788us/step - loss: 0.7995 - acc: 0.5714 - val_loss: 0.8414 - val_acc: 0.5000\n",
            "epoch:  19\n",
            "Train on 3005 samples, validate on 334 samples\n",
            "Epoch 1/1\n",
            "3005/3005 [==============================] - 2s 784us/step - loss: 0.7981 - acc: 0.5750 - val_loss: 0.8436 - val_acc: 0.4940\n"
          ],
          "name": "stdout"
        },
        {
          "output_type": "stream",
          "text": [
            "/usr/local/lib/python3.7/dist-packages/ipykernel_launcher.py:2: DeprecationWarning: The default dtype for empty Series will be 'object' instead of 'float64' in a future version. Specify a dtype explicitly to silence this warning.\n",
            "  \n"
          ],
          "name": "stderr"
        },
        {
          "output_type": "stream",
          "text": [
            "                                  1          2\n",
            "Total return (%)           9.715103   6.372653\n",
            "Accuracy (%)              54.261364  51.136364\n",
            "Average return (%)         0.027600   0.018104\n",
            "Maximum drawdown (%)     -17.131367 -21.384362\n",
            "Drawdown duration (Days)  28.000000  67.000000\n",
            "Sharpe ratio               0.027154   0.016712\n",
            "Skew                      -1.307246  -1.026769\n",
            "Kurtosis                   9.755881  14.360612\n",
            "epoch:  0\n",
            "Model TT ranks: [1 3 3 3 3 1]\n",
            "TT number of parameters:  480\n",
            "Equivalent fully connected layer parameters:  184320\n",
            "Train on 3005 samples, validate on 334 samples\n",
            "Epoch 1/1\n",
            "3005/3005 [==============================] - 3s 1ms/step - loss: 1.0811 - acc: 0.4010 - val_loss: 1.0739 - val_acc: 0.4012\n",
            "epoch:  1\n",
            "Train on 3005 samples, validate on 334 samples\n",
            "Epoch 1/1\n",
            "3005/3005 [==============================] - 3s 846us/step - loss: 0.9774 - acc: 0.4895 - val_loss: 0.9737 - val_acc: 0.4880\n",
            "epoch:  2\n",
            "Train on 3005 samples, validate on 334 samples\n",
            "Epoch 1/1\n",
            "3005/3005 [==============================] - 3s 837us/step - loss: 0.8790 - acc: 0.5165 - val_loss: 0.8929 - val_acc: 0.5090\n",
            "epoch:  3\n",
            "Train on 3005 samples, validate on 334 samples\n",
            "Epoch 1/1\n",
            "3005/3005 [==============================] - 2s 832us/step - loss: 0.8420 - acc: 0.5215 - val_loss: 0.8672 - val_acc: 0.5180\n",
            "epoch:  4\n",
            "Train on 3005 samples, validate on 334 samples\n",
            "Epoch 1/1\n",
            "3005/3005 [==============================] - 3s 840us/step - loss: 0.8335 - acc: 0.5221 - val_loss: 0.8623 - val_acc: 0.5240\n",
            "epoch:  5\n",
            "Train on 3005 samples, validate on 334 samples\n",
            "Epoch 1/1\n",
            "3005/3005 [==============================] - 3s 837us/step - loss: 0.8294 - acc: 0.5371 - val_loss: 0.8620 - val_acc: 0.5210\n",
            "epoch:  6\n",
            "Train on 3005 samples, validate on 334 samples\n",
            "Epoch 1/1\n",
            "3005/3005 [==============================] - 3s 838us/step - loss: 0.8250 - acc: 0.5364 - val_loss: 0.8586 - val_acc: 0.5299\n",
            "epoch:  7\n",
            "Train on 3005 samples, validate on 334 samples\n",
            "Epoch 1/1\n",
            "3005/3005 [==============================] - 3s 834us/step - loss: 0.8227 - acc: 0.5364 - val_loss: 0.8572 - val_acc: 0.5299\n",
            "epoch:  8\n",
            "Train on 3005 samples, validate on 334 samples\n",
            "Epoch 1/1\n",
            "3005/3005 [==============================] - 2s 829us/step - loss: 0.8198 - acc: 0.5448 - val_loss: 0.8532 - val_acc: 0.5180\n",
            "epoch:  9\n",
            "Train on 3005 samples, validate on 334 samples\n",
            "Epoch 1/1\n",
            "3005/3005 [==============================] - 3s 836us/step - loss: 0.8160 - acc: 0.5537 - val_loss: 0.8548 - val_acc: 0.5180\n",
            "epoch:  10\n",
            "Train on 3005 samples, validate on 334 samples\n",
            "Epoch 1/1\n",
            "3005/3005 [==============================] - 3s 839us/step - loss: 0.8139 - acc: 0.5498 - val_loss: 0.8527 - val_acc: 0.5180\n",
            "epoch:  11\n",
            "Train on 3005 samples, validate on 334 samples\n",
            "Epoch 1/1\n",
            "3005/3005 [==============================] - 3s 837us/step - loss: 0.8113 - acc: 0.5601 - val_loss: 0.8517 - val_acc: 0.5240\n",
            "epoch:  12\n",
            "Train on 3005 samples, validate on 334 samples\n",
            "Epoch 1/1\n",
            "3005/3005 [==============================] - 2s 827us/step - loss: 0.8085 - acc: 0.5584 - val_loss: 0.8526 - val_acc: 0.5180\n",
            "epoch:  13\n",
            "Train on 3005 samples, validate on 334 samples\n",
            "Epoch 1/1\n",
            "3005/3005 [==============================] - 3s 842us/step - loss: 0.8059 - acc: 0.5671 - val_loss: 0.8513 - val_acc: 0.5120\n",
            "epoch:  14\n",
            "Train on 3005 samples, validate on 334 samples\n",
            "Epoch 1/1\n",
            "3005/3005 [==============================] - 3s 842us/step - loss: 0.8043 - acc: 0.5697 - val_loss: 0.8532 - val_acc: 0.5150\n",
            "epoch:  15\n",
            "Train on 3005 samples, validate on 334 samples\n",
            "Epoch 1/1\n",
            "3005/3005 [==============================] - 3s 840us/step - loss: 0.8014 - acc: 0.5710 - val_loss: 0.8512 - val_acc: 0.5150\n",
            "epoch:  16\n",
            "Train on 3005 samples, validate on 334 samples\n",
            "Epoch 1/1\n",
            "3005/3005 [==============================] - 3s 847us/step - loss: 0.7992 - acc: 0.5780 - val_loss: 0.8502 - val_acc: 0.5150\n",
            "epoch:  17\n",
            "Train on 3005 samples, validate on 334 samples\n",
            "Epoch 1/1\n",
            "3005/3005 [==============================] - 3s 840us/step - loss: 0.7966 - acc: 0.5784 - val_loss: 0.8489 - val_acc: 0.5060\n",
            "epoch:  18\n",
            "Train on 3005 samples, validate on 334 samples\n",
            "Epoch 1/1\n",
            "3005/3005 [==============================] - 3s 837us/step - loss: 0.7948 - acc: 0.5844 - val_loss: 0.8527 - val_acc: 0.5180\n",
            "epoch:  19\n",
            "Train on 3005 samples, validate on 334 samples\n",
            "Epoch 1/1\n",
            "3005/3005 [==============================] - 2s 826us/step - loss: 0.7918 - acc: 0.5880 - val_loss: 0.8524 - val_acc: 0.5090\n"
          ],
          "name": "stdout"
        },
        {
          "output_type": "stream",
          "text": [
            "/usr/local/lib/python3.7/dist-packages/ipykernel_launcher.py:2: DeprecationWarning: The default dtype for empty Series will be 'object' instead of 'float64' in a future version. Specify a dtype explicitly to silence this warning.\n",
            "  \n"
          ],
          "name": "stderr"
        },
        {
          "output_type": "stream",
          "text": [
            "                                  1          2          3\n",
            "Total return (%)           9.715103   6.372653  24.767446\n",
            "Accuracy (%)              54.261364  51.136364  51.704545\n",
            "Average return (%)         0.027600   0.018104   0.070362\n",
            "Maximum drawdown (%)     -17.131367 -21.384362 -10.842586\n",
            "Drawdown duration (Days)  28.000000  67.000000  38.000000\n",
            "Sharpe ratio               0.027154   0.016712   0.072237\n",
            "Skew                      -1.307246  -1.026769   1.198377\n",
            "Kurtosis                   9.755881  14.360612  10.044680\n",
            "epoch:  0\n",
            "Model TT ranks: [1 4 4 4 4 1]\n",
            "TT number of parameters:  832\n",
            "Equivalent fully connected layer parameters:  184320\n",
            "Train on 3005 samples, validate on 334 samples\n",
            "Epoch 1/1\n",
            "3005/3005 [==============================] - 3s 1ms/step - loss: 1.0324 - acc: 0.4473 - val_loss: 0.9735 - val_acc: 0.5000\n",
            "epoch:  1\n",
            "Train on 3005 samples, validate on 334 samples\n",
            "Epoch 1/1\n",
            "3005/3005 [==============================] - 3s 856us/step - loss: 0.8883 - acc: 0.5018 - val_loss: 0.8518 - val_acc: 0.5150\n",
            "epoch:  2\n",
            "Train on 3005 samples, validate on 334 samples\n",
            "Epoch 1/1\n",
            "3005/3005 [==============================] - 3s 865us/step - loss: 0.8406 - acc: 0.5198 - val_loss: 0.8300 - val_acc: 0.5240\n",
            "epoch:  3\n",
            "Train on 3005 samples, validate on 334 samples\n",
            "Epoch 1/1\n",
            "3005/3005 [==============================] - 3s 859us/step - loss: 0.8337 - acc: 0.5245 - val_loss: 0.8272 - val_acc: 0.5030\n",
            "epoch:  4\n",
            "Train on 3005 samples, validate on 334 samples\n",
            "Epoch 1/1\n",
            "3005/3005 [==============================] - 3s 863us/step - loss: 0.8301 - acc: 0.5324 - val_loss: 0.8261 - val_acc: 0.4970\n",
            "epoch:  5\n",
            "Train on 3005 samples, validate on 334 samples\n",
            "Epoch 1/1\n",
            "3005/3005 [==============================] - 3s 860us/step - loss: 0.8271 - acc: 0.5304 - val_loss: 0.8261 - val_acc: 0.4910\n",
            "epoch:  6\n",
            "Train on 3005 samples, validate on 334 samples\n",
            "Epoch 1/1\n",
            "3005/3005 [==============================] - 3s 856us/step - loss: 0.8246 - acc: 0.5381 - val_loss: 0.8261 - val_acc: 0.5090\n",
            "epoch:  7\n",
            "Train on 3005 samples, validate on 334 samples\n",
            "Epoch 1/1\n",
            "3005/3005 [==============================] - 3s 858us/step - loss: 0.8222 - acc: 0.5384 - val_loss: 0.8257 - val_acc: 0.5090\n",
            "epoch:  8\n",
            "Train on 3005 samples, validate on 334 samples\n",
            "Epoch 1/1\n",
            "3005/3005 [==============================] - 3s 864us/step - loss: 0.8203 - acc: 0.5438 - val_loss: 0.8246 - val_acc: 0.5030\n",
            "epoch:  9\n",
            "Train on 3005 samples, validate on 334 samples\n",
            "Epoch 1/1\n",
            "3005/3005 [==============================] - 3s 857us/step - loss: 0.8181 - acc: 0.5504 - val_loss: 0.8268 - val_acc: 0.4880\n",
            "epoch:  10\n",
            "Train on 3005 samples, validate on 334 samples\n",
            "Epoch 1/1\n",
            "3005/3005 [==============================] - 3s 871us/step - loss: 0.8164 - acc: 0.5514 - val_loss: 0.8263 - val_acc: 0.5000\n",
            "epoch:  11\n",
            "Train on 3005 samples, validate on 334 samples\n",
            "Epoch 1/1\n",
            "3005/3005 [==============================] - 3s 856us/step - loss: 0.8147 - acc: 0.5561 - val_loss: 0.8260 - val_acc: 0.5030\n",
            "epoch:  12\n",
            "Train on 3005 samples, validate on 334 samples\n",
            "Epoch 1/1\n",
            "3005/3005 [==============================] - 3s 853us/step - loss: 0.8132 - acc: 0.5557 - val_loss: 0.8271 - val_acc: 0.4850\n",
            "epoch:  13\n",
            "Train on 3005 samples, validate on 334 samples\n",
            "Epoch 1/1\n",
            "3005/3005 [==============================] - 3s 848us/step - loss: 0.8110 - acc: 0.5637 - val_loss: 0.8265 - val_acc: 0.4970\n",
            "epoch:  14\n",
            "Train on 3005 samples, validate on 334 samples\n",
            "Epoch 1/1\n",
            "3005/3005 [==============================] - 3s 856us/step - loss: 0.8091 - acc: 0.5617 - val_loss: 0.8291 - val_acc: 0.4880\n",
            "epoch:  15\n",
            "Train on 3005 samples, validate on 334 samples\n",
            "Epoch 1/1\n",
            "3005/3005 [==============================] - 3s 846us/step - loss: 0.8075 - acc: 0.5664 - val_loss: 0.8291 - val_acc: 0.4940\n",
            "epoch:  16\n",
            "Train on 3005 samples, validate on 334 samples\n",
            "Epoch 1/1\n",
            "3005/3005 [==============================] - 3s 854us/step - loss: 0.8060 - acc: 0.5671 - val_loss: 0.8277 - val_acc: 0.5030\n",
            "epoch:  17\n",
            "Train on 3005 samples, validate on 334 samples\n",
            "Epoch 1/1\n",
            "3005/3005 [==============================] - 3s 858us/step - loss: 0.8049 - acc: 0.5790 - val_loss: 0.8260 - val_acc: 0.4940\n",
            "epoch:  18\n",
            "Train on 3005 samples, validate on 334 samples\n",
            "Epoch 1/1\n",
            "3005/3005 [==============================] - 3s 861us/step - loss: 0.8032 - acc: 0.5757 - val_loss: 0.8268 - val_acc: 0.4910\n",
            "epoch:  19\n",
            "Train on 3005 samples, validate on 334 samples\n",
            "Epoch 1/1\n",
            "3005/3005 [==============================] - 3s 854us/step - loss: 0.8018 - acc: 0.5830 - val_loss: 0.8269 - val_acc: 0.4970\n"
          ],
          "name": "stdout"
        },
        {
          "output_type": "stream",
          "text": [
            "/usr/local/lib/python3.7/dist-packages/ipykernel_launcher.py:2: DeprecationWarning: The default dtype for empty Series will be 'object' instead of 'float64' in a future version. Specify a dtype explicitly to silence this warning.\n",
            "  \n"
          ],
          "name": "stderr"
        },
        {
          "output_type": "stream",
          "text": [
            "                                  1          2          3           4\n",
            "Total return (%)           9.715103   6.372653  24.767446  -18.540654\n",
            "Accuracy (%)              54.261364  51.136364  51.704545   48.011364\n",
            "Average return (%)         0.027600   0.018104   0.070362   -0.052672\n",
            "Maximum drawdown (%)     -17.131367 -21.384362 -10.842586  -29.273461\n",
            "Drawdown duration (Days)  28.000000  67.000000  38.000000  258.000000\n",
            "Sharpe ratio               0.027154   0.016712   0.072237   -0.045985\n",
            "Skew                      -1.307246  -1.026769   1.198377   -1.427992\n",
            "Kurtosis                   9.755881  14.360612  10.044680   17.844920\n",
            "epoch:  0\n",
            "Model TT ranks: [1 5 5 5 5 1]\n",
            "TT number of parameters:  1280\n",
            "Equivalent fully connected layer parameters:  184320\n",
            "Train on 3005 samples, validate on 334 samples\n",
            "Epoch 1/1\n",
            "3005/3005 [==============================] - 4s 1ms/step - loss: 1.0251 - acc: 0.4453 - val_loss: 0.9290 - val_acc: 0.4970\n",
            "epoch:  1\n",
            "Train on 3005 samples, validate on 334 samples\n",
            "Epoch 1/1\n",
            "3005/3005 [==============================] - 3s 876us/step - loss: 0.8795 - acc: 0.5111 - val_loss: 0.8363 - val_acc: 0.5090\n",
            "epoch:  2\n",
            "Train on 3005 samples, validate on 334 samples\n",
            "Epoch 1/1\n",
            "3005/3005 [==============================] - 3s 866us/step - loss: 0.8390 - acc: 0.5105 - val_loss: 0.8207 - val_acc: 0.5240\n",
            "epoch:  3\n",
            "Train on 3005 samples, validate on 334 samples\n",
            "Epoch 1/1\n",
            "3005/3005 [==============================] - 3s 877us/step - loss: 0.8332 - acc: 0.5198 - val_loss: 0.8198 - val_acc: 0.5240\n",
            "epoch:  4\n",
            "Train on 3005 samples, validate on 334 samples\n",
            "Epoch 1/1\n",
            "3005/3005 [==============================] - 3s 875us/step - loss: 0.8311 - acc: 0.5225 - val_loss: 0.8222 - val_acc: 0.5240\n",
            "epoch:  5\n",
            "Train on 3005 samples, validate on 334 samples\n",
            "Epoch 1/1\n",
            "3005/3005 [==============================] - 3s 870us/step - loss: 0.8288 - acc: 0.5271 - val_loss: 0.8200 - val_acc: 0.5269\n",
            "epoch:  6\n",
            "Train on 3005 samples, validate on 334 samples\n",
            "Epoch 1/1\n",
            "3005/3005 [==============================] - 3s 870us/step - loss: 0.8265 - acc: 0.5241 - val_loss: 0.8192 - val_acc: 0.5180\n",
            "epoch:  7\n",
            "Train on 3005 samples, validate on 334 samples\n",
            "Epoch 1/1\n",
            "3005/3005 [==============================] - 3s 872us/step - loss: 0.8245 - acc: 0.5351 - val_loss: 0.8210 - val_acc: 0.5240\n",
            "epoch:  8\n",
            "Train on 3005 samples, validate on 334 samples\n",
            "Epoch 1/1\n",
            "3005/3005 [==============================] - 3s 880us/step - loss: 0.8230 - acc: 0.5348 - val_loss: 0.8206 - val_acc: 0.5299\n",
            "epoch:  9\n",
            "Train on 3005 samples, validate on 334 samples\n",
            "Epoch 1/1\n",
            "3005/3005 [==============================] - 3s 874us/step - loss: 0.8211 - acc: 0.5424 - val_loss: 0.8247 - val_acc: 0.5120\n",
            "epoch:  10\n",
            "Train on 3005 samples, validate on 334 samples\n",
            "Epoch 1/1\n",
            "3005/3005 [==============================] - 3s 889us/step - loss: 0.8195 - acc: 0.5444 - val_loss: 0.8226 - val_acc: 0.5240\n",
            "epoch:  11\n",
            "Train on 3005 samples, validate on 334 samples\n",
            "Epoch 1/1\n",
            "3005/3005 [==============================] - 3s 872us/step - loss: 0.8178 - acc: 0.5398 - val_loss: 0.8224 - val_acc: 0.5180\n",
            "epoch:  12\n",
            "Train on 3005 samples, validate on 334 samples\n",
            "Epoch 1/1\n",
            "3005/3005 [==============================] - 3s 855us/step - loss: 0.8165 - acc: 0.5454 - val_loss: 0.8225 - val_acc: 0.5120\n",
            "epoch:  13\n",
            "Train on 3005 samples, validate on 334 samples\n",
            "Epoch 1/1\n",
            "3005/3005 [==============================] - 3s 854us/step - loss: 0.8147 - acc: 0.5551 - val_loss: 0.8251 - val_acc: 0.5150\n",
            "epoch:  14\n",
            "Train on 3005 samples, validate on 334 samples\n",
            "Epoch 1/1\n",
            "3005/3005 [==============================] - 3s 848us/step - loss: 0.8136 - acc: 0.5581 - val_loss: 0.8233 - val_acc: 0.5180\n",
            "epoch:  15\n",
            "Train on 3005 samples, validate on 334 samples\n",
            "Epoch 1/1\n",
            "3005/3005 [==============================] - 3s 863us/step - loss: 0.8119 - acc: 0.5544 - val_loss: 0.8238 - val_acc: 0.5150\n",
            "epoch:  16\n",
            "Train on 3005 samples, validate on 334 samples\n",
            "Epoch 1/1\n",
            "3005/3005 [==============================] - 3s 858us/step - loss: 0.8104 - acc: 0.5564 - val_loss: 0.8200 - val_acc: 0.5000\n",
            "epoch:  17\n",
            "Train on 3005 samples, validate on 334 samples\n",
            "Epoch 1/1\n",
            "3005/3005 [==============================] - 3s 865us/step - loss: 0.8094 - acc: 0.5604 - val_loss: 0.8238 - val_acc: 0.5210\n",
            "epoch:  18\n",
            "Train on 3005 samples, validate on 334 samples\n",
            "Epoch 1/1\n",
            "3005/3005 [==============================] - 3s 854us/step - loss: 0.8076 - acc: 0.5707 - val_loss: 0.8237 - val_acc: 0.5090\n",
            "epoch:  19\n",
            "Train on 3005 samples, validate on 334 samples\n",
            "Epoch 1/1\n",
            "3005/3005 [==============================] - 3s 854us/step - loss: 0.8066 - acc: 0.5641 - val_loss: 0.8240 - val_acc: 0.5120\n"
          ],
          "name": "stdout"
        },
        {
          "output_type": "stream",
          "text": [
            "/usr/local/lib/python3.7/dist-packages/ipykernel_launcher.py:2: DeprecationWarning: The default dtype for empty Series will be 'object' instead of 'float64' in a future version. Specify a dtype explicitly to silence this warning.\n",
            "  \n"
          ],
          "name": "stderr"
        },
        {
          "output_type": "stream",
          "text": [
            "                                  1          2  ...           4           5\n",
            "Total return (%)           9.715103   6.372653  ...  -18.540654    4.596478\n",
            "Accuracy (%)              54.261364  51.136364  ...   48.011364   47.727273\n",
            "Average return (%)         0.027600   0.018104  ...   -0.052672    0.013058\n",
            "Maximum drawdown (%)     -17.131367 -21.384362  ...  -29.273461  -15.406494\n",
            "Drawdown duration (Days)  28.000000  67.000000  ...  258.000000  160.000000\n",
            "Sharpe ratio               0.027154   0.016712  ...   -0.045985    0.012062\n",
            "Skew                      -1.307246  -1.026769  ...   -1.427992    1.121411\n",
            "Kurtosis                   9.755881  14.360612  ...   17.844920   16.002665\n",
            "\n",
            "[8 rows x 5 columns]\n",
            "epoch:  0\n",
            "Model TT ranks: [1 6 6 6 6 1]\n",
            "TT number of parameters:  1824\n",
            "Equivalent fully connected layer parameters:  184320\n",
            "Train on 3005 samples, validate on 334 samples\n",
            "Epoch 1/1\n",
            "3005/3005 [==============================] - 4s 1ms/step - loss: 1.0330 - acc: 0.4539 - val_loss: 0.9659 - val_acc: 0.5210\n",
            "epoch:  1\n",
            "Train on 3005 samples, validate on 334 samples\n",
            "Epoch 1/1\n",
            "3005/3005 [==============================] - 3s 889us/step - loss: 0.8895 - acc: 0.5215 - val_loss: 0.8537 - val_acc: 0.5180\n",
            "epoch:  2\n",
            "Train on 3005 samples, validate on 334 samples\n",
            "Epoch 1/1\n",
            "3005/3005 [==============================] - 3s 871us/step - loss: 0.8341 - acc: 0.5344 - val_loss: 0.8301 - val_acc: 0.5210\n",
            "epoch:  3\n",
            "Train on 3005 samples, validate on 334 samples\n",
            "Epoch 1/1\n",
            "3005/3005 [==============================] - 3s 861us/step - loss: 0.8268 - acc: 0.5318 - val_loss: 0.8267 - val_acc: 0.5090\n",
            "epoch:  4\n",
            "Train on 3005 samples, validate on 334 samples\n",
            "Epoch 1/1\n",
            "3005/3005 [==============================] - 3s 864us/step - loss: 0.8239 - acc: 0.5401 - val_loss: 0.8266 - val_acc: 0.5060\n",
            "epoch:  5\n",
            "Train on 3005 samples, validate on 334 samples\n",
            "Epoch 1/1\n",
            "3005/3005 [==============================] - 3s 861us/step - loss: 0.8209 - acc: 0.5527 - val_loss: 0.8287 - val_acc: 0.5150\n",
            "epoch:  6\n",
            "Train on 3005 samples, validate on 334 samples\n",
            "Epoch 1/1\n",
            "3005/3005 [==============================] - 3s 869us/step - loss: 0.8186 - acc: 0.5527 - val_loss: 0.8290 - val_acc: 0.5030\n",
            "epoch:  7\n",
            "Train on 3005 samples, validate on 334 samples\n",
            "Epoch 1/1\n",
            "3005/3005 [==============================] - 3s 862us/step - loss: 0.8168 - acc: 0.5537 - val_loss: 0.8276 - val_acc: 0.5060\n",
            "epoch:  8\n",
            "Train on 3005 samples, validate on 334 samples\n",
            "Epoch 1/1\n",
            "3005/3005 [==============================] - 3s 878us/step - loss: 0.8147 - acc: 0.5557 - val_loss: 0.8278 - val_acc: 0.5150\n",
            "epoch:  9\n",
            "Train on 3005 samples, validate on 334 samples\n",
            "Epoch 1/1\n",
            "3005/3005 [==============================] - 3s 890us/step - loss: 0.8127 - acc: 0.5607 - val_loss: 0.8275 - val_acc: 0.5090\n",
            "epoch:  10\n",
            "Train on 3005 samples, validate on 334 samples\n",
            "Epoch 1/1\n",
            "3005/3005 [==============================] - 3s 885us/step - loss: 0.8107 - acc: 0.5621 - val_loss: 0.8267 - val_acc: 0.5180\n",
            "epoch:  11\n",
            "Train on 3005 samples, validate on 334 samples\n",
            "Epoch 1/1\n",
            "3005/3005 [==============================] - 3s 880us/step - loss: 0.8085 - acc: 0.5627 - val_loss: 0.8298 - val_acc: 0.4880\n",
            "epoch:  12\n",
            "Train on 3005 samples, validate on 334 samples\n",
            "Epoch 1/1\n",
            "3005/3005 [==============================] - 3s 882us/step - loss: 0.8071 - acc: 0.5704 - val_loss: 0.8276 - val_acc: 0.5030\n",
            "epoch:  13\n",
            "Train on 3005 samples, validate on 334 samples\n",
            "Epoch 1/1\n",
            "3005/3005 [==============================] - 3s 891us/step - loss: 0.8052 - acc: 0.5787 - val_loss: 0.8272 - val_acc: 0.5030\n",
            "epoch:  14\n",
            "Train on 3005 samples, validate on 334 samples\n",
            "Epoch 1/1\n",
            "3005/3005 [==============================] - 3s 888us/step - loss: 0.8039 - acc: 0.5787 - val_loss: 0.8270 - val_acc: 0.5000\n",
            "epoch:  15\n",
            "Train on 3005 samples, validate on 334 samples\n",
            "Epoch 1/1\n",
            "3005/3005 [==============================] - 3s 886us/step - loss: 0.8020 - acc: 0.5807 - val_loss: 0.8277 - val_acc: 0.5030\n",
            "epoch:  16\n",
            "Train on 3005 samples, validate on 334 samples\n",
            "Epoch 1/1\n",
            "3005/3005 [==============================] - 3s 888us/step - loss: 0.8003 - acc: 0.5780 - val_loss: 0.8322 - val_acc: 0.5060\n",
            "epoch:  17\n",
            "Train on 3005 samples, validate on 334 samples\n",
            "Epoch 1/1\n",
            "3005/3005 [==============================] - 3s 885us/step - loss: 0.7982 - acc: 0.5854 - val_loss: 0.8283 - val_acc: 0.5150\n",
            "epoch:  18\n",
            "Train on 3005 samples, validate on 334 samples\n",
            "Epoch 1/1\n",
            "3005/3005 [==============================] - 3s 887us/step - loss: 0.7968 - acc: 0.5864 - val_loss: 0.8291 - val_acc: 0.5000\n",
            "epoch:  19\n",
            "Train on 3005 samples, validate on 334 samples\n",
            "Epoch 1/1\n",
            "3005/3005 [==============================] - 3s 882us/step - loss: 0.7951 - acc: 0.5854 - val_loss: 0.8290 - val_acc: 0.5000\n"
          ],
          "name": "stdout"
        },
        {
          "output_type": "stream",
          "text": [
            "/usr/local/lib/python3.7/dist-packages/ipykernel_launcher.py:2: DeprecationWarning: The default dtype for empty Series will be 'object' instead of 'float64' in a future version. Specify a dtype explicitly to silence this warning.\n",
            "  \n"
          ],
          "name": "stderr"
        },
        {
          "output_type": "stream",
          "text": [
            "                                  1          2  ...           5           6\n",
            "Total return (%)           9.715103   6.372653  ...    4.596478  -15.285607\n",
            "Accuracy (%)              54.261364  51.136364  ...   47.727273   47.159091\n",
            "Average return (%)         0.027600   0.018104  ...    0.013058   -0.043425\n",
            "Maximum drawdown (%)     -17.131367 -21.384362  ...  -15.406494  -21.948732\n",
            "Drawdown duration (Days)  28.000000  67.000000  ...  160.000000  125.000000\n",
            "Sharpe ratio               0.027154   0.016712  ...    0.012062   -0.041498\n",
            "Skew                      -1.307246  -1.026769  ...    1.121411    0.697627\n",
            "Kurtosis                   9.755881  14.360612  ...   16.002665   12.649032\n",
            "\n",
            "[8 rows x 6 columns]\n",
            "epoch:  0\n",
            "Model TT ranks: [1 7 7 7 7 1]\n",
            "TT number of parameters:  2464\n",
            "Equivalent fully connected layer parameters:  184320\n",
            "Train on 3005 samples, validate on 334 samples\n",
            "Epoch 1/1\n",
            "3005/3005 [==============================] - 4s 1ms/step - loss: 1.0278 - acc: 0.4622 - val_loss: 0.9458 - val_acc: 0.4850\n",
            "epoch:  1\n",
            "Train on 3005 samples, validate on 334 samples\n",
            "Epoch 1/1\n",
            "3005/3005 [==============================] - 3s 903us/step - loss: 0.8804 - acc: 0.5108 - val_loss: 0.8447 - val_acc: 0.5150\n",
            "epoch:  2\n",
            "Train on 3005 samples, validate on 334 samples\n",
            "Epoch 1/1\n",
            "3005/3005 [==============================] - 3s 915us/step - loss: 0.8373 - acc: 0.5121 - val_loss: 0.8300 - val_acc: 0.4820\n",
            "epoch:  3\n",
            "Train on 3005 samples, validate on 334 samples\n",
            "Epoch 1/1\n",
            "3005/3005 [==============================] - 3s 908us/step - loss: 0.8316 - acc: 0.5188 - val_loss: 0.8292 - val_acc: 0.4731\n",
            "epoch:  4\n",
            "Train on 3005 samples, validate on 334 samples\n",
            "Epoch 1/1\n",
            "3005/3005 [==============================] - 3s 914us/step - loss: 0.8286 - acc: 0.5255 - val_loss: 0.8280 - val_acc: 0.4790\n",
            "epoch:  5\n",
            "Train on 3005 samples, validate on 334 samples\n",
            "Epoch 1/1\n",
            "3005/3005 [==============================] - 3s 906us/step - loss: 0.8262 - acc: 0.5255 - val_loss: 0.8294 - val_acc: 0.4880\n",
            "epoch:  6\n",
            "Train on 3005 samples, validate on 334 samples\n",
            "Epoch 1/1\n",
            "3005/3005 [==============================] - 3s 917us/step - loss: 0.8237 - acc: 0.5301 - val_loss: 0.8304 - val_acc: 0.5060\n",
            "epoch:  7\n",
            "Train on 3005 samples, validate on 334 samples\n",
            "Epoch 1/1\n",
            "3005/3005 [==============================] - 3s 913us/step - loss: 0.8212 - acc: 0.5371 - val_loss: 0.8293 - val_acc: 0.5030\n",
            "epoch:  8\n",
            "Train on 3005 samples, validate on 334 samples\n",
            "Epoch 1/1\n",
            "3005/3005 [==============================] - 3s 908us/step - loss: 0.8196 - acc: 0.5328 - val_loss: 0.8295 - val_acc: 0.4940\n",
            "epoch:  9\n",
            "Train on 3005 samples, validate on 334 samples\n",
            "Epoch 1/1\n",
            "3005/3005 [==============================] - 3s 901us/step - loss: 0.8167 - acc: 0.5461 - val_loss: 0.8286 - val_acc: 0.5030\n",
            "epoch:  10\n",
            "Train on 3005 samples, validate on 334 samples\n",
            "Epoch 1/1\n",
            "3005/3005 [==============================] - 3s 911us/step - loss: 0.8145 - acc: 0.5411 - val_loss: 0.8300 - val_acc: 0.4970\n",
            "epoch:  11\n",
            "Train on 3005 samples, validate on 334 samples\n",
            "Epoch 1/1\n",
            "3005/3005 [==============================] - 3s 917us/step - loss: 0.8129 - acc: 0.5531 - val_loss: 0.8306 - val_acc: 0.4940\n",
            "epoch:  12\n",
            "Train on 3005 samples, validate on 334 samples\n",
            "Epoch 1/1\n",
            "3005/3005 [==============================] - 3s 915us/step - loss: 0.8116 - acc: 0.5511 - val_loss: 0.8309 - val_acc: 0.4940\n",
            "epoch:  13\n",
            "Train on 3005 samples, validate on 334 samples\n",
            "Epoch 1/1\n",
            "3005/3005 [==============================] - 3s 921us/step - loss: 0.8087 - acc: 0.5587 - val_loss: 0.8305 - val_acc: 0.5030\n",
            "epoch:  14\n",
            "Train on 3005 samples, validate on 334 samples\n",
            "Epoch 1/1\n",
            "3005/3005 [==============================] - 3s 911us/step - loss: 0.8080 - acc: 0.5551 - val_loss: 0.8301 - val_acc: 0.4880\n",
            "epoch:  15\n",
            "Train on 3005 samples, validate on 334 samples\n",
            "Epoch 1/1\n",
            "3005/3005 [==============================] - 3s 923us/step - loss: 0.8054 - acc: 0.5591 - val_loss: 0.8289 - val_acc: 0.4910\n",
            "epoch:  16\n",
            "Train on 3005 samples, validate on 334 samples\n",
            "Epoch 1/1\n",
            "3005/3005 [==============================] - 3s 917us/step - loss: 0.8038 - acc: 0.5644 - val_loss: 0.8301 - val_acc: 0.4940\n",
            "epoch:  17\n",
            "Train on 3005 samples, validate on 334 samples\n",
            "Epoch 1/1\n",
            "3005/3005 [==============================] - 3s 912us/step - loss: 0.8021 - acc: 0.5647 - val_loss: 0.8299 - val_acc: 0.4910\n",
            "epoch:  18\n",
            "Train on 3005 samples, validate on 334 samples\n",
            "Epoch 1/1\n",
            "3005/3005 [==============================] - 3s 915us/step - loss: 0.7997 - acc: 0.5661 - val_loss: 0.8322 - val_acc: 0.4641\n",
            "epoch:  19\n",
            "Train on 3005 samples, validate on 334 samples\n",
            "Epoch 1/1\n",
            "3005/3005 [==============================] - 3s 918us/step - loss: 0.7987 - acc: 0.5797 - val_loss: 0.8293 - val_acc: 0.5030\n"
          ],
          "name": "stdout"
        },
        {
          "output_type": "stream",
          "text": [
            "/usr/local/lib/python3.7/dist-packages/ipykernel_launcher.py:2: DeprecationWarning: The default dtype for empty Series will be 'object' instead of 'float64' in a future version. Specify a dtype explicitly to silence this warning.\n",
            "  \n"
          ],
          "name": "stderr"
        },
        {
          "output_type": "stream",
          "text": [
            "                                  1          2  ...           6           7\n",
            "Total return (%)           9.715103   6.372653  ...  -15.285607  -40.138951\n",
            "Accuracy (%)              54.261364  51.136364  ...   47.159091   43.181818\n",
            "Average return (%)         0.027600   0.018104  ...   -0.043425   -0.114031\n",
            "Maximum drawdown (%)     -17.131367 -21.384362  ...  -21.948732  -50.419025\n",
            "Drawdown duration (Days)  28.000000  67.000000  ...  125.000000  154.000000\n",
            "Sharpe ratio               0.027154   0.016712  ...   -0.041498   -0.107609\n",
            "Skew                      -1.307246  -1.026769  ...    0.697627   -1.892716\n",
            "Kurtosis                   9.755881  14.360612  ...   12.649032   12.393906\n",
            "\n",
            "[8 rows x 7 columns]\n",
            "epoch:  0\n",
            "Model TT ranks: [1 8 8 8 8 1]\n",
            "TT number of parameters:  3200\n",
            "Equivalent fully connected layer parameters:  184320\n",
            "Train on 3005 samples, validate on 334 samples\n",
            "Epoch 1/1\n",
            "3005/3005 [==============================] - 4s 1ms/step - loss: 1.0349 - acc: 0.4326 - val_loss: 0.9483 - val_acc: 0.5120\n",
            "epoch:  1\n",
            "Train on 3005 samples, validate on 334 samples\n",
            "Epoch 1/1\n",
            "3005/3005 [==============================] - 3s 900us/step - loss: 0.8911 - acc: 0.5121 - val_loss: 0.8414 - val_acc: 0.5180\n",
            "epoch:  2\n",
            "Train on 3005 samples, validate on 334 samples\n",
            "Epoch 1/1\n",
            "3005/3005 [==============================] - 3s 895us/step - loss: 0.8411 - acc: 0.5151 - val_loss: 0.8244 - val_acc: 0.5030\n",
            "epoch:  3\n",
            "Train on 3005 samples, validate on 334 samples\n",
            "Epoch 1/1\n",
            "3005/3005 [==============================] - 3s 897us/step - loss: 0.8336 - acc: 0.5231 - val_loss: 0.8216 - val_acc: 0.5120\n",
            "epoch:  4\n",
            "Train on 3005 samples, validate on 334 samples\n",
            "Epoch 1/1\n",
            "3005/3005 [==============================] - 3s 887us/step - loss: 0.8309 - acc: 0.5278 - val_loss: 0.8226 - val_acc: 0.5120\n",
            "epoch:  5\n",
            "Train on 3005 samples, validate on 334 samples\n",
            "Epoch 1/1\n",
            "3005/3005 [==============================] - 3s 892us/step - loss: 0.8286 - acc: 0.5324 - val_loss: 0.8221 - val_acc: 0.5210\n",
            "epoch:  6\n",
            "Train on 3005 samples, validate on 334 samples\n",
            "Epoch 1/1\n",
            "3005/3005 [==============================] - 3s 886us/step - loss: 0.8264 - acc: 0.5318 - val_loss: 0.8232 - val_acc: 0.5150\n",
            "epoch:  7\n",
            "Train on 3005 samples, validate on 334 samples\n",
            "Epoch 1/1\n",
            "3005/3005 [==============================] - 3s 896us/step - loss: 0.8243 - acc: 0.5314 - val_loss: 0.8233 - val_acc: 0.5060\n",
            "epoch:  8\n",
            "Train on 3005 samples, validate on 334 samples\n",
            "Epoch 1/1\n",
            "3005/3005 [==============================] - 3s 902us/step - loss: 0.8225 - acc: 0.5418 - val_loss: 0.8240 - val_acc: 0.5150\n",
            "epoch:  9\n",
            "Train on 3005 samples, validate on 334 samples\n",
            "Epoch 1/1\n",
            "3005/3005 [==============================] - 3s 896us/step - loss: 0.8207 - acc: 0.5424 - val_loss: 0.8230 - val_acc: 0.5240\n",
            "epoch:  10\n",
            "Train on 3005 samples, validate on 334 samples\n",
            "Epoch 1/1\n",
            "3005/3005 [==============================] - 3s 892us/step - loss: 0.8187 - acc: 0.5501 - val_loss: 0.8252 - val_acc: 0.5210\n",
            "epoch:  11\n",
            "Train on 3005 samples, validate on 334 samples\n",
            "Epoch 1/1\n",
            "3005/3005 [==============================] - 3s 891us/step - loss: 0.8169 - acc: 0.5481 - val_loss: 0.8260 - val_acc: 0.5180\n",
            "epoch:  12\n",
            "Train on 3005 samples, validate on 334 samples\n",
            "Epoch 1/1\n",
            "3005/3005 [==============================] - 3s 908us/step - loss: 0.8159 - acc: 0.5541 - val_loss: 0.8250 - val_acc: 0.4970\n",
            "epoch:  13\n",
            "Train on 3005 samples, validate on 334 samples\n",
            "Epoch 1/1\n",
            "3005/3005 [==============================] - 3s 910us/step - loss: 0.8140 - acc: 0.5597 - val_loss: 0.8250 - val_acc: 0.5000\n",
            "epoch:  14\n",
            "Train on 3005 samples, validate on 334 samples\n",
            "Epoch 1/1\n",
            "3005/3005 [==============================] - 3s 901us/step - loss: 0.8130 - acc: 0.5581 - val_loss: 0.8263 - val_acc: 0.5030\n",
            "epoch:  15\n",
            "Train on 3005 samples, validate on 334 samples\n",
            "Epoch 1/1\n",
            "3005/3005 [==============================] - 3s 904us/step - loss: 0.8112 - acc: 0.5617 - val_loss: 0.8259 - val_acc: 0.5269\n",
            "epoch:  16\n",
            "Train on 3005 samples, validate on 334 samples\n",
            "Epoch 1/1\n",
            "3005/3005 [==============================] - 3s 891us/step - loss: 0.8097 - acc: 0.5694 - val_loss: 0.8254 - val_acc: 0.5299\n",
            "epoch:  17\n",
            "Train on 3005 samples, validate on 334 samples\n",
            "Epoch 1/1\n",
            "3005/3005 [==============================] - 3s 889us/step - loss: 0.8084 - acc: 0.5611 - val_loss: 0.8269 - val_acc: 0.5090\n",
            "epoch:  18\n",
            "Train on 3005 samples, validate on 334 samples\n",
            "Epoch 1/1\n",
            "3005/3005 [==============================] - 3s 896us/step - loss: 0.8067 - acc: 0.5684 - val_loss: 0.8265 - val_acc: 0.4940\n",
            "epoch:  19\n",
            "Train on 3005 samples, validate on 334 samples\n",
            "Epoch 1/1\n",
            "3005/3005 [==============================] - 3s 889us/step - loss: 0.8058 - acc: 0.5724 - val_loss: 0.8260 - val_acc: 0.5030\n"
          ],
          "name": "stdout"
        },
        {
          "output_type": "stream",
          "text": [
            "/usr/local/lib/python3.7/dist-packages/ipykernel_launcher.py:2: DeprecationWarning: The default dtype for empty Series will be 'object' instead of 'float64' in a future version. Specify a dtype explicitly to silence this warning.\n",
            "  \n"
          ],
          "name": "stderr"
        },
        {
          "output_type": "stream",
          "text": [
            "                                  1          2  ...           7          8\n",
            "Total return (%)           9.715103   6.372653  ...  -40.138951   4.788363\n",
            "Accuracy (%)              54.261364  51.136364  ...   43.181818  50.852273\n",
            "Average return (%)         0.027600   0.018104  ...   -0.114031   0.013603\n",
            "Maximum drawdown (%)     -17.131367 -21.384362  ...  -50.419025 -17.597923\n",
            "Drawdown duration (Days)  28.000000  67.000000  ...  154.000000  39.000000\n",
            "Sharpe ratio               0.027154   0.016712  ...   -0.107609   0.012586\n",
            "Skew                      -1.307246  -1.026769  ...   -1.892716  -0.844267\n",
            "Kurtosis                   9.755881  14.360612  ...   12.393906  12.441029\n",
            "\n",
            "[8 rows x 8 columns]\n",
            "epoch:  0\n",
            "Model TT ranks: [1 9 9 9 9 1]\n",
            "TT number of parameters:  4032\n",
            "Equivalent fully connected layer parameters:  184320\n",
            "Train on 3005 samples, validate on 334 samples\n",
            "Epoch 1/1\n",
            "3005/3005 [==============================] - 4s 1ms/step - loss: 0.9923 - acc: 0.4679 - val_loss: 0.9051 - val_acc: 0.5210\n",
            "epoch:  1\n",
            "Train on 3005 samples, validate on 334 samples\n",
            "Epoch 1/1\n",
            "3005/3005 [==============================] - 3s 921us/step - loss: 0.8552 - acc: 0.5165 - val_loss: 0.8332 - val_acc: 0.5240\n",
            "epoch:  2\n",
            "Train on 3005 samples, validate on 334 samples\n",
            "Epoch 1/1\n",
            "3005/3005 [==============================] - 3s 925us/step - loss: 0.8359 - acc: 0.5205 - val_loss: 0.8264 - val_acc: 0.5090\n",
            "epoch:  3\n",
            "Train on 3005 samples, validate on 334 samples\n",
            "Epoch 1/1\n",
            "3005/3005 [==============================] - 3s 922us/step - loss: 0.8333 - acc: 0.5221 - val_loss: 0.8262 - val_acc: 0.5210\n",
            "epoch:  4\n",
            "Train on 3005 samples, validate on 334 samples\n",
            "Epoch 1/1\n",
            "3005/3005 [==============================] - 3s 919us/step - loss: 0.8313 - acc: 0.5231 - val_loss: 0.8272 - val_acc: 0.5240\n",
            "epoch:  5\n",
            "Train on 3005 samples, validate on 334 samples\n",
            "Epoch 1/1\n",
            "3005/3005 [==============================] - 3s 921us/step - loss: 0.8297 - acc: 0.5295 - val_loss: 0.8277 - val_acc: 0.5240\n",
            "epoch:  6\n",
            "Train on 3005 samples, validate on 334 samples\n",
            "Epoch 1/1\n",
            "3005/3005 [==============================] - 3s 904us/step - loss: 0.8283 - acc: 0.5321 - val_loss: 0.8257 - val_acc: 0.5269\n",
            "epoch:  7\n",
            "Train on 3005 samples, validate on 334 samples\n",
            "Epoch 1/1\n",
            "3005/3005 [==============================] - 3s 902us/step - loss: 0.8271 - acc: 0.5304 - val_loss: 0.8258 - val_acc: 0.5120\n",
            "epoch:  8\n",
            "Train on 3005 samples, validate on 334 samples\n",
            "Epoch 1/1\n",
            "3005/3005 [==============================] - 3s 908us/step - loss: 0.8256 - acc: 0.5358 - val_loss: 0.8266 - val_acc: 0.5240\n",
            "epoch:  9\n",
            "Train on 3005 samples, validate on 334 samples\n",
            "Epoch 1/1\n",
            "3005/3005 [==============================] - 3s 904us/step - loss: 0.8240 - acc: 0.5348 - val_loss: 0.8286 - val_acc: 0.5240\n",
            "epoch:  10\n",
            "Train on 3005 samples, validate on 334 samples\n",
            "Epoch 1/1\n",
            "3005/3005 [==============================] - 3s 910us/step - loss: 0.8223 - acc: 0.5401 - val_loss: 0.8257 - val_acc: 0.5180\n",
            "epoch:  11\n",
            "Train on 3005 samples, validate on 334 samples\n",
            "Epoch 1/1\n",
            "3005/3005 [==============================] - 3s 908us/step - loss: 0.8219 - acc: 0.5408 - val_loss: 0.8269 - val_acc: 0.5060\n",
            "epoch:  12\n",
            "Train on 3005 samples, validate on 334 samples\n",
            "Epoch 1/1\n",
            "3005/3005 [==============================] - 3s 909us/step - loss: 0.8201 - acc: 0.5428 - val_loss: 0.8287 - val_acc: 0.5120\n",
            "epoch:  13\n",
            "Train on 3005 samples, validate on 334 samples\n",
            "Epoch 1/1\n",
            "3005/3005 [==============================] - 3s 910us/step - loss: 0.8192 - acc: 0.5434 - val_loss: 0.8301 - val_acc: 0.5060\n",
            "epoch:  14\n",
            "Train on 3005 samples, validate on 334 samples\n",
            "Epoch 1/1\n",
            "3005/3005 [==============================] - 3s 912us/step - loss: 0.8180 - acc: 0.5478 - val_loss: 0.8331 - val_acc: 0.5210\n",
            "epoch:  15\n",
            "Train on 3005 samples, validate on 334 samples\n",
            "Epoch 1/1\n",
            "3005/3005 [==============================] - 3s 922us/step - loss: 0.8169 - acc: 0.5471 - val_loss: 0.8292 - val_acc: 0.5120\n",
            "epoch:  16\n",
            "Train on 3005 samples, validate on 334 samples\n",
            "Epoch 1/1\n",
            "3005/3005 [==============================] - 3s 922us/step - loss: 0.8156 - acc: 0.5517 - val_loss: 0.8301 - val_acc: 0.5090\n",
            "epoch:  17\n",
            "Train on 3005 samples, validate on 334 samples\n",
            "Epoch 1/1\n",
            "3005/3005 [==============================] - 3s 929us/step - loss: 0.8142 - acc: 0.5567 - val_loss: 0.8297 - val_acc: 0.5240\n",
            "epoch:  18\n",
            "Train on 3005 samples, validate on 334 samples\n",
            "Epoch 1/1\n",
            "3005/3005 [==============================] - 3s 926us/step - loss: 0.8138 - acc: 0.5594 - val_loss: 0.8302 - val_acc: 0.5210\n",
            "epoch:  19\n",
            "Train on 3005 samples, validate on 334 samples\n",
            "Epoch 1/1\n",
            "3005/3005 [==============================] - 3s 939us/step - loss: 0.8124 - acc: 0.5557 - val_loss: 0.8284 - val_acc: 0.5210\n"
          ],
          "name": "stdout"
        },
        {
          "output_type": "stream",
          "text": [
            "/usr/local/lib/python3.7/dist-packages/ipykernel_launcher.py:2: DeprecationWarning: The default dtype for empty Series will be 'object' instead of 'float64' in a future version. Specify a dtype explicitly to silence this warning.\n",
            "  \n"
          ],
          "name": "stderr"
        },
        {
          "output_type": "stream",
          "text": [
            "                                  1          2  ...          8           9\n",
            "Total return (%)           9.715103   6.372653  ...   4.788363    5.158940\n",
            "Accuracy (%)              54.261364  51.136364  ...  50.852273   48.579545\n",
            "Average return (%)         0.027600   0.018104  ...   0.013603    0.014656\n",
            "Maximum drawdown (%)     -17.131367 -21.384362  ... -17.597923  -15.308145\n",
            "Drawdown duration (Days)  28.000000  67.000000  ...  39.000000  110.000000\n",
            "Sharpe ratio               0.027154   0.016712  ...   0.012586    0.015106\n",
            "Skew                      -1.307246  -1.026769  ...  -0.844267    0.765503\n",
            "Kurtosis                   9.755881  14.360612  ...  12.441029    9.975167\n",
            "\n",
            "[8 rows x 9 columns]\n",
            "epoch:  0\n",
            "Model TT ranks: [ 1 10 10 10 10  1]\n",
            "TT number of parameters:  4960\n",
            "Equivalent fully connected layer parameters:  184320\n",
            "Train on 3005 samples, validate on 334 samples\n",
            "Epoch 1/1\n",
            "3005/3005 [==============================] - 4s 1ms/step - loss: 1.0450 - acc: 0.4409 - val_loss: 0.9786 - val_acc: 0.5389\n",
            "epoch:  1\n",
            "Train on 3005 samples, validate on 334 samples\n",
            "Epoch 1/1\n",
            "3005/3005 [==============================] - 3s 957us/step - loss: 0.9100 - acc: 0.5058 - val_loss: 0.8535 - val_acc: 0.5240\n",
            "epoch:  2\n",
            "Train on 3005 samples, validate on 334 samples\n",
            "Epoch 1/1\n",
            "3005/3005 [==============================] - 3s 941us/step - loss: 0.8422 - acc: 0.5201 - val_loss: 0.8250 - val_acc: 0.5240\n",
            "epoch:  3\n",
            "Train on 3005 samples, validate on 334 samples\n",
            "Epoch 1/1\n",
            "3005/3005 [==============================] - 3s 935us/step - loss: 0.8324 - acc: 0.5245 - val_loss: 0.8218 - val_acc: 0.5180\n",
            "epoch:  4\n",
            "Train on 3005 samples, validate on 334 samples\n",
            "Epoch 1/1\n",
            "3005/3005 [==============================] - 3s 939us/step - loss: 0.8297 - acc: 0.5338 - val_loss: 0.8228 - val_acc: 0.5150\n",
            "epoch:  5\n",
            "Train on 3005 samples, validate on 334 samples\n",
            "Epoch 1/1\n",
            "3005/3005 [==============================] - 3s 939us/step - loss: 0.8272 - acc: 0.5354 - val_loss: 0.8236 - val_acc: 0.5419\n",
            "epoch:  6\n",
            "Train on 3005 samples, validate on 334 samples\n",
            "Epoch 1/1\n",
            "3005/3005 [==============================] - 3s 954us/step - loss: 0.8247 - acc: 0.5444 - val_loss: 0.8233 - val_acc: 0.5180\n",
            "epoch:  7\n",
            "Train on 3005 samples, validate on 334 samples\n",
            "Epoch 1/1\n",
            "3005/3005 [==============================] - 3s 949us/step - loss: 0.8232 - acc: 0.5428 - val_loss: 0.8241 - val_acc: 0.5359\n",
            "epoch:  8\n",
            "Train on 3005 samples, validate on 334 samples\n",
            "Epoch 1/1\n",
            "3005/3005 [==============================] - 3s 936us/step - loss: 0.8213 - acc: 0.5461 - val_loss: 0.8256 - val_acc: 0.5329\n",
            "epoch:  9\n",
            "Train on 3005 samples, validate on 334 samples\n",
            "Epoch 1/1\n",
            "3005/3005 [==============================] - 3s 934us/step - loss: 0.8194 - acc: 0.5448 - val_loss: 0.8249 - val_acc: 0.5299\n",
            "epoch:  10\n",
            "Train on 3005 samples, validate on 334 samples\n",
            "Epoch 1/1\n",
            "3005/3005 [==============================] - 3s 940us/step - loss: 0.8175 - acc: 0.5557 - val_loss: 0.8254 - val_acc: 0.5269\n",
            "epoch:  11\n",
            "Train on 3005 samples, validate on 334 samples\n",
            "Epoch 1/1\n",
            "3005/3005 [==============================] - 3s 947us/step - loss: 0.8158 - acc: 0.5547 - val_loss: 0.8273 - val_acc: 0.5359\n",
            "epoch:  12\n",
            "Train on 3005 samples, validate on 334 samples\n",
            "Epoch 1/1\n",
            "3005/3005 [==============================] - 3s 940us/step - loss: 0.8146 - acc: 0.5541 - val_loss: 0.8256 - val_acc: 0.5299\n",
            "epoch:  13\n",
            "Train on 3005 samples, validate on 334 samples\n",
            "Epoch 1/1\n",
            "3005/3005 [==============================] - 3s 934us/step - loss: 0.8129 - acc: 0.5564 - val_loss: 0.8258 - val_acc: 0.5240\n",
            "epoch:  14\n",
            "Train on 3005 samples, validate on 334 samples\n",
            "Epoch 1/1\n",
            "3005/3005 [==============================] - 3s 962us/step - loss: 0.8107 - acc: 0.5567 - val_loss: 0.8259 - val_acc: 0.5269\n",
            "epoch:  15\n",
            "Train on 3005 samples, validate on 334 samples\n",
            "Epoch 1/1\n",
            "3005/3005 [==============================] - 3s 950us/step - loss: 0.8100 - acc: 0.5617 - val_loss: 0.8266 - val_acc: 0.5240\n",
            "epoch:  16\n",
            "Train on 3005 samples, validate on 334 samples\n",
            "Epoch 1/1\n",
            "3005/3005 [==============================] - 3s 953us/step - loss: 0.8087 - acc: 0.5707 - val_loss: 0.8274 - val_acc: 0.5240\n",
            "epoch:  17\n",
            "Train on 3005 samples, validate on 334 samples\n",
            "Epoch 1/1\n",
            "3005/3005 [==============================] - 3s 954us/step - loss: 0.8069 - acc: 0.5674 - val_loss: 0.8290 - val_acc: 0.5269\n",
            "epoch:  18\n",
            "Train on 3005 samples, validate on 334 samples\n",
            "Epoch 1/1\n",
            "3005/3005 [==============================] - 3s 950us/step - loss: 0.8049 - acc: 0.5697 - val_loss: 0.8276 - val_acc: 0.5269\n",
            "epoch:  19\n",
            "Train on 3005 samples, validate on 334 samples\n",
            "Epoch 1/1\n",
            "3005/3005 [==============================] - 3s 953us/step - loss: 0.8036 - acc: 0.5704 - val_loss: 0.8306 - val_acc: 0.5329\n",
            "                                 1          2   ...          9           10\n",
            "Total return (%)           9.715103   6.372653  ...    5.158940    0.960572\n",
            "Accuracy (%)              54.261364  51.136364  ...   48.579545   42.045455\n",
            "Average return (%)         0.027600   0.018104  ...    0.014656    0.002729\n",
            "Maximum drawdown (%)     -17.131367 -21.384362  ...  -15.308145  -20.402533\n",
            "Drawdown duration (Days)  28.000000  67.000000  ...  110.000000  266.000000\n",
            "Sharpe ratio               0.027154   0.016712  ...    0.015106    0.002632\n",
            "Skew                      -1.307246  -1.026769  ...    0.765503    1.595818\n",
            "Kurtosis                   9.755881  14.360612  ...    9.975167   12.479204\n",
            "\n",
            "[8 rows x 10 columns]\n"
          ],
          "name": "stdout"
        },
        {
          "output_type": "stream",
          "text": [
            "/usr/local/lib/python3.7/dist-packages/ipykernel_launcher.py:2: DeprecationWarning: The default dtype for empty Series will be 'object' instead of 'float64' in a future version. Specify a dtype explicitly to silence this warning.\n",
            "  \n"
          ],
          "name": "stderr"
        }
      ]
    },
    {
      "cell_type": "code",
      "metadata": {
        "id": "e3lkVGJxSJTU",
        "colab": {
          "base_uri": "https://localhost:8080/"
        },
        "outputId": "4b2a8976-02c7-48e6-cd0c-0616de980191"
      },
      "source": [
        "model.summary()"
      ],
      "execution_count": 19,
      "outputs": [
        {
          "output_type": "stream",
          "text": [
            "_________________________________________________________________\n",
            "Layer (type)                 Output Shape              Param #   \n",
            "=================================================================\n",
            "tt_recurrent_layer_10 (TTRec (None, 1024)              1054560   \n",
            "_________________________________________________________________\n",
            "dense_10 (Dense)             (None, 3)                 3075      \n",
            "=================================================================\n",
            "Total params: 1,057,635\n",
            "Trainable params: 1,057,635\n",
            "Non-trainable params: 0\n",
            "_________________________________________________________________\n"
          ],
          "name": "stdout"
        }
      ]
    },
    {
      "cell_type": "markdown",
      "metadata": {
        "id": "4WHTEjMRSWGt"
      },
      "source": [
        "## Analysis"
      ]
    },
    {
      "cell_type": "code",
      "metadata": {
        "id": "mHaPlZLYSYpk",
        "colab": {
          "base_uri": "https://localhost:8080/",
          "height": 297
        },
        "outputId": "30234155-edeb-4b39-9347-15268219cce2"
      },
      "source": [
        "trading_res"
      ],
      "execution_count": 20,
      "outputs": [
        {
          "output_type": "execute_result",
          "data": {
            "text/html": [
              "<div>\n",
              "<style scoped>\n",
              "    .dataframe tbody tr th:only-of-type {\n",
              "        vertical-align: middle;\n",
              "    }\n",
              "\n",
              "    .dataframe tbody tr th {\n",
              "        vertical-align: top;\n",
              "    }\n",
              "\n",
              "    .dataframe thead th {\n",
              "        text-align: right;\n",
              "    }\n",
              "</style>\n",
              "<table border=\"1\" class=\"dataframe\">\n",
              "  <thead>\n",
              "    <tr style=\"text-align: right;\">\n",
              "      <th></th>\n",
              "      <th>1</th>\n",
              "      <th>2</th>\n",
              "      <th>3</th>\n",
              "      <th>4</th>\n",
              "      <th>5</th>\n",
              "      <th>6</th>\n",
              "      <th>7</th>\n",
              "      <th>8</th>\n",
              "      <th>9</th>\n",
              "      <th>10</th>\n",
              "    </tr>\n",
              "  </thead>\n",
              "  <tbody>\n",
              "    <tr>\n",
              "      <th>Total return (%)</th>\n",
              "      <td>9.715103</td>\n",
              "      <td>6.372653</td>\n",
              "      <td>24.767446</td>\n",
              "      <td>-18.540654</td>\n",
              "      <td>4.596478</td>\n",
              "      <td>-15.285607</td>\n",
              "      <td>-40.138951</td>\n",
              "      <td>4.788363</td>\n",
              "      <td>5.158940</td>\n",
              "      <td>0.960572</td>\n",
              "    </tr>\n",
              "    <tr>\n",
              "      <th>Accuracy (%)</th>\n",
              "      <td>54.261364</td>\n",
              "      <td>51.136364</td>\n",
              "      <td>51.704545</td>\n",
              "      <td>48.011364</td>\n",
              "      <td>47.727273</td>\n",
              "      <td>47.159091</td>\n",
              "      <td>43.181818</td>\n",
              "      <td>50.852273</td>\n",
              "      <td>48.579545</td>\n",
              "      <td>42.045455</td>\n",
              "    </tr>\n",
              "    <tr>\n",
              "      <th>Average return (%)</th>\n",
              "      <td>0.027600</td>\n",
              "      <td>0.018104</td>\n",
              "      <td>0.070362</td>\n",
              "      <td>-0.052672</td>\n",
              "      <td>0.013058</td>\n",
              "      <td>-0.043425</td>\n",
              "      <td>-0.114031</td>\n",
              "      <td>0.013603</td>\n",
              "      <td>0.014656</td>\n",
              "      <td>0.002729</td>\n",
              "    </tr>\n",
              "    <tr>\n",
              "      <th>Maximum drawdown (%)</th>\n",
              "      <td>-17.131367</td>\n",
              "      <td>-21.384362</td>\n",
              "      <td>-10.842586</td>\n",
              "      <td>-29.273461</td>\n",
              "      <td>-15.406494</td>\n",
              "      <td>-21.948732</td>\n",
              "      <td>-50.419025</td>\n",
              "      <td>-17.597923</td>\n",
              "      <td>-15.308145</td>\n",
              "      <td>-20.402533</td>\n",
              "    </tr>\n",
              "    <tr>\n",
              "      <th>Drawdown duration (Days)</th>\n",
              "      <td>28.000000</td>\n",
              "      <td>67.000000</td>\n",
              "      <td>38.000000</td>\n",
              "      <td>258.000000</td>\n",
              "      <td>160.000000</td>\n",
              "      <td>125.000000</td>\n",
              "      <td>154.000000</td>\n",
              "      <td>39.000000</td>\n",
              "      <td>110.000000</td>\n",
              "      <td>266.000000</td>\n",
              "    </tr>\n",
              "    <tr>\n",
              "      <th>Sharpe ratio</th>\n",
              "      <td>0.027154</td>\n",
              "      <td>0.016712</td>\n",
              "      <td>0.072237</td>\n",
              "      <td>-0.045985</td>\n",
              "      <td>0.012062</td>\n",
              "      <td>-0.041498</td>\n",
              "      <td>-0.107609</td>\n",
              "      <td>0.012586</td>\n",
              "      <td>0.015106</td>\n",
              "      <td>0.002632</td>\n",
              "    </tr>\n",
              "    <tr>\n",
              "      <th>Skew</th>\n",
              "      <td>-1.307246</td>\n",
              "      <td>-1.026769</td>\n",
              "      <td>1.198377</td>\n",
              "      <td>-1.427992</td>\n",
              "      <td>1.121411</td>\n",
              "      <td>0.697627</td>\n",
              "      <td>-1.892716</td>\n",
              "      <td>-0.844267</td>\n",
              "      <td>0.765503</td>\n",
              "      <td>1.595818</td>\n",
              "    </tr>\n",
              "    <tr>\n",
              "      <th>Kurtosis</th>\n",
              "      <td>9.755881</td>\n",
              "      <td>14.360612</td>\n",
              "      <td>10.044680</td>\n",
              "      <td>17.844920</td>\n",
              "      <td>16.002665</td>\n",
              "      <td>12.649032</td>\n",
              "      <td>12.393906</td>\n",
              "      <td>12.441029</td>\n",
              "      <td>9.975167</td>\n",
              "      <td>12.479204</td>\n",
              "    </tr>\n",
              "  </tbody>\n",
              "</table>\n",
              "</div>"
            ],
            "text/plain": [
              "                                 1          2   ...          9           10\n",
              "Total return (%)           9.715103   6.372653  ...    5.158940    0.960572\n",
              "Accuracy (%)              54.261364  51.136364  ...   48.579545   42.045455\n",
              "Average return (%)         0.027600   0.018104  ...    0.014656    0.002729\n",
              "Maximum drawdown (%)     -17.131367 -21.384362  ...  -15.308145  -20.402533\n",
              "Drawdown duration (Days)  28.000000  67.000000  ...  110.000000  266.000000\n",
              "Sharpe ratio               0.027154   0.016712  ...    0.015106    0.002632\n",
              "Skew                      -1.307246  -1.026769  ...    0.765503    1.595818\n",
              "Kurtosis                   9.755881  14.360612  ...    9.975167   12.479204\n",
              "\n",
              "[8 rows x 10 columns]"
            ]
          },
          "metadata": {
            "tags": []
          },
          "execution_count": 20
        }
      ]
    },
    {
      "cell_type": "code",
      "metadata": {
        "id": "Qwv1MvN-ThVR",
        "colab": {
          "base_uri": "https://localhost:8080/",
          "height": 241
        },
        "outputId": "0dd73b6a-6e06-4837-fee0-644e0aefd042"
      },
      "source": [
        "fig,ax = plt.subplots()\n",
        "ax.plot(ranks, parameters, marker='o', markersize=4)\n",
        "ax.set_title('Number of Parameters')\n",
        "ax.set_xlabel('Ranks')\n",
        "ax.set_ylabel('Number')\n",
        "ax.set_xlim([1,10])\n",
        "\n",
        "fig.set_size_inches(12,3)"
      ],
      "execution_count": 21,
      "outputs": [
        {
          "output_type": "display_data",
          "data": {
            "image/png": "[encoded data removed]",
            "text/plain": [
              "<Figure size 864x216 with 1 Axes>"
            ]
          },
          "metadata": {
            "tags": [],
            "needs_background": "light"
          }
        }
      ]
    },
    {
      "cell_type": "code",
      "metadata": {
        "id": "Z8ZK27EeSuiD",
        "colab": {
          "base_uri": "https://localhost:8080/"
        },
        "outputId": "7a693ba9-13cd-4e5b-cc0f-5ee061d17c0f"
      },
      "source": [
        "model = best_model\n",
        "train_loss = best_train_loss\n",
        "valid_loss = best_valid_loss\n",
        "trani_acc = best_train_acc\n",
        "valid_acc = best_valid_acc\n",
        "weights_XH = best_weights_XH\n",
        "weights_HH = best_weights_HH\n",
        "\n",
        "model.summary()"
      ],
      "execution_count": 22,
      "outputs": [
        {
          "output_type": "stream",
          "text": [
            "_________________________________________________________________\n",
            "Layer (type)                 Output Shape              Param #   \n",
            "=================================================================\n",
            "tt_recurrent_layer_3 (TTRecu (None, 1024)              1050080   \n",
            "_________________________________________________________________\n",
            "dense_3 (Dense)              (None, 3)                 3075      \n",
            "=================================================================\n",
            "Total params: 1,053,155\n",
            "Trainable params: 1,053,155\n",
            "Non-trainable params: 0\n",
            "_________________________________________________________________\n"
          ],
          "name": "stdout"
        }
      ]
    },
    {
      "cell_type": "code",
      "metadata": {
        "id": "SxeUMP4qS2Fi",
        "colab": {
          "base_uri": "https://localhost:8080/",
          "height": 543
        },
        "outputId": "1447035c-5845-492f-f63f-6a74260e2d27"
      },
      "source": [
        "fig, axes = plt.subplots(2,1)\n",
        "\n",
        "ax=axes[0]\n",
        "ax.plot([i for i in range(1,epochs+1)], train_loss, marker='o', markersize=4)\n",
        "ax.plot([i for i in range(1,epochs+1)], valid_loss, marker='o', markersize=4)\n",
        "ax.legend(['Train', 'Validation'])\n",
        "ax.set_title('Cross-entropy loss')\n",
        "ax.set_xlabel('Epoch')\n",
        "ax.set_ylabel('Loss')\n",
        "ax.set_xlim([1,20])\n",
        "\n",
        "ax=axes[1]\n",
        "ax.plot([i for i in range(1,epochs+1)], train_acc, marker='o', markersize=4)\n",
        "ax.plot([i for i in range(1,epochs+1)], valid_acc, marker='o', markersize=4)\n",
        "ax.legend(['Train', 'Validation'])\n",
        "ax.set_title('Accuracy')\n",
        "ax.set_xlabel('Epoch')\n",
        "ax.set_ylabel('Accuracy (%)')\n",
        "ax.set_xlim([1,20])\n",
        "\n",
        "fig.set_size_inches(12,6)\n",
        "fig.tight_layout()\n",
        "\n",
        "print('train loss: ',train_loss[19])\n",
        "print('validation loss: ', valid_loss[19], '\\n')\n",
        "\n",
        "print('train accuracy: ',train_acc[19])\n",
        "print('validation accuracy: ', valid_acc[19], '\\n')"
      ],
      "execution_count": 23,
      "outputs": [
        {
          "output_type": "stream",
          "text": [
            "train loss:  0.7918208698068007\n",
            "validation loss:  0.852397013210251 \n",
            "\n",
            "train accuracy:  57.03826914313629\n",
            "validation accuracy:  50.898202450689446 \n",
            "\n"
          ],
          "name": "stdout"
        },
        {
          "output_type": "display_data",
          "data": {
            "image/png": "[encoded data removed]",
            "text/plain": [
              "<Figure size 864x432 with 2 Axes>"
            ]
          },
          "metadata": {
            "tags": [],
            "needs_background": "light"
          }
        }
      ]
    },
    {
      "cell_type": "code",
      "metadata": {
        "id": "XRaQiuxYS_-V"
      },
      "source": [
        "wcore_1 = [] \n",
        "wcore_2 = []\n",
        "wcore_3 = []\n",
        "wcore_4 = []\n",
        "wcore_5 = []\n",
        "\n",
        "for i in range(len(weights_XH)):\n",
        "  wcore_5.append(weights_XH[i][model.layers[0].indices[4]:model.layers[0].indices[3]])\n",
        "  wcore_4.append(weights_XH[i][model.layers[0].indices[3]:model.layers[0].indices[2]])\n",
        "  wcore_3.append(weights_XH[i][model.layers[0].indices[2]:model.layers[0].indices[1]])\n",
        "  wcore_2.append(weights_XH[i][model.layers[0].indices[1]:model.layers[0].indices[0]])\n",
        "  wcore_1.append(weights_XH[i][model.layers[0].indices[0]:])"
      ],
      "execution_count": 24,
      "outputs": []
    },
    {
      "cell_type": "code",
      "metadata": {
        "id": "asLm9jrTTA8t"
      },
      "source": [
        "dwcore_1 = []\n",
        "dwcore_2 = []\n",
        "dwcore_3 = []\n",
        "dwcore_4 = []\n",
        "dwcore_5 = []\n",
        "\n",
        "for i in range(1,len(weights_XH)):\n",
        "  dwcore_1.append(np.mean(abs(wcore_1[i]-wcore_1[i-1])))\n",
        "  dwcore_2.append(np.mean(abs(wcore_2[i]-wcore_2[i-1])))\n",
        "  dwcore_3.append(np.mean(abs(wcore_3[i]-wcore_3[i-1])))\n",
        "  dwcore_4.append(np.mean(abs(wcore_4[i]-wcore_4[i-1])))\n",
        "  dwcore_5.append(np.mean(abs(wcore_5[i]-wcore_5[i-1])))\n",
        "  \n",
        "pdwcore_1 = []\n",
        "pdwcore_2 = []\n",
        "pdwcore_3 = []\n",
        "pdwcore_4 = []\n",
        "pdwcore_5 = []\n",
        "\n",
        "for i in range(1,len(weights_XH)):\n",
        "  pdwcore_1.append(100*np.mean(abs((wcore_1[i]-wcore_1[i-1])/wcore_1[i-1])))\n",
        "  pdwcore_2.append(100*np.mean(abs((wcore_2[i]-wcore_2[i-1])/wcore_2[i-1])))\n",
        "  pdwcore_3.append(100*np.mean(abs((wcore_3[i]-wcore_3[i-1])/wcore_3[i-1])))\n",
        "  pdwcore_4.append(100*np.mean(abs((wcore_4[i]-wcore_4[i-1])/wcore_4[i-1])))\n",
        "  pdwcore_5.append(100*np.mean(abs((wcore_5[i]-wcore_5[i-1])/wcore_5[i-1])))"
      ],
      "execution_count": 25,
      "outputs": []
    },
    {
      "cell_type": "code",
      "metadata": {
        "id": "omC_HtjFTDHl",
        "colab": {
          "base_uri": "https://localhost:8080/",
          "height": 241
        },
        "outputId": "8fa8963a-e91e-4e49-dd40-68be546f76ed"
      },
      "source": [
        "fig, axes = plt.subplots() # plot 3 by 2\n",
        "\n",
        "axes.plot([i for i in range(2,epochs+1)], dwcore_1, marker='o', markersize=4)\n",
        "axes.plot([i for i in range(2,epochs+1)], dwcore_2, marker='o', markersize=4)\n",
        "axes.plot([i for i in range(2,epochs+1)], dwcore_3, marker='o', markersize=4)\n",
        "axes.plot([i for i in range(2,epochs+1)], dwcore_4, marker='o', markersize=4)\n",
        "axes.plot([i for i in range(2,epochs+1)], dwcore_5, marker='o', markersize=4)\n",
        "axes.legend(['Core 1', 'Core 2', 'Core 3', 'Core 4', 'Core 5'], loc='best')\n",
        "axes.set_title('Change in core weights')\n",
        "axes.set_xlabel('Epoch')\n",
        "axes.set_ylabel('Change')\n",
        "axes.set_xlim([2,20])\n",
        "\n",
        "fig.set_size_inches(12,3)"
      ],
      "execution_count": 26,
      "outputs": [
        {
          "output_type": "display_data",
          "data": {
            "image/png": "[encoded data removed]",
            "text/plain": [
              "<Figure size 864x216 with 1 Axes>"
            ]
          },
          "metadata": {
            "tags": [],
            "needs_background": "light"
          }
        }
      ]
    },
    {
      "cell_type": "markdown",
      "metadata": {
        "id": "Gnj6ZQ5FTIpo"
      },
      "source": [
        "## Backtest"
      ]
    },
    {
      "cell_type": "code",
      "metadata": {
        "id": "ruFrZInfTKXJ",
        "colab": {
          "base_uri": "https://localhost:8080/",
          "height": 244
        },
        "outputId": "f86b3c42-a51f-410b-f3e1-69bf18a78302"
      },
      "source": [
        "returns = labels['SPX'][-RNN_y_test.shape[0]:]*100\n",
        "idx = model.predict(RNN_X_test).argmax(1)-1\n",
        "idx = idx*model.predict(RNN_X_test).max(1)\n",
        "predicted = returns*idx\n",
        "\n",
        "returns.index = pd.to_datetime(returns.index)\n",
        "predicted.index = pd.to_datetime(predicted.index)\n",
        "\n",
        "fig, ax = plt.subplots()\n",
        "\n",
        "returns.cumsum().plot()\n",
        "predicted.cumsum().plot()\n",
        "plt.legend(['Actual', 'Forecast'], loc='upper left')\n",
        "plt.title('Backtesting with SPX')\n",
        "plt.ylabel('Cumulative log returns (%)')\n",
        "fig.set_size_inches(12,3)"
      ],
      "execution_count": 27,
      "outputs": [
        {
          "output_type": "display_data",
          "data": {
            "image/png": "[encoded data removed]",
            "text/plain": [
              "<Figure size 864x216 with 1 Axes>"
            ]
          },
          "metadata": {
            "tags": [],
            "needs_background": "light"
          }
        }
      ]
    },
    {
      "cell_type": "code",
      "metadata": {
        "id": "8SJnUQvsTOdD",
        "colab": {
          "base_uri": "https://localhost:8080/"
        },
        "outputId": "d07f8cfa-468f-411c-e3e0-81d579b9379a"
      },
      "source": [
        "trading_results(predicted)"
      ],
      "execution_count": 28,
      "outputs": [
        {
          "output_type": "stream",
          "text": [
            "/usr/local/lib/python3.7/dist-packages/ipykernel_launcher.py:2: DeprecationWarning: The default dtype for empty Series will be 'object' instead of 'float64' in a future version. Specify a dtype explicitly to silence this warning.\n",
            "  \n"
          ],
          "name": "stderr"
        },
        {
          "output_type": "execute_result",
          "data": {
            "text/plain": [
              "Total return (%)            24.767446\n",
              "Accuracy (%)                51.704545\n",
              "Average return (%)           0.070362\n",
              "Maximum drawdown (%)       -10.842586\n",
              "Drawdown duration (Days)    38.000000\n",
              "Sharpe ratio                 0.072237\n",
              "Skew                         1.198377\n",
              "Kurtosis                    10.044680\n",
              "dtype: float64"
            ]
          },
          "metadata": {
            "tags": []
          },
          "execution_count": 28
        }
      ]
    },
    {
      "cell_type": "code",
      "metadata": {
        "id": "KXhG4H1qpTrD",
        "colab": {
          "base_uri": "https://localhost:8080/"
        },
        "outputId": "f6fcf2e5-6791-499c-b60f-a2a4ea0a9b61"
      },
      "source": [
        "# test loss\n",
        "score = model.evaluate(RNN_X_test,RNN_y_test, batch_size=22*3)\n",
        "score"
      ],
      "execution_count": 30,
      "outputs": [
        {
          "output_type": "stream",
          "text": [
            "352/352 [==============================] - 0s 374us/step\n"
          ],
          "name": "stdout"
        },
        {
          "output_type": "execute_result",
          "data": {
            "text/plain": [
              "[0.8873486183583736, 0.5142045263200998]"
            ]
          },
          "metadata": {
            "tags": []
          },
          "execution_count": 30
        }
      ]
    },
    {
      "cell_type": "markdown",
      "metadata": {
        "id": "YfxW6vcBdO8C"
      },
      "source": [
        "# H-TT Recurrent Neural Network Model"
      ]
    },
    {
      "cell_type": "markdown",
      "metadata": {
        "id": "9yzCiPRLBv6O"
      },
      "source": [
        "## MDT"
      ]
    },
    {
      "cell_type": "markdown",
      "metadata": {
        "id": "IloaEd2V4xep"
      },
      "source": [
        "It is assumed that mode-0 contains the different features and mode-1 contains the time steps. Thus, the input matrix is as follows: $\\textbf{X} \\in \\mathbb{R}^{I \\times T}$."
      ]
    },
    {
      "cell_type": "code",
      "metadata": {
        "id": "Fy_b41N7B1nl"
      },
      "source": [
        "def make_duplication_matrix(T,tau):\n",
        "  T_hat = tau*(T-tau+1)\n",
        "\n",
        "  dup = np.zeros((T,T_hat))\n",
        "  identity_matrix = np.identity(tau)\n",
        "\n",
        "  x_left = 0\n",
        "  x_right = tau\n",
        "  y_high = 0\n",
        "  y_low = tau\n",
        "\n",
        "  for i in range(dup.shape[1]):\n",
        "    \n",
        "    if(x_right > T_hat or y_low > T):\n",
        "      break\n",
        "    else:\n",
        "      dup[y_high:y_low,x_left:x_right] = identity_matrix\n",
        "\n",
        "      x_left=x_right\n",
        "      x_right+=tau\n",
        "      y_high+=1\n",
        "      y_low+=1\n",
        "\n",
        "  return dup"
      ],
      "execution_count": 12,
      "outputs": []
    },
    {
      "cell_type": "code",
      "metadata": {
        "id": "Ksp72aCvzBUK"
      },
      "source": [
        "def make_embedded_matrix(input_matrix,duplicate_matrix):\n",
        "  return np.matmul(input_matrix,duplicate_matrix)"
      ],
      "execution_count": 13,
      "outputs": []
    },
    {
      "cell_type": "code",
      "metadata": {
        "id": "-H32ku5jwZ6U"
      },
      "source": [
        "def convert_embedded_matrix_to_tensor(input_matrix,num_time_series,tau,T):\n",
        "  T_hat = T-tau+1\n",
        "  new_tensor = np.zeros((num_time_series,tau,T_hat))\n",
        "  tau_slide_start = 0\n",
        "  tau_slide_end = tau_slide_start+tau\n",
        "\n",
        "  for i in range(T_hat):\n",
        "    new_tensor[:,:,i] = input_matrix[:,tau_slide_start:tau_slide_end]\n",
        "    tau_slide_start = tau_slide_end\n",
        "    tau_slide_end+=tau\n",
        "\n",
        "  return new_tensor"
      ],
      "execution_count": 14,
      "outputs": []
    },
    {
      "cell_type": "code",
      "metadata": {
        "id": "zDpyhrll58iM"
      },
      "source": [
        "def higher_order_tensor(input,tau):\n",
        "  T = input.shape[1]\n",
        "  num_time_series = input.shape[0]\n",
        "  duplicate_matrix = make_duplication_matrix(T,tau)\n",
        "  embedded_input = make_embedded_matrix(input,duplicate_matrix)\n",
        "  output_tensor = convert_embedded_matrix_to_tensor(embedded_input,num_time_series,tau,T)\n",
        "  return output_tensor"
      ],
      "execution_count": 15,
      "outputs": []
    },
    {
      "cell_type": "code",
      "metadata": {
        "id": "yoPhvFyQecvV"
      },
      "source": [
        "def higher_order_matrix(input,tau):\n",
        "  T = input.shape[1]\n",
        "  num_time_series = input.shape[0]\n",
        "  duplicate_matrix = make_duplication_matrix(T,tau)\n",
        "  embedded_input = make_embedded_matrix(input,duplicate_matrix)\n",
        "  return embedded_input"
      ],
      "execution_count": 16,
      "outputs": []
    },
    {
      "cell_type": "markdown",
      "metadata": {
        "id": "DMrBlJKD1RS5"
      },
      "source": [
        "### Testing MDT"
      ]
    },
    {
      "cell_type": "code",
      "metadata": {
        "colab": {
          "base_uri": "https://localhost:8080/"
        },
        "id": "u8AETWzyDQso",
        "outputId": "2b27172c-0c22-406c-b1e1-ee1c8aebe687"
      },
      "source": [
        "### TEST MDT\n",
        "\n",
        "# test with T=8, tau=3\n",
        "# create five time series\n",
        "\n",
        "num_time_series = 5\n",
        "T=8\n",
        "tau=3\n",
        "\n",
        "#v = np.zeros((1,7))\n",
        "#v[0,0] = 2\n",
        "#v[0,1] = 4\n",
        "#v[0,2] = 6\n",
        "#v[0,3] = 8\n",
        "#v[0,4] = 10\n",
        "#v[0,5] = 12\n",
        "#v[0,6] = 14\n",
        "#v = [2,4,6,8,10,12,14]\n",
        "\n",
        "# testing purposes\n",
        "test_matrix = np.zeros((num_time_series,T))\n",
        "\n",
        "k = 1\n",
        "\n",
        "for i in range(num_time_series):\n",
        "  for j in range(T):\n",
        "    test_matrix[i,j] = k\n",
        "    k+=1\n",
        "\n",
        "print(test_matrix)\n",
        "print(test_matrix.shape)"
      ],
      "execution_count": 17,
      "outputs": [
        {
          "output_type": "stream",
          "text": [
            "[[ 1.  2.  3.  4.  5.  6.  7.  8.]\n",
            " [ 9. 10. 11. 12. 13. 14. 15. 16.]\n",
            " [17. 18. 19. 20. 21. 22. 23. 24.]\n",
            " [25. 26. 27. 28. 29. 30. 31. 32.]\n",
            " [33. 34. 35. 36. 37. 38. 39. 40.]]\n",
            "(5, 8)\n"
          ],
          "name": "stdout"
        }
      ]
    },
    {
      "cell_type": "code",
      "metadata": {
        "colab": {
          "base_uri": "https://localhost:8080/"
        },
        "id": "I5NrKZhUtw-M",
        "outputId": "9c94e27a-69d3-4637-fdba-25fbbfd76dc4"
      },
      "source": [
        "#dup_matrix = make_duplication_matrix(7,3)\n",
        "dup_matrix = make_duplication_matrix(T,tau)\n",
        "print(dup_matrix)\n",
        "print(dup_matrix.shape)"
      ],
      "execution_count": 18,
      "outputs": [
        {
          "output_type": "stream",
          "text": [
            "[[1. 0. 0. 0. 0. 0. 0. 0. 0. 0. 0. 0. 0. 0. 0. 0. 0. 0.]\n",
            " [0. 1. 0. 1. 0. 0. 0. 0. 0. 0. 0. 0. 0. 0. 0. 0. 0. 0.]\n",
            " [0. 0. 1. 0. 1. 0. 1. 0. 0. 0. 0. 0. 0. 0. 0. 0. 0. 0.]\n",
            " [0. 0. 0. 0. 0. 1. 0. 1. 0. 1. 0. 0. 0. 0. 0. 0. 0. 0.]\n",
            " [0. 0. 0. 0. 0. 0. 0. 0. 1. 0. 1. 0. 1. 0. 0. 0. 0. 0.]\n",
            " [0. 0. 0. 0. 0. 0. 0. 0. 0. 0. 0. 1. 0. 1. 0. 1. 0. 0.]\n",
            " [0. 0. 0. 0. 0. 0. 0. 0. 0. 0. 0. 0. 0. 0. 1. 0. 1. 0.]\n",
            " [0. 0. 0. 0. 0. 0. 0. 0. 0. 0. 0. 0. 0. 0. 0. 0. 0. 1.]]\n",
            "(8, 18)\n"
          ],
          "name": "stdout"
        }
      ]
    },
    {
      "cell_type": "code",
      "metadata": {
        "colab": {
          "base_uri": "https://localhost:8080/"
        },
        "id": "31crEfM21Nle",
        "outputId": "f263e6d8-afce-496a-b73c-2300253ba91d"
      },
      "source": [
        "emb_matrix = make_embedded_matrix(test_matrix,dup_matrix)\n",
        "print(emb_matrix)"
      ],
      "execution_count": 19,
      "outputs": [
        {
          "output_type": "stream",
          "text": [
            "[[ 1.  2.  3.  2.  3.  4.  3.  4.  5.  4.  5.  6.  5.  6.  7.  6.  7.  8.]\n",
            " [ 9. 10. 11. 10. 11. 12. 11. 12. 13. 12. 13. 14. 13. 14. 15. 14. 15. 16.]\n",
            " [17. 18. 19. 18. 19. 20. 19. 20. 21. 20. 21. 22. 21. 22. 23. 22. 23. 24.]\n",
            " [25. 26. 27. 26. 27. 28. 27. 28. 29. 28. 29. 30. 29. 30. 31. 30. 31. 32.]\n",
            " [33. 34. 35. 34. 35. 36. 35. 36. 37. 36. 37. 38. 37. 38. 39. 38. 39. 40.]]\n"
          ],
          "name": "stdout"
        }
      ]
    },
    {
      "cell_type": "code",
      "metadata": {
        "colab": {
          "base_uri": "https://localhost:8080/"
        },
        "id": "o-Sa9ktx1k3k",
        "outputId": "22eeaaf6-c613-4cc1-b784-e782e4ed2cae"
      },
      "source": [
        "output_tensor = convert_embedded_matrix_to_tensor(emb_matrix,num_time_series,tau,T)\n",
        "print(output_tensor.shape)\n",
        "\n",
        "for i in range(output_tensor.shape[2]):\n",
        "  print(output_tensor[:,:,i],'\\n')"
      ],
      "execution_count": 20,
      "outputs": [
        {
          "output_type": "stream",
          "text": [
            "(5, 3, 6)\n",
            "[[ 1.  2.  3.]\n",
            " [ 9. 10. 11.]\n",
            " [17. 18. 19.]\n",
            " [25. 26. 27.]\n",
            " [33. 34. 35.]] \n",
            "\n",
            "[[ 2.  3.  4.]\n",
            " [10. 11. 12.]\n",
            " [18. 19. 20.]\n",
            " [26. 27. 28.]\n",
            " [34. 35. 36.]] \n",
            "\n",
            "[[ 3.  4.  5.]\n",
            " [11. 12. 13.]\n",
            " [19. 20. 21.]\n",
            " [27. 28. 29.]\n",
            " [35. 36. 37.]] \n",
            "\n",
            "[[ 4.  5.  6.]\n",
            " [12. 13. 14.]\n",
            " [20. 21. 22.]\n",
            " [28. 29. 30.]\n",
            " [36. 37. 38.]] \n",
            "\n",
            "[[ 5.  6.  7.]\n",
            " [13. 14. 15.]\n",
            " [21. 22. 23.]\n",
            " [29. 30. 31.]\n",
            " [37. 38. 39.]] \n",
            "\n",
            "[[ 6.  7.  8.]\n",
            " [14. 15. 16.]\n",
            " [22. 23. 24.]\n",
            " [30. 31. 32.]\n",
            " [38. 39. 40.]] \n",
            "\n"
          ],
          "name": "stdout"
        }
      ]
    },
    {
      "cell_type": "code",
      "metadata": {
        "colab": {
          "base_uri": "https://localhost:8080/"
        },
        "id": "p0oUJIA96u9B",
        "outputId": "21fb128b-98d5-4be6-cfb3-6d125a2f4352"
      },
      "source": [
        "# test the single tensorization function\n",
        "\n",
        "out_tensor = higher_order_tensor(test_matrix,3)\n",
        "print(out_tensor.shape)\n",
        "\n",
        "for i in range(out_tensor.shape[2]):\n",
        "  print(out_tensor[:,:,i],'\\n')\n"
      ],
      "execution_count": 21,
      "outputs": [
        {
          "output_type": "stream",
          "text": [
            "(5, 3, 6)\n",
            "[[ 1.  2.  3.]\n",
            " [ 9. 10. 11.]\n",
            " [17. 18. 19.]\n",
            " [25. 26. 27.]\n",
            " [33. 34. 35.]] \n",
            "\n",
            "[[ 2.  3.  4.]\n",
            " [10. 11. 12.]\n",
            " [18. 19. 20.]\n",
            " [26. 27. 28.]\n",
            " [34. 35. 36.]] \n",
            "\n",
            "[[ 3.  4.  5.]\n",
            " [11. 12. 13.]\n",
            " [19. 20. 21.]\n",
            " [27. 28. 29.]\n",
            " [35. 36. 37.]] \n",
            "\n",
            "[[ 4.  5.  6.]\n",
            " [12. 13. 14.]\n",
            " [20. 21. 22.]\n",
            " [28. 29. 30.]\n",
            " [36. 37. 38.]] \n",
            "\n",
            "[[ 5.  6.  7.]\n",
            " [13. 14. 15.]\n",
            " [21. 22. 23.]\n",
            " [29. 30. 31.]\n",
            " [37. 38. 39.]] \n",
            "\n",
            "[[ 6.  7.  8.]\n",
            " [14. 15. 16.]\n",
            " [22. 23. 24.]\n",
            " [30. 31. 32.]\n",
            " [38. 39. 40.]] \n",
            "\n"
          ],
          "name": "stdout"
        }
      ]
    },
    {
      "cell_type": "code",
      "metadata": {
        "colab": {
          "base_uri": "https://localhost:8080/"
        },
        "id": "TLzZamtWesIr",
        "outputId": "353238f5-6015-435d-eeb7-f7f4890b4e10"
      },
      "source": [
        "out_matrix = higher_order_matrix(test_matrix,3)\n",
        "print(out_matrix)"
      ],
      "execution_count": 22,
      "outputs": [
        {
          "output_type": "stream",
          "text": [
            "[[ 1.  2.  3.  2.  3.  4.  3.  4.  5.  4.  5.  6.  5.  6.  7.  6.  7.  8.]\n",
            " [ 9. 10. 11. 10. 11. 12. 11. 12. 13. 12. 13. 14. 13. 14. 15. 14. 15. 16.]\n",
            " [17. 18. 19. 18. 19. 20. 19. 20. 21. 20. 21. 22. 21. 22. 23. 22. 23. 24.]\n",
            " [25. 26. 27. 26. 27. 28. 27. 28. 29. 28. 29. 30. 29. 30. 31. 30. 31. 32.]\n",
            " [33. 34. 35. 34. 35. 36. 35. 36. 37. 36. 37. 38. 37. 38. 39. 38. 39. 40.]]\n"
          ],
          "name": "stdout"
        }
      ]
    },
    {
      "cell_type": "markdown",
      "metadata": {
        "id": "z-W4u9WTv3fY"
      },
      "source": [
        "## Pre-processing of Data"
      ]
    },
    {
      "cell_type": "markdown",
      "metadata": {
        "id": "hskRAHHvMyZ8"
      },
      "source": [
        "### Tau"
      ]
    },
    {
      "cell_type": "code",
      "metadata": {
        "id": "rP6fnRP3v9Iz"
      },
      "source": [
        "tau = 3 # one of the hyperparameters"
      ],
      "execution_count": 35,
      "outputs": []
    },
    {
      "cell_type": "code",
      "metadata": {
        "id": "N9-DZ6Nr5Dy7"
      },
      "source": [
        "labels = pd.read_csv('drive/My Drive/FYP Data/labels.csv', index_col=0, header=0)\n",
        "output = np.sign(labels['SPX'])+1 # 0,1,2 or negative, neutral, positive\n",
        "output = to_categorical(output)"
      ],
      "execution_count": 36,
      "outputs": []
    },
    {
      "cell_type": "code",
      "metadata": {
        "id": "7gDyWTgm5Hpq"
      },
      "source": [
        "X = np.zeros((3735,180))\n",
        "\n",
        "for ticker in tickers:\n",
        "  tmp_idx1 = tickers.index(ticker)*15\n",
        "  tmp_idx2 = tmp_idx1+15\n",
        "  X[:, tmp_idx1:tmp_idx2] = get_data(ticker).values"
      ],
      "execution_count": 37,
      "outputs": []
    },
    {
      "cell_type": "code",
      "metadata": {
        "id": "CV00Jd1wLSou"
      },
      "source": [
        "split_idx = int(3735*0.9)\n",
        "\n",
        "X_train = X[:split_idx]\n",
        "X_test = X[split_idx:]\n",
        "y_train = output[:split_idx]\n",
        "y_test = output[split_idx:]"
      ],
      "execution_count": 38,
      "outputs": []
    },
    {
      "cell_type": "code",
      "metadata": {
        "id": "fQWBz-TtLWXQ"
      },
      "source": [
        "scaler = preprocessing.StandardScaler()\n",
        "scaler.fit(X_train)\n",
        "X_train = scaler.transform(X_train)\n",
        "X_test = scaler.transform(X_test)"
      ],
      "execution_count": 39,
      "outputs": []
    },
    {
      "cell_type": "code",
      "metadata": {
        "id": "RGbRWqvEURW6"
      },
      "source": [
        "# take transpose of the data\n",
        "X_train = X_train.T\n",
        "y_train = y_train.T"
      ],
      "execution_count": 40,
      "outputs": []
    },
    {
      "cell_type": "markdown",
      "metadata": {
        "id": "ldtuddIcMWy9"
      },
      "source": [
        "### Apply MDT"
      ]
    },
    {
      "cell_type": "code",
      "metadata": {
        "colab": {
          "base_uri": "https://localhost:8080/"
        },
        "id": "UlcQiTgvMaHE",
        "outputId": "3a729d43-8f52-4807-d9f5-aff84cce2c0e"
      },
      "source": [
        "print(X_train.shape)\n",
        "print(y_train.shape)\n",
        "\n",
        "#X_tr_MDT = higher_order_tensor(X_tr,tau)\n",
        "#y_tr_MDT = higher_order_tensor(y_tr,tau)\n",
        "\n",
        "X_train_MDT = higher_order_matrix(X_train,tau)\n",
        "y_train_MDT = higher_order_matrix(y_train,tau)\n",
        "\n",
        "print(X_train_MDT.shape)\n",
        "print(y_train_MDT.shape)"
      ],
      "execution_count": 41,
      "outputs": [
        {
          "output_type": "stream",
          "text": [
            "(180, 3361)\n",
            "(3, 3361)\n",
            "(180, 10077)\n",
            "(3, 10077)\n"
          ],
          "name": "stdout"
        }
      ]
    },
    {
      "cell_type": "code",
      "metadata": {
        "id": "j6phBkHjfrxu"
      },
      "source": [
        "X_train_MDT = X_train_MDT.T\n",
        "y_train_MDT = y_train_MDT.T"
      ],
      "execution_count": 42,
      "outputs": []
    },
    {
      "cell_type": "code",
      "metadata": {
        "colab": {
          "base_uri": "https://localhost:8080/"
        },
        "id": "IzPWWnSDf0di",
        "outputId": "bc140f5d-7b61-43fe-9f08-f7232b01ea56"
      },
      "source": [
        "print(X_train_MDT.shape)\n",
        "print(y_train_MDT.shape)"
      ],
      "execution_count": 43,
      "outputs": [
        {
          "output_type": "stream",
          "text": [
            "(10077, 180)\n",
            "(10077, 3)\n"
          ],
          "name": "stdout"
        }
      ]
    },
    {
      "cell_type": "code",
      "metadata": {
        "id": "i8XzC23VfYco"
      },
      "source": [
        "# Reformat the data for recurrent models by adding time steps\n",
        "\n",
        "orig_time_step = 22 # using just this gives poor results\n",
        "#time_step = orig_time_step*tau-1 # used to be 22, aka one trading month, tested this with okay results\n",
        "time_step = orig_time_step*tau-1\n",
        "\n",
        "# Hankelized\n",
        "RNN_X_train = np.zeros((X_train_MDT.shape[0]-time_step,time_step,180)) # number of samples, time step, features*assets*asset classes\n",
        "RNN_y_train = np.zeros((y_train_MDT.shape[0]-time_step,y_train_MDT.shape[1]))\n",
        "\n",
        "# not Hankelized\n",
        "RNN_X_test = np.zeros((X_test.shape[0]-time_step,time_step,180)) # number of samples, time step, features*assets*asset classes\n",
        "RNN_y_test = np.zeros((y_test.shape[0]-time_step,y_test.shape[1]))\n",
        "\n",
        "# Hankelized\n",
        "for i in range(time_step, X_train_MDT.shape[0]):\n",
        "  RNN_X_train[i-time_step]=X_train_MDT[i-time_step:i]\n",
        "  RNN_y_train[i-time_step]=y_train_MDT[:i][-1]\n",
        "  \n",
        "# not Hankelized\n",
        "for i in range(time_step, X_test.shape[0]):\n",
        "  RNN_X_test[i-time_step]=X_test[i-time_step:i]\n",
        "  RNN_y_test[i-time_step]=y_test[:i][-1]"
      ],
      "execution_count": 44,
      "outputs": []
    },
    {
      "cell_type": "code",
      "metadata": {
        "colab": {
          "base_uri": "https://localhost:8080/"
        },
        "id": "8FPePP8zcHtM",
        "outputId": "e44498e5-95c9-47dd-cc98-d874edf83306"
      },
      "source": [
        "print(RNN_X_train.shape)\n",
        "print(RNN_X_test.shape)\n",
        "print(RNN_y_train.shape)\n",
        "print(RNN_y_test.shape)"
      ],
      "execution_count": 46,
      "outputs": [
        {
          "output_type": "stream",
          "text": [
            "(10012, 65, 180)\n",
            "(309, 65, 180)\n",
            "(10012, 3)\n",
            "(309, 3)\n"
          ],
          "name": "stdout"
        }
      ]
    },
    {
      "cell_type": "markdown",
      "metadata": {
        "id": "YO-64bXyARs6"
      },
      "source": [
        "## Model Training"
      ]
    },
    {
      "cell_type": "code",
      "metadata": {
        "colab": {
          "base_uri": "https://localhost:8080/"
        },
        "id": "17_4xe0zPTus",
        "outputId": "c019b3a7-aa2f-4edf-ba65-bced91f66269"
      },
      "source": [
        "epochs = 20\n",
        "orig_batch_size = 22*3\n",
        "batch_size = orig_batch_size*tau-1\n",
        "ranks = [1,2,3,4,5,6,7,8,9,10]\n",
        "parameters = []\n",
        "\n",
        "# so far tried:\n",
        "# 1x5x3x4x3 best\n",
        "# 1x5x3x3x4 not good\n",
        "# 1x3x5x4x3 not good\n",
        "\n",
        "tt_input = [1,5,3,4,3]\n",
        "tt_output = [4,4,4,4,4]\n",
        "\n",
        "train_losses = pd.Series()\n",
        "test_losses = pd.Series()\n",
        "trading_res = pd.DataFrame()\n",
        "best_return = 0"
      ],
      "execution_count": 47,
      "outputs": [
        {
          "output_type": "stream",
          "text": [
            "/usr/local/lib/python3.7/dist-packages/ipykernel_launcher.py:15: DeprecationWarning: The default dtype for empty Series will be 'object' instead of 'float64' in a future version. Specify a dtype explicitly to silence this warning.\n",
            "  from ipykernel import kernelapp as app\n",
            "/usr/local/lib/python3.7/dist-packages/ipykernel_launcher.py:16: DeprecationWarning: The default dtype for empty Series will be 'object' instead of 'float64' in a future version. Specify a dtype explicitly to silence this warning.\n",
            "  app.launch_new_instance()\n"
          ],
          "name": "stderr"
        }
      ]
    },
    {
      "cell_type": "code",
      "metadata": {
        "colab": {
          "base_uri": "https://localhost:8080/"
        },
        "id": "4HwSPnp3VYeT",
        "outputId": "1c41aad1-a40b-4a6a-d4eb-d5ff0a28c094"
      },
      "source": [
        "for r in ranks:\n",
        "  tt_ranks = [1,r,r,r,r,1]\n",
        "  model = create_TTRNN(tt_input,tt_output,tt_ranks)\n",
        "\n",
        "  train_loss = []\n",
        "  valid_loss = []\n",
        "  train_acc = []\n",
        "  valid_acc = []\n",
        "\n",
        "  weights_XH = []\n",
        "  weights_HH = []\n",
        "\n",
        "  for e in range(epochs):\n",
        "      print('epoch: ', e)\n",
        "      history = model.fit(x=RNN_X_train, y=RNN_y_train, verbose=1, epochs=1, batch_size=batch_size, validation_split=0.1)\n",
        "      train_loss.append(history.history['loss'][0])\n",
        "      valid_loss.append(history.history['val_loss'][0])\n",
        "      train_acc.append(history.history['acc'][0]*100)\n",
        "      valid_acc.append(history.history['val_acc'][0]*100)\n",
        "\n",
        "      weights = model.get_weights()\n",
        "      weights_XH.append(weights[0])\n",
        "      weights_HH.append(weights[2])\n",
        "\n",
        "  parameters.append(np.sum(np.array(tt_input)*np.array(tt_output)*np.array(tt_ranks)[1:]*np.array(tt_ranks)[:-1]))\n",
        "\n",
        "  if not r in trading_res.columns:\n",
        "    train_losses[str(r)] = model.evaluate(RNN_X_train, RNN_y_train, verbose=0)[0]\n",
        "    test_losses[str(r)] = model.evaluate(RNN_X_test, RNN_y_test, verbose=0)[0]\n",
        "  \n",
        "  returns = labels['SPX'][-RNN_y_test.shape[0]:]*100\n",
        "  idx = model.predict(RNN_X_test).argmax(1)-1\n",
        "  idx = idx*model.predict(RNN_X_test).max(1)\n",
        "  predicted = returns*idx\n",
        "\n",
        "  if not r in trading_res.columns:\n",
        "    trading_res[r] = trading_results(predicted)\n",
        "    print(trading_res)\n",
        "  if trading_res[r]['Accuracy (%)'] > 0.5:\n",
        "    if trading_res[r]['Total return (%)'] > best_return:\n",
        "      best_return = trading_res[r]['Total return (%)']\n",
        "      best_model = model\n",
        "      best_result = trading_res[r]['Total return (%)']\n",
        "      best_train_loss = train_loss\n",
        "      best_valid_loss = valid_loss\n",
        "      best_train_acc = train_acc\n",
        "      best_valid_acc = valid_acc\n",
        "      best_weights_XH = weights_XH\n",
        "      best_weights_HH = weights_HH"
      ],
      "execution_count": 48,
      "outputs": [
        {
          "output_type": "stream",
          "text": [
            "WARNING:tensorflow:From /usr/local/lib/python3.7/dist-packages/keras/backend/tensorflow_backend.py:74: The name tf.get_default_graph is deprecated. Please use tf.compat.v1.get_default_graph instead.\n",
            "\n",
            "WARNING:tensorflow:From /usr/local/lib/python3.7/dist-packages/keras/optimizers.py:790: The name tf.train.Optimizer is deprecated. Please use tf.compat.v1.train.Optimizer instead.\n",
            "\n",
            "epoch:  0\n",
            "WARNING:tensorflow:From /usr/local/lib/python3.7/dist-packages/keras/backend/tensorflow_backend.py:517: The name tf.placeholder is deprecated. Please use tf.compat.v1.placeholder instead.\n",
            "\n",
            "WARNING:tensorflow:From /usr/local/lib/python3.7/dist-packages/keras/backend/tensorflow_backend.py:4138: The name tf.random_uniform is deprecated. Please use tf.random.uniform instead.\n",
            "\n",
            "Model TT ranks: [1 1 1 1 1 1]\n",
            "TT number of parameters:  64\n",
            "Equivalent fully connected layer parameters:  184320\n",
            "WARNING:tensorflow:From /usr/local/lib/python3.7/dist-packages/keras/backend/tensorflow_backend.py:3295: The name tf.log is deprecated. Please use tf.math.log instead.\n",
            "\n",
            "WARNING:tensorflow:From /usr/local/lib/python3.7/dist-packages/tensorflow_core/python/ops/math_grad.py:1424: where (from tensorflow.python.ops.array_ops) is deprecated and will be removed in a future version.\n",
            "Instructions for updating:\n",
            "Use tf.where in 2.0, which has the same broadcast rule as np.where\n",
            "WARNING:tensorflow:From /usr/local/lib/python3.7/dist-packages/keras/backend/tensorflow_backend.py:986: The name tf.assign_add is deprecated. Please use tf.compat.v1.assign_add instead.\n",
            "\n",
            "WARNING:tensorflow:From /usr/local/lib/python3.7/dist-packages/keras/backend/tensorflow_backend.py:973: The name tf.assign is deprecated. Please use tf.compat.v1.assign instead.\n",
            "\n",
            "WARNING:tensorflow:From /usr/local/lib/python3.7/dist-packages/keras/backend/tensorflow_backend.py:2741: The name tf.Session is deprecated. Please use tf.compat.v1.Session instead.\n",
            "\n",
            "Train on 9010 samples, validate on 1002 samples\n",
            "Epoch 1/1\n",
            "WARNING:tensorflow:From /usr/local/lib/python3.7/dist-packages/keras/backend/tensorflow_backend.py:174: The name tf.get_default_session is deprecated. Please use tf.compat.v1.get_default_session instead.\n",
            "\n",
            "WARNING:tensorflow:From /usr/local/lib/python3.7/dist-packages/keras/backend/tensorflow_backend.py:181: The name tf.ConfigProto is deprecated. Please use tf.compat.v1.ConfigProto instead.\n",
            "\n",
            "WARNING:tensorflow:From /usr/local/lib/python3.7/dist-packages/keras/backend/tensorflow_backend.py:190: The name tf.global_variables is deprecated. Please use tf.compat.v1.global_variables instead.\n",
            "\n",
            "WARNING:tensorflow:From /usr/local/lib/python3.7/dist-packages/keras/backend/tensorflow_backend.py:199: The name tf.is_variable_initialized is deprecated. Please use tf.compat.v1.is_variable_initialized instead.\n",
            "\n",
            "WARNING:tensorflow:From /usr/local/lib/python3.7/dist-packages/keras/backend/tensorflow_backend.py:206: The name tf.variables_initializer is deprecated. Please use tf.compat.v1.variables_initializer instead.\n",
            "\n",
            "9010/9010 [==============================] - 10s 1ms/step - loss: 1.0098 - acc: 0.4461 - val_loss: 0.8649 - val_acc: 0.5080\n",
            "epoch:  1\n",
            "Train on 9010 samples, validate on 1002 samples\n",
            "Epoch 1/1\n",
            "9010/9010 [==============================] - 9s 1ms/step - loss: 0.8411 - acc: 0.5173 - val_loss: 0.8211 - val_acc: 0.5200\n",
            "epoch:  2\n",
            "Train on 9010 samples, validate on 1002 samples\n",
            "Epoch 1/1\n",
            "9010/9010 [==============================] - 9s 1ms/step - loss: 0.8339 - acc: 0.5229 - val_loss: 0.8203 - val_acc: 0.5210\n",
            "epoch:  3\n",
            "Train on 9010 samples, validate on 1002 samples\n",
            "Epoch 1/1\n",
            "9010/9010 [==============================] - 9s 1ms/step - loss: 0.8316 - acc: 0.5251 - val_loss: 0.8194 - val_acc: 0.5150\n",
            "epoch:  4\n",
            "Train on 9010 samples, validate on 1002 samples\n",
            "Epoch 1/1\n",
            "9010/9010 [==============================] - 9s 1ms/step - loss: 0.8287 - acc: 0.5350 - val_loss: 0.8194 - val_acc: 0.5140\n",
            "epoch:  5\n",
            "Train on 9010 samples, validate on 1002 samples\n",
            "Epoch 1/1\n",
            "9010/9010 [==============================] - 9s 1ms/step - loss: 0.8259 - acc: 0.5385 - val_loss: 0.8201 - val_acc: 0.5230\n",
            "epoch:  6\n",
            "Train on 9010 samples, validate on 1002 samples\n",
            "Epoch 1/1\n",
            "9010/9010 [==============================] - 9s 1ms/step - loss: 0.8238 - acc: 0.5421 - val_loss: 0.8205 - val_acc: 0.5170\n",
            "epoch:  7\n",
            "Train on 9010 samples, validate on 1002 samples\n",
            "Epoch 1/1\n",
            "9010/9010 [==============================] - 9s 1ms/step - loss: 0.8222 - acc: 0.5382 - val_loss: 0.8257 - val_acc: 0.5200\n",
            "epoch:  8\n",
            "Train on 9010 samples, validate on 1002 samples\n",
            "Epoch 1/1\n",
            "9010/9010 [==============================] - 9s 1ms/step - loss: 0.8195 - acc: 0.5506 - val_loss: 0.8219 - val_acc: 0.5379\n",
            "epoch:  9\n",
            "Train on 9010 samples, validate on 1002 samples\n",
            "Epoch 1/1\n",
            "9010/9010 [==============================] - 9s 1ms/step - loss: 0.8173 - acc: 0.5505 - val_loss: 0.8203 - val_acc: 0.5230\n",
            "epoch:  10\n",
            "Train on 9010 samples, validate on 1002 samples\n",
            "Epoch 1/1\n",
            "9010/9010 [==============================] - 9s 1ms/step - loss: 0.8156 - acc: 0.5556 - val_loss: 0.8215 - val_acc: 0.5319\n",
            "epoch:  11\n",
            "Train on 9010 samples, validate on 1002 samples\n",
            "Epoch 1/1\n",
            "9010/9010 [==============================] - 9s 1ms/step - loss: 0.8133 - acc: 0.5598 - val_loss: 0.8197 - val_acc: 0.5349\n",
            "epoch:  12\n",
            "Train on 9010 samples, validate on 1002 samples\n",
            "Epoch 1/1\n",
            "9010/9010 [==============================] - 9s 1ms/step - loss: 0.8118 - acc: 0.5614 - val_loss: 0.8215 - val_acc: 0.5230\n",
            "epoch:  13\n",
            "Train on 9010 samples, validate on 1002 samples\n",
            "Epoch 1/1\n",
            "9010/9010 [==============================] - 9s 1ms/step - loss: 0.8103 - acc: 0.5629 - val_loss: 0.8203 - val_acc: 0.5309\n",
            "epoch:  14\n",
            "Train on 9010 samples, validate on 1002 samples\n",
            "Epoch 1/1\n",
            "9010/9010 [==============================] - 9s 1ms/step - loss: 0.8077 - acc: 0.5691 - val_loss: 0.8256 - val_acc: 0.5200\n",
            "epoch:  15\n",
            "Train on 9010 samples, validate on 1002 samples\n",
            "Epoch 1/1\n",
            "9010/9010 [==============================] - 9s 1ms/step - loss: 0.8058 - acc: 0.5716 - val_loss: 0.8225 - val_acc: 0.5259\n",
            "epoch:  16\n",
            "Train on 9010 samples, validate on 1002 samples\n",
            "Epoch 1/1\n",
            "9010/9010 [==============================] - 9s 1ms/step - loss: 0.8035 - acc: 0.5741 - val_loss: 0.8268 - val_acc: 0.5250\n",
            "epoch:  17\n",
            "Train on 9010 samples, validate on 1002 samples\n",
            "Epoch 1/1\n",
            "9010/9010 [==============================] - 9s 1ms/step - loss: 0.8016 - acc: 0.5710 - val_loss: 0.8316 - val_acc: 0.5160\n",
            "epoch:  18\n",
            "Train on 9010 samples, validate on 1002 samples\n",
            "Epoch 1/1\n",
            "9010/9010 [==============================] - 9s 1ms/step - loss: 0.7986 - acc: 0.5832 - val_loss: 0.8274 - val_acc: 0.5220\n",
            "epoch:  19\n",
            "Train on 9010 samples, validate on 1002 samples\n",
            "Epoch 1/1\n",
            "9010/9010 [==============================] - 9s 1ms/step - loss: 0.7972 - acc: 0.5842 - val_loss: 0.8254 - val_acc: 0.5210\n"
          ],
          "name": "stdout"
        },
        {
          "output_type": "stream",
          "text": [
            "/usr/local/lib/python3.7/dist-packages/ipykernel_launcher.py:2: DeprecationWarning: The default dtype for empty Series will be 'object' instead of 'float64' in a future version. Specify a dtype explicitly to silence this warning.\n",
            "  \n"
          ],
          "name": "stderr"
        },
        {
          "output_type": "stream",
          "text": [
            "                                  1\n",
            "Total return (%)          20.631496\n",
            "Accuracy (%)              52.427184\n",
            "Average return (%)         0.066769\n",
            "Maximum drawdown (%)     -11.369877\n",
            "Drawdown duration (Days)   5.000000\n",
            "Sharpe ratio               0.059959\n",
            "Skew                      -0.663411\n",
            "Kurtosis                   9.261725\n",
            "epoch:  0\n",
            "Model TT ranks: [1 2 2 2 2 1]\n",
            "TT number of parameters:  224\n",
            "Equivalent fully connected layer parameters:  184320\n",
            "Train on 9010 samples, validate on 1002 samples\n",
            "Epoch 1/1\n",
            "9010/9010 [==============================] - 10s 1ms/step - loss: 1.0226 - acc: 0.4327 - val_loss: 0.9389 - val_acc: 0.4930\n",
            "epoch:  1\n",
            "Train on 9010 samples, validate on 1002 samples\n",
            "Epoch 1/1\n",
            "9010/9010 [==============================] - 10s 1ms/step - loss: 0.8478 - acc: 0.5110 - val_loss: 0.8504 - val_acc: 0.5170\n",
            "epoch:  2\n",
            "Train on 9010 samples, validate on 1002 samples\n",
            "Epoch 1/1\n",
            "9010/9010 [==============================] - 10s 1ms/step - loss: 0.8330 - acc: 0.5220 - val_loss: 0.8534 - val_acc: 0.5140\n",
            "epoch:  3\n",
            "Train on 9010 samples, validate on 1002 samples\n",
            "Epoch 1/1\n",
            "9010/9010 [==============================] - 10s 1ms/step - loss: 0.8283 - acc: 0.5294 - val_loss: 0.8504 - val_acc: 0.5080\n",
            "epoch:  4\n",
            "Train on 9010 samples, validate on 1002 samples\n",
            "Epoch 1/1\n",
            "9010/9010 [==============================] - 10s 1ms/step - loss: 0.8244 - acc: 0.5311 - val_loss: 0.8477 - val_acc: 0.5050\n",
            "epoch:  5\n",
            "Train on 9010 samples, validate on 1002 samples\n",
            "Epoch 1/1\n",
            "9010/9010 [==============================] - 10s 1ms/step - loss: 0.8218 - acc: 0.5352 - val_loss: 0.8419 - val_acc: 0.5110\n",
            "epoch:  6\n",
            "Train on 9010 samples, validate on 1002 samples\n",
            "Epoch 1/1\n",
            "9010/9010 [==============================] - 10s 1ms/step - loss: 0.8186 - acc: 0.5443 - val_loss: 0.8366 - val_acc: 0.5100\n",
            "epoch:  7\n",
            "Train on 9010 samples, validate on 1002 samples\n",
            "Epoch 1/1\n",
            "9010/9010 [==============================] - 10s 1ms/step - loss: 0.8158 - acc: 0.5498 - val_loss: 0.8332 - val_acc: 0.5150\n",
            "epoch:  8\n",
            "Train on 9010 samples, validate on 1002 samples\n",
            "Epoch 1/1\n",
            "9010/9010 [==============================] - 10s 1ms/step - loss: 0.8131 - acc: 0.5569 - val_loss: 0.8410 - val_acc: 0.5090\n",
            "epoch:  9\n",
            "Train on 9010 samples, validate on 1002 samples\n",
            "Epoch 1/1\n",
            "9010/9010 [==============================] - 10s 1ms/step - loss: 0.8109 - acc: 0.5597 - val_loss: 0.8356 - val_acc: 0.5070\n",
            "epoch:  10\n",
            "Train on 9010 samples, validate on 1002 samples\n",
            "Epoch 1/1\n",
            "9010/9010 [==============================] - 10s 1ms/step - loss: 0.8084 - acc: 0.5625 - val_loss: 0.8412 - val_acc: 0.5110\n",
            "epoch:  11\n",
            "Train on 9010 samples, validate on 1002 samples\n",
            "Epoch 1/1\n",
            "9010/9010 [==============================] - 10s 1ms/step - loss: 0.8064 - acc: 0.5622 - val_loss: 0.8303 - val_acc: 0.5130\n",
            "epoch:  12\n",
            "Train on 9010 samples, validate on 1002 samples\n",
            "Epoch 1/1\n",
            "9010/9010 [==============================] - 10s 1ms/step - loss: 0.8037 - acc: 0.5711 - val_loss: 0.8363 - val_acc: 0.5080\n",
            "epoch:  13\n",
            "Train on 9010 samples, validate on 1002 samples\n",
            "Epoch 1/1\n",
            "9010/9010 [==============================] - 10s 1ms/step - loss: 0.8023 - acc: 0.5752 - val_loss: 0.8376 - val_acc: 0.5140\n",
            "epoch:  14\n",
            "Train on 9010 samples, validate on 1002 samples\n",
            "Epoch 1/1\n",
            "9010/9010 [==============================] - 10s 1ms/step - loss: 0.7990 - acc: 0.5774 - val_loss: 0.8323 - val_acc: 0.5110\n",
            "epoch:  15\n",
            "Train on 9010 samples, validate on 1002 samples\n",
            "Epoch 1/1\n",
            "9010/9010 [==============================] - 10s 1ms/step - loss: 0.7969 - acc: 0.5844 - val_loss: 0.8410 - val_acc: 0.5100\n",
            "epoch:  16\n",
            "Train on 9010 samples, validate on 1002 samples\n",
            "Epoch 1/1\n",
            "9010/9010 [==============================] - 10s 1ms/step - loss: 0.7955 - acc: 0.5839 - val_loss: 0.8343 - val_acc: 0.5250\n",
            "epoch:  17\n",
            "Train on 9010 samples, validate on 1002 samples\n",
            "Epoch 1/1\n",
            "9010/9010 [==============================] - 10s 1ms/step - loss: 0.7923 - acc: 0.5912 - val_loss: 0.8311 - val_acc: 0.5110\n",
            "epoch:  18\n",
            "Train on 9010 samples, validate on 1002 samples\n",
            "Epoch 1/1\n",
            "9010/9010 [==============================] - 10s 1ms/step - loss: 0.7897 - acc: 0.5921 - val_loss: 0.8303 - val_acc: 0.5240\n",
            "epoch:  19\n",
            "Train on 9010 samples, validate on 1002 samples\n",
            "Epoch 1/1\n",
            "9010/9010 [==============================] - 10s 1ms/step - loss: 0.7872 - acc: 0.5951 - val_loss: 0.8377 - val_acc: 0.5060\n"
          ],
          "name": "stdout"
        },
        {
          "output_type": "stream",
          "text": [
            "/usr/local/lib/python3.7/dist-packages/ipykernel_launcher.py:2: DeprecationWarning: The default dtype for empty Series will be 'object' instead of 'float64' in a future version. Specify a dtype explicitly to silence this warning.\n",
            "  \n"
          ],
          "name": "stderr"
        },
        {
          "output_type": "stream",
          "text": [
            "                                  1           2\n",
            "Total return (%)          20.631496  -21.712922\n",
            "Accuracy (%)              52.427184   46.925566\n",
            "Average return (%)         0.066769   -0.070268\n",
            "Maximum drawdown (%)     -11.369877  -28.340459\n",
            "Drawdown duration (Days)   5.000000  253.000000\n",
            "Sharpe ratio               0.059959   -0.053505\n",
            "Skew                      -0.663411   -1.621748\n",
            "Kurtosis                   9.261725   16.669796\n",
            "epoch:  0\n",
            "Model TT ranks: [1 3 3 3 3 1]\n",
            "TT number of parameters:  480\n",
            "Equivalent fully connected layer parameters:  184320\n",
            "Train on 9010 samples, validate on 1002 samples\n",
            "Epoch 1/1\n",
            "9010/9010 [==============================] - 11s 1ms/step - loss: 1.0501 - acc: 0.4261 - val_loss: 0.9406 - val_acc: 0.4760\n",
            "epoch:  1\n",
            "Train on 9010 samples, validate on 1002 samples\n",
            "Epoch 1/1\n",
            "9010/9010 [==============================] - 10s 1ms/step - loss: 0.8588 - acc: 0.5148 - val_loss: 0.8317 - val_acc: 0.4840\n",
            "epoch:  2\n",
            "Train on 9010 samples, validate on 1002 samples\n",
            "Epoch 1/1\n",
            "9010/9010 [==============================] - 10s 1ms/step - loss: 0.8317 - acc: 0.5206 - val_loss: 0.8286 - val_acc: 0.4890\n",
            "epoch:  3\n",
            "Train on 9010 samples, validate on 1002 samples\n",
            "Epoch 1/1\n",
            "9010/9010 [==============================] - 10s 1ms/step - loss: 0.8273 - acc: 0.5271 - val_loss: 0.8344 - val_acc: 0.4601\n",
            "epoch:  4\n",
            "Train on 9010 samples, validate on 1002 samples\n",
            "Epoch 1/1\n",
            "9010/9010 [==============================] - 10s 1ms/step - loss: 0.8243 - acc: 0.5347 - val_loss: 0.8317 - val_acc: 0.4870\n",
            "epoch:  5\n",
            "Train on 9010 samples, validate on 1002 samples\n",
            "Epoch 1/1\n",
            "9010/9010 [==============================] - 10s 1ms/step - loss: 0.8219 - acc: 0.5378 - val_loss: 0.8381 - val_acc: 0.4721\n",
            "epoch:  6\n",
            "Train on 9010 samples, validate on 1002 samples\n",
            "Epoch 1/1\n",
            "9010/9010 [==============================] - 10s 1ms/step - loss: 0.8186 - acc: 0.5445 - val_loss: 0.8355 - val_acc: 0.4721\n",
            "epoch:  7\n",
            "Train on 9010 samples, validate on 1002 samples\n",
            "Epoch 1/1\n",
            "9010/9010 [==============================] - 10s 1ms/step - loss: 0.8161 - acc: 0.5491 - val_loss: 0.8316 - val_acc: 0.5020\n",
            "epoch:  8\n",
            "Train on 9010 samples, validate on 1002 samples\n",
            "Epoch 1/1\n",
            "9010/9010 [==============================] - 10s 1ms/step - loss: 0.8138 - acc: 0.5507 - val_loss: 0.8482 - val_acc: 0.4920\n",
            "epoch:  9\n",
            "Train on 9010 samples, validate on 1002 samples\n",
            "Epoch 1/1\n",
            "9010/9010 [==============================] - 10s 1ms/step - loss: 0.8114 - acc: 0.5549 - val_loss: 0.8430 - val_acc: 0.4770\n",
            "epoch:  10\n",
            "Train on 9010 samples, validate on 1002 samples\n",
            "Epoch 1/1\n",
            "9010/9010 [==============================] - 10s 1ms/step - loss: 0.8094 - acc: 0.5583 - val_loss: 0.8461 - val_acc: 0.4830\n",
            "epoch:  11\n",
            "Train on 9010 samples, validate on 1002 samples\n",
            "Epoch 1/1\n",
            "9010/9010 [==============================] - 10s 1ms/step - loss: 0.8068 - acc: 0.5648 - val_loss: 0.8691 - val_acc: 0.4731\n",
            "epoch:  12\n",
            "Train on 9010 samples, validate on 1002 samples\n",
            "Epoch 1/1\n",
            "9010/9010 [==============================] - 10s 1ms/step - loss: 0.8050 - acc: 0.5666 - val_loss: 0.8491 - val_acc: 0.4860\n",
            "epoch:  13\n",
            "Train on 9010 samples, validate on 1002 samples\n",
            "Epoch 1/1\n",
            "9010/9010 [==============================] - 10s 1ms/step - loss: 0.8020 - acc: 0.5721 - val_loss: 0.8482 - val_acc: 0.4790\n",
            "epoch:  14\n",
            "Train on 9010 samples, validate on 1002 samples\n",
            "Epoch 1/1\n",
            "9010/9010 [==============================] - 10s 1ms/step - loss: 0.8002 - acc: 0.5707 - val_loss: 0.8557 - val_acc: 0.4900\n",
            "epoch:  15\n",
            "Train on 9010 samples, validate on 1002 samples\n",
            "Epoch 1/1\n",
            "9010/9010 [==============================] - 10s 1ms/step - loss: 0.7994 - acc: 0.5729 - val_loss: 0.8626 - val_acc: 0.4810\n",
            "epoch:  16\n",
            "Train on 9010 samples, validate on 1002 samples\n",
            "Epoch 1/1\n",
            "9010/9010 [==============================] - 10s 1ms/step - loss: 0.7970 - acc: 0.5777 - val_loss: 0.8547 - val_acc: 0.4850\n",
            "epoch:  17\n",
            "Train on 9010 samples, validate on 1002 samples\n",
            "Epoch 1/1\n",
            "9010/9010 [==============================] - 10s 1ms/step - loss: 0.7943 - acc: 0.5816 - val_loss: 0.8621 - val_acc: 0.4860\n",
            "epoch:  18\n",
            "Train on 9010 samples, validate on 1002 samples\n",
            "Epoch 1/1\n",
            "9010/9010 [==============================] - 10s 1ms/step - loss: 0.7918 - acc: 0.5844 - val_loss: 0.8703 - val_acc: 0.4910\n",
            "epoch:  19\n",
            "Train on 9010 samples, validate on 1002 samples\n",
            "Epoch 1/1\n",
            "9010/9010 [==============================] - 10s 1ms/step - loss: 0.7897 - acc: 0.5862 - val_loss: 0.8476 - val_acc: 0.5000\n"
          ],
          "name": "stdout"
        },
        {
          "output_type": "stream",
          "text": [
            "/usr/local/lib/python3.7/dist-packages/ipykernel_launcher.py:2: DeprecationWarning: The default dtype for empty Series will be 'object' instead of 'float64' in a future version. Specify a dtype explicitly to silence this warning.\n",
            "  \n"
          ],
          "name": "stderr"
        },
        {
          "output_type": "stream",
          "text": [
            "                                  1           2           3\n",
            "Total return (%)          20.631496  -21.712922  -10.101957\n",
            "Accuracy (%)              52.427184   46.925566   42.718447\n",
            "Average return (%)         0.066769   -0.070268   -0.032692\n",
            "Maximum drawdown (%)     -11.369877  -28.340459  -19.032745\n",
            "Drawdown duration (Days)   5.000000  253.000000  214.000000\n",
            "Sharpe ratio               0.059959   -0.053505   -0.034866\n",
            "Skew                      -0.663411   -1.621748    0.395220\n",
            "Kurtosis                   9.261725   16.669796    8.248177\n",
            "epoch:  0\n",
            "Model TT ranks: [1 4 4 4 4 1]\n",
            "TT number of parameters:  832\n",
            "Equivalent fully connected layer parameters:  184320\n",
            "Train on 9010 samples, validate on 1002 samples\n",
            "Epoch 1/1\n",
            "9010/9010 [==============================] - 11s 1ms/step - loss: 0.9627 - acc: 0.4523 - val_loss: 0.8364 - val_acc: 0.4910\n",
            "epoch:  1\n",
            "Train on 9010 samples, validate on 1002 samples\n",
            "Epoch 1/1\n",
            "9010/9010 [==============================] - 10s 1ms/step - loss: 0.8391 - acc: 0.5107 - val_loss: 0.8294 - val_acc: 0.4900\n",
            "epoch:  2\n",
            "Train on 9010 samples, validate on 1002 samples\n",
            "Epoch 1/1\n",
            "9010/9010 [==============================] - 10s 1ms/step - loss: 0.8354 - acc: 0.5134 - val_loss: 0.8311 - val_acc: 0.4920\n",
            "epoch:  3\n",
            "Train on 9010 samples, validate on 1002 samples\n",
            "Epoch 1/1\n",
            "9010/9010 [==============================] - 10s 1ms/step - loss: 0.8321 - acc: 0.5202 - val_loss: 0.8299 - val_acc: 0.5100\n",
            "epoch:  4\n",
            "Train on 9010 samples, validate on 1002 samples\n",
            "Epoch 1/1\n",
            "9010/9010 [==============================] - 10s 1ms/step - loss: 0.8298 - acc: 0.5231 - val_loss: 0.8339 - val_acc: 0.4910\n",
            "epoch:  5\n",
            "Train on 9010 samples, validate on 1002 samples\n",
            "Epoch 1/1\n",
            "9010/9010 [==============================] - 10s 1ms/step - loss: 0.8272 - acc: 0.5276 - val_loss: 0.8380 - val_acc: 0.4970\n",
            "epoch:  6\n",
            "Train on 9010 samples, validate on 1002 samples\n",
            "Epoch 1/1\n",
            "9010/9010 [==============================] - 10s 1ms/step - loss: 0.8253 - acc: 0.5315 - val_loss: 0.8323 - val_acc: 0.4970\n",
            "epoch:  7\n",
            "Train on 9010 samples, validate on 1002 samples\n",
            "Epoch 1/1\n",
            "9010/9010 [==============================] - 10s 1ms/step - loss: 0.8224 - acc: 0.5381 - val_loss: 0.8369 - val_acc: 0.4920\n",
            "epoch:  8\n",
            "Train on 9010 samples, validate on 1002 samples\n",
            "Epoch 1/1\n",
            "9010/9010 [==============================] - 10s 1ms/step - loss: 0.8203 - acc: 0.5393 - val_loss: 0.8405 - val_acc: 0.5010\n",
            "epoch:  9\n",
            "Train on 9010 samples, validate on 1002 samples\n",
            "Epoch 1/1\n",
            "9010/9010 [==============================] - 10s 1ms/step - loss: 0.8180 - acc: 0.5447 - val_loss: 0.8384 - val_acc: 0.5060\n",
            "epoch:  10\n",
            "Train on 9010 samples, validate on 1002 samples\n",
            "Epoch 1/1\n",
            "9010/9010 [==============================] - 10s 1ms/step - loss: 0.8150 - acc: 0.5504 - val_loss: 0.8302 - val_acc: 0.5080\n",
            "epoch:  11\n",
            "Train on 9010 samples, validate on 1002 samples\n",
            "Epoch 1/1\n",
            "9010/9010 [==============================] - 10s 1ms/step - loss: 0.8125 - acc: 0.5554 - val_loss: 0.8379 - val_acc: 0.4950\n",
            "epoch:  12\n",
            "Train on 9010 samples, validate on 1002 samples\n",
            "Epoch 1/1\n",
            "9010/9010 [==============================] - 10s 1ms/step - loss: 0.8100 - acc: 0.5583 - val_loss: 0.8347 - val_acc: 0.5100\n",
            "epoch:  13\n",
            "Train on 9010 samples, validate on 1002 samples\n",
            "Epoch 1/1\n",
            "9010/9010 [==============================] - 10s 1ms/step - loss: 0.8077 - acc: 0.5619 - val_loss: 0.8405 - val_acc: 0.4980\n",
            "epoch:  14\n",
            "Train on 9010 samples, validate on 1002 samples\n",
            "Epoch 1/1\n",
            "9010/9010 [==============================] - 10s 1ms/step - loss: 0.8052 - acc: 0.5653 - val_loss: 0.8348 - val_acc: 0.4920\n",
            "epoch:  15\n",
            "Train on 9010 samples, validate on 1002 samples\n",
            "Epoch 1/1\n",
            "9010/9010 [==============================] - 10s 1ms/step - loss: 0.8029 - acc: 0.5685 - val_loss: 0.8419 - val_acc: 0.5030\n",
            "epoch:  16\n",
            "Train on 9010 samples, validate on 1002 samples\n",
            "Epoch 1/1\n",
            "9010/9010 [==============================] - 10s 1ms/step - loss: 0.7996 - acc: 0.5674 - val_loss: 0.8499 - val_acc: 0.4910\n",
            "epoch:  17\n",
            "Train on 9010 samples, validate on 1002 samples\n",
            "Epoch 1/1\n",
            "9010/9010 [==============================] - 10s 1ms/step - loss: 0.7978 - acc: 0.5739 - val_loss: 0.8458 - val_acc: 0.4910\n",
            "epoch:  18\n",
            "Train on 9010 samples, validate on 1002 samples\n",
            "Epoch 1/1\n",
            "9010/9010 [==============================] - 10s 1ms/step - loss: 0.7949 - acc: 0.5758 - val_loss: 0.8502 - val_acc: 0.4930\n",
            "epoch:  19\n",
            "Train on 9010 samples, validate on 1002 samples\n",
            "Epoch 1/1\n",
            "9010/9010 [==============================] - 10s 1ms/step - loss: 0.7922 - acc: 0.5782 - val_loss: 0.8457 - val_acc: 0.4990\n"
          ],
          "name": "stdout"
        },
        {
          "output_type": "stream",
          "text": [
            "/usr/local/lib/python3.7/dist-packages/ipykernel_launcher.py:2: DeprecationWarning: The default dtype for empty Series will be 'object' instead of 'float64' in a future version. Specify a dtype explicitly to silence this warning.\n",
            "  \n"
          ],
          "name": "stderr"
        },
        {
          "output_type": "stream",
          "text": [
            "                                  1           2           3           4\n",
            "Total return (%)          20.631496  -21.712922  -10.101957  -18.451960\n",
            "Accuracy (%)              52.427184   46.925566   42.718447   45.631068\n",
            "Average return (%)         0.066769   -0.070268   -0.032692   -0.059715\n",
            "Maximum drawdown (%)     -11.369877  -28.340459  -19.032745  -31.945689\n",
            "Drawdown duration (Days)   5.000000  253.000000  214.000000  135.000000\n",
            "Sharpe ratio               0.059959   -0.053505   -0.034866   -0.049625\n",
            "Skew                      -0.663411   -1.621748    0.395220   -0.851206\n",
            "Kurtosis                   9.261725   16.669796    8.248177   13.120156\n",
            "epoch:  0\n",
            "Model TT ranks: [1 5 5 5 5 1]\n",
            "TT number of parameters:  1280\n",
            "Equivalent fully connected layer parameters:  184320\n",
            "Train on 9010 samples, validate on 1002 samples\n",
            "Epoch 1/1\n",
            "9010/9010 [==============================] - 12s 1ms/step - loss: 0.9843 - acc: 0.4545 - val_loss: 0.8267 - val_acc: 0.5180\n",
            "epoch:  1\n",
            "Train on 9010 samples, validate on 1002 samples\n",
            "Epoch 1/1\n",
            "9010/9010 [==============================] - 11s 1ms/step - loss: 0.8349 - acc: 0.5164 - val_loss: 0.8149 - val_acc: 0.5190\n",
            "epoch:  2\n",
            "Train on 9010 samples, validate on 1002 samples\n",
            "Epoch 1/1\n",
            "9010/9010 [==============================] - 11s 1ms/step - loss: 0.8314 - acc: 0.5196 - val_loss: 0.8138 - val_acc: 0.5170\n",
            "epoch:  3\n",
            "Train on 9010 samples, validate on 1002 samples\n",
            "Epoch 1/1\n",
            "9010/9010 [==============================] - 11s 1ms/step - loss: 0.8301 - acc: 0.5233 - val_loss: 0.8152 - val_acc: 0.5289\n",
            "epoch:  4\n",
            "Train on 9010 samples, validate on 1002 samples\n",
            "Epoch 1/1\n",
            "9010/9010 [==============================] - 11s 1ms/step - loss: 0.8283 - acc: 0.5272 - val_loss: 0.8124 - val_acc: 0.5220\n",
            "epoch:  5\n",
            "Train on 9010 samples, validate on 1002 samples\n",
            "Epoch 1/1\n",
            "9010/9010 [==============================] - 11s 1ms/step - loss: 0.8269 - acc: 0.5287 - val_loss: 0.8121 - val_acc: 0.5190\n",
            "epoch:  6\n",
            "Train on 9010 samples, validate on 1002 samples\n",
            "Epoch 1/1\n",
            "9010/9010 [==============================] - 11s 1ms/step - loss: 0.8247 - acc: 0.5334 - val_loss: 0.8160 - val_acc: 0.5319\n",
            "epoch:  7\n",
            "Train on 9010 samples, validate on 1002 samples\n",
            "Epoch 1/1\n",
            "9010/9010 [==============================] - 11s 1ms/step - loss: 0.8238 - acc: 0.5373 - val_loss: 0.8133 - val_acc: 0.5359\n",
            "epoch:  8\n",
            "Train on 9010 samples, validate on 1002 samples\n",
            "Epoch 1/1\n",
            "9010/9010 [==============================] - 11s 1ms/step - loss: 0.8219 - acc: 0.5363 - val_loss: 0.8160 - val_acc: 0.5359\n",
            "epoch:  9\n",
            "Train on 9010 samples, validate on 1002 samples\n",
            "Epoch 1/1\n",
            "9010/9010 [==============================] - 11s 1ms/step - loss: 0.8201 - acc: 0.5408 - val_loss: 0.8133 - val_acc: 0.5399\n",
            "epoch:  10\n",
            "Train on 9010 samples, validate on 1002 samples\n",
            "Epoch 1/1\n",
            "9010/9010 [==============================] - 11s 1ms/step - loss: 0.8182 - acc: 0.5438 - val_loss: 0.8164 - val_acc: 0.5439\n",
            "epoch:  11\n",
            "Train on 9010 samples, validate on 1002 samples\n",
            "Epoch 1/1\n",
            "9010/9010 [==============================] - 11s 1ms/step - loss: 0.8162 - acc: 0.5493 - val_loss: 0.8164 - val_acc: 0.5419\n",
            "epoch:  12\n",
            "Train on 9010 samples, validate on 1002 samples\n",
            "Epoch 1/1\n",
            "9010/9010 [==============================] - 11s 1ms/step - loss: 0.8145 - acc: 0.5532 - val_loss: 0.8152 - val_acc: 0.5549\n",
            "epoch:  13\n",
            "Train on 9010 samples, validate on 1002 samples\n",
            "Epoch 1/1\n",
            "9010/9010 [==============================] - 11s 1ms/step - loss: 0.8125 - acc: 0.5560 - val_loss: 0.8156 - val_acc: 0.5559\n",
            "epoch:  14\n",
            "Train on 9010 samples, validate on 1002 samples\n",
            "Epoch 1/1\n",
            "9010/9010 [==============================] - 11s 1ms/step - loss: 0.8101 - acc: 0.5627 - val_loss: 0.8236 - val_acc: 0.5539\n",
            "epoch:  15\n",
            "Train on 9010 samples, validate on 1002 samples\n",
            "Epoch 1/1\n",
            "9010/9010 [==============================] - 11s 1ms/step - loss: 0.8082 - acc: 0.5669 - val_loss: 0.8198 - val_acc: 0.5639\n",
            "epoch:  16\n",
            "Train on 9010 samples, validate on 1002 samples\n",
            "Epoch 1/1\n",
            "9010/9010 [==============================] - 11s 1ms/step - loss: 0.8057 - acc: 0.5721 - val_loss: 0.8214 - val_acc: 0.5469\n",
            "epoch:  17\n",
            "Train on 9010 samples, validate on 1002 samples\n",
            "Epoch 1/1\n",
            "9010/9010 [==============================] - 11s 1ms/step - loss: 0.8033 - acc: 0.5743 - val_loss: 0.8299 - val_acc: 0.5519\n",
            "epoch:  18\n",
            "Train on 9010 samples, validate on 1002 samples\n",
            "Epoch 1/1\n",
            "9010/9010 [==============================] - 11s 1ms/step - loss: 0.8019 - acc: 0.5782 - val_loss: 0.8234 - val_acc: 0.5519\n",
            "epoch:  19\n",
            "Train on 9010 samples, validate on 1002 samples\n",
            "Epoch 1/1\n",
            "9010/9010 [==============================] - 11s 1ms/step - loss: 0.7986 - acc: 0.5857 - val_loss: 0.8241 - val_acc: 0.5469\n"
          ],
          "name": "stdout"
        },
        {
          "output_type": "stream",
          "text": [
            "/usr/local/lib/python3.7/dist-packages/ipykernel_launcher.py:2: DeprecationWarning: The default dtype for empty Series will be 'object' instead of 'float64' in a future version. Specify a dtype explicitly to silence this warning.\n",
            "  \n"
          ],
          "name": "stderr"
        },
        {
          "output_type": "stream",
          "text": [
            "                                  1           2  ...           4           5\n",
            "Total return (%)          20.631496  -21.712922  ...  -18.451960   15.121737\n",
            "Accuracy (%)              52.427184   46.925566  ...   45.631068   43.689320\n",
            "Average return (%)         0.066769   -0.070268  ...   -0.059715    0.048938\n",
            "Maximum drawdown (%)     -11.369877  -28.340459  ...  -31.945689  -12.527364\n",
            "Drawdown duration (Days)   5.000000  253.000000  ...  135.000000  103.000000\n",
            "Sharpe ratio               0.059959   -0.053505  ...   -0.049625    0.044222\n",
            "Skew                      -0.663411   -1.621748  ...   -0.851206    0.836206\n",
            "Kurtosis                   9.261725   16.669796  ...   13.120156   10.910538\n",
            "\n",
            "[8 rows x 5 columns]\n",
            "epoch:  0\n",
            "Model TT ranks: [1 6 6 6 6 1]\n",
            "TT number of parameters:  1824\n",
            "Equivalent fully connected layer parameters:  184320\n",
            "Train on 9010 samples, validate on 1002 samples\n",
            "Epoch 1/1\n",
            "9010/9010 [==============================] - 13s 1ms/step - loss: 0.9548 - acc: 0.4752 - val_loss: 0.8307 - val_acc: 0.5100\n",
            "epoch:  1\n",
            "Train on 9010 samples, validate on 1002 samples\n",
            "Epoch 1/1\n",
            "9010/9010 [==============================] - 11s 1ms/step - loss: 0.8360 - acc: 0.5120 - val_loss: 0.8230 - val_acc: 0.5250\n",
            "epoch:  2\n",
            "Train on 9010 samples, validate on 1002 samples\n",
            "Epoch 1/1\n",
            "9010/9010 [==============================] - 11s 1ms/step - loss: 0.8332 - acc: 0.5182 - val_loss: 0.8246 - val_acc: 0.4960\n",
            "epoch:  3\n",
            "Train on 9010 samples, validate on 1002 samples\n",
            "Epoch 1/1\n",
            "9010/9010 [==============================] - 12s 1ms/step - loss: 0.8321 - acc: 0.5275 - val_loss: 0.8255 - val_acc: 0.4940\n",
            "epoch:  4\n",
            "Train on 9010 samples, validate on 1002 samples\n",
            "Epoch 1/1\n",
            "9010/9010 [==============================] - 11s 1ms/step - loss: 0.8298 - acc: 0.5209 - val_loss: 0.8292 - val_acc: 0.4970\n",
            "epoch:  5\n",
            "Train on 9010 samples, validate on 1002 samples\n",
            "Epoch 1/1\n",
            "9010/9010 [==============================] - 11s 1ms/step - loss: 0.8276 - acc: 0.5261 - val_loss: 0.8303 - val_acc: 0.4860\n",
            "epoch:  6\n",
            "Train on 9010 samples, validate on 1002 samples\n",
            "Epoch 1/1\n",
            "9010/9010 [==============================] - 11s 1ms/step - loss: 0.8258 - acc: 0.5295 - val_loss: 0.8280 - val_acc: 0.4860\n",
            "epoch:  7\n",
            "Train on 9010 samples, validate on 1002 samples\n",
            "Epoch 1/1\n",
            "9010/9010 [==============================] - 11s 1ms/step - loss: 0.8236 - acc: 0.5316 - val_loss: 0.8359 - val_acc: 0.4880\n",
            "epoch:  8\n",
            "Train on 9010 samples, validate on 1002 samples\n",
            "Epoch 1/1\n",
            "9010/9010 [==============================] - 11s 1ms/step - loss: 0.8216 - acc: 0.5404 - val_loss: 0.8329 - val_acc: 0.4810\n",
            "epoch:  9\n",
            "Train on 9010 samples, validate on 1002 samples\n",
            "Epoch 1/1\n",
            "9010/9010 [==============================] - 11s 1ms/step - loss: 0.8197 - acc: 0.5400 - val_loss: 0.8338 - val_acc: 0.4850\n",
            "epoch:  10\n",
            "Train on 9010 samples, validate on 1002 samples\n",
            "Epoch 1/1\n",
            "9010/9010 [==============================] - 11s 1ms/step - loss: 0.8169 - acc: 0.5474 - val_loss: 0.8321 - val_acc: 0.4741\n",
            "epoch:  11\n",
            "Train on 9010 samples, validate on 1002 samples\n",
            "Epoch 1/1\n",
            "9010/9010 [==============================] - 11s 1ms/step - loss: 0.8151 - acc: 0.5496 - val_loss: 0.8370 - val_acc: 0.4701\n",
            "epoch:  12\n",
            "Train on 9010 samples, validate on 1002 samples\n",
            "Epoch 1/1\n",
            "9010/9010 [==============================] - 11s 1ms/step - loss: 0.8139 - acc: 0.5523 - val_loss: 0.8442 - val_acc: 0.4860\n",
            "epoch:  13\n",
            "Train on 9010 samples, validate on 1002 samples\n",
            "Epoch 1/1\n",
            "9010/9010 [==============================] - 11s 1ms/step - loss: 0.8116 - acc: 0.5522 - val_loss: 0.8453 - val_acc: 0.4780\n",
            "epoch:  14\n",
            "Train on 9010 samples, validate on 1002 samples\n",
            "Epoch 1/1\n",
            "9010/9010 [==============================] - 11s 1ms/step - loss: 0.8096 - acc: 0.5584 - val_loss: 0.8509 - val_acc: 0.4721\n",
            "epoch:  15\n",
            "Train on 9010 samples, validate on 1002 samples\n",
            "Epoch 1/1\n",
            "9010/9010 [==============================] - 11s 1ms/step - loss: 0.8080 - acc: 0.5659 - val_loss: 0.8510 - val_acc: 0.4800\n",
            "epoch:  16\n",
            "Train on 9010 samples, validate on 1002 samples\n",
            "Epoch 1/1\n",
            "9010/9010 [==============================] - 11s 1ms/step - loss: 0.8056 - acc: 0.5704 - val_loss: 0.8584 - val_acc: 0.4980\n",
            "epoch:  17\n",
            "Train on 9010 samples, validate on 1002 samples\n",
            "Epoch 1/1\n",
            "9010/9010 [==============================] - 11s 1ms/step - loss: 0.8031 - acc: 0.5715 - val_loss: 0.8470 - val_acc: 0.4581\n",
            "epoch:  18\n",
            "Train on 9010 samples, validate on 1002 samples\n",
            "Epoch 1/1\n",
            "9010/9010 [==============================] - 11s 1ms/step - loss: 0.8009 - acc: 0.5749 - val_loss: 0.8622 - val_acc: 0.4790\n",
            "epoch:  19\n",
            "Train on 9010 samples, validate on 1002 samples\n",
            "Epoch 1/1\n",
            "9010/9010 [==============================] - 11s 1ms/step - loss: 0.7982 - acc: 0.5776 - val_loss: 0.8597 - val_acc: 0.4850\n"
          ],
          "name": "stdout"
        },
        {
          "output_type": "stream",
          "text": [
            "/usr/local/lib/python3.7/dist-packages/ipykernel_launcher.py:2: DeprecationWarning: The default dtype for empty Series will be 'object' instead of 'float64' in a future version. Specify a dtype explicitly to silence this warning.\n",
            "  \n"
          ],
          "name": "stderr"
        },
        {
          "output_type": "stream",
          "text": [
            "                                  1           2  ...           5          6\n",
            "Total return (%)          20.631496  -21.712922  ...   15.121737 -27.803697\n",
            "Accuracy (%)              52.427184   46.925566  ...   43.689320  43.042071\n",
            "Average return (%)         0.066769   -0.070268  ...    0.048938  -0.089980\n",
            "Maximum drawdown (%)     -11.369877  -28.340459  ...  -12.527364 -32.513842\n",
            "Drawdown duration (Days)   5.000000  253.000000  ...  103.000000  21.000000\n",
            "Sharpe ratio               0.059959   -0.053505  ...    0.044222  -0.082932\n",
            "Skew                      -0.663411   -1.621748  ...    0.836206  -1.264710\n",
            "Kurtosis                   9.261725   16.669796  ...   10.910538   9.150407\n",
            "\n",
            "[8 rows x 6 columns]\n",
            "epoch:  0\n",
            "Model TT ranks: [1 7 7 7 7 1]\n",
            "TT number of parameters:  2464\n",
            "Equivalent fully connected layer parameters:  184320\n",
            "Train on 9010 samples, validate on 1002 samples\n",
            "Epoch 1/1\n",
            "9010/9010 [==============================] - 13s 1ms/step - loss: 1.0081 - acc: 0.4337 - val_loss: 0.8628 - val_acc: 0.5090\n",
            "epoch:  1\n",
            "Train on 9010 samples, validate on 1002 samples\n",
            "Epoch 1/1\n",
            "9010/9010 [==============================] - 12s 1ms/step - loss: 0.8445 - acc: 0.5033 - val_loss: 0.8362 - val_acc: 0.4950\n",
            "epoch:  2\n",
            "Train on 9010 samples, validate on 1002 samples\n",
            "Epoch 1/1\n",
            "9010/9010 [==============================] - 12s 1ms/step - loss: 0.8386 - acc: 0.5032 - val_loss: 0.8348 - val_acc: 0.5040\n",
            "epoch:  3\n",
            "Train on 9010 samples, validate on 1002 samples\n",
            "Epoch 1/1\n",
            "9010/9010 [==============================] - 12s 1ms/step - loss: 0.8357 - acc: 0.5100 - val_loss: 0.8388 - val_acc: 0.4830\n",
            "epoch:  4\n",
            "Train on 9010 samples, validate on 1002 samples\n",
            "Epoch 1/1\n",
            "9010/9010 [==============================] - 12s 1ms/step - loss: 0.8331 - acc: 0.5081 - val_loss: 0.8424 - val_acc: 0.4970\n",
            "epoch:  5\n",
            "Train on 9010 samples, validate on 1002 samples\n",
            "Epoch 1/1\n",
            "9010/9010 [==============================] - 12s 1ms/step - loss: 0.8310 - acc: 0.5153 - val_loss: 0.8394 - val_acc: 0.5110\n",
            "epoch:  6\n",
            "Train on 9010 samples, validate on 1002 samples\n",
            "Epoch 1/1\n",
            "9010/9010 [==============================] - 12s 1ms/step - loss: 0.8289 - acc: 0.5166 - val_loss: 0.8440 - val_acc: 0.5000\n",
            "epoch:  7\n",
            "Train on 9010 samples, validate on 1002 samples\n",
            "Epoch 1/1\n",
            "9010/9010 [==============================] - 12s 1ms/step - loss: 0.8267 - acc: 0.5195 - val_loss: 0.8445 - val_acc: 0.5080\n",
            "epoch:  8\n",
            "Train on 9010 samples, validate on 1002 samples\n",
            "Epoch 1/1\n",
            "9010/9010 [==============================] - 12s 1ms/step - loss: 0.8244 - acc: 0.5243 - val_loss: 0.8626 - val_acc: 0.5030\n",
            "epoch:  9\n",
            "Train on 9010 samples, validate on 1002 samples\n",
            "Epoch 1/1\n",
            "9010/9010 [==============================] - 12s 1ms/step - loss: 0.8227 - acc: 0.5287 - val_loss: 0.8491 - val_acc: 0.4970\n",
            "epoch:  10\n",
            "Train on 9010 samples, validate on 1002 samples\n",
            "Epoch 1/1\n",
            "9010/9010 [==============================] - 12s 1ms/step - loss: 0.8211 - acc: 0.5296 - val_loss: 0.8395 - val_acc: 0.5050\n",
            "epoch:  11\n",
            "Train on 9010 samples, validate on 1002 samples\n",
            "Epoch 1/1\n",
            "9010/9010 [==============================] - 12s 1ms/step - loss: 0.8194 - acc: 0.5296 - val_loss: 0.8520 - val_acc: 0.4780\n",
            "epoch:  12\n",
            "Train on 9010 samples, validate on 1002 samples\n",
            "Epoch 1/1\n",
            "9010/9010 [==============================] - 12s 1ms/step - loss: 0.8178 - acc: 0.5365 - val_loss: 0.8421 - val_acc: 0.5150\n",
            "epoch:  13\n",
            "Train on 9010 samples, validate on 1002 samples\n",
            "Epoch 1/1\n",
            "9010/9010 [==============================] - 12s 1ms/step - loss: 0.8157 - acc: 0.5407 - val_loss: 0.8443 - val_acc: 0.5060\n",
            "epoch:  14\n",
            "Train on 9010 samples, validate on 1002 samples\n",
            "Epoch 1/1\n",
            "9010/9010 [==============================] - 12s 1ms/step - loss: 0.8134 - acc: 0.5476 - val_loss: 0.8431 - val_acc: 0.5220\n",
            "epoch:  15\n",
            "Train on 9010 samples, validate on 1002 samples\n",
            "Epoch 1/1\n",
            "9010/9010 [==============================] - 12s 1ms/step - loss: 0.8127 - acc: 0.5471 - val_loss: 0.8442 - val_acc: 0.5110\n",
            "epoch:  16\n",
            "Train on 9010 samples, validate on 1002 samples\n",
            "Epoch 1/1\n",
            "9010/9010 [==============================] - 12s 1ms/step - loss: 0.8106 - acc: 0.5549 - val_loss: 0.8467 - val_acc: 0.5110\n",
            "epoch:  17\n",
            "Train on 9010 samples, validate on 1002 samples\n",
            "Epoch 1/1\n",
            "9010/9010 [==============================] - 12s 1ms/step - loss: 0.8080 - acc: 0.5582 - val_loss: 0.8376 - val_acc: 0.5180\n",
            "epoch:  18\n",
            "Train on 9010 samples, validate on 1002 samples\n",
            "Epoch 1/1\n",
            "9010/9010 [==============================] - 12s 1ms/step - loss: 0.8062 - acc: 0.5628 - val_loss: 0.8672 - val_acc: 0.5140\n",
            "epoch:  19\n",
            "Train on 9010 samples, validate on 1002 samples\n",
            "Epoch 1/1\n",
            "9010/9010 [==============================] - 12s 1ms/step - loss: 0.8043 - acc: 0.5656 - val_loss: 0.8487 - val_acc: 0.5150\n"
          ],
          "name": "stdout"
        },
        {
          "output_type": "stream",
          "text": [
            "/usr/local/lib/python3.7/dist-packages/ipykernel_launcher.py:2: DeprecationWarning: The default dtype for empty Series will be 'object' instead of 'float64' in a future version. Specify a dtype explicitly to silence this warning.\n",
            "  \n"
          ],
          "name": "stderr"
        },
        {
          "output_type": "stream",
          "text": [
            "                                  1           2  ...          6           7\n",
            "Total return (%)          20.631496  -21.712922  ... -27.803697  -45.096299\n",
            "Accuracy (%)              52.427184   46.925566  ...  43.042071   39.805825\n",
            "Average return (%)         0.066769   -0.070268  ...  -0.089980   -0.145943\n",
            "Maximum drawdown (%)     -11.369877  -28.340459  ... -32.513842  -46.248532\n",
            "Drawdown duration (Days)   5.000000  253.000000  ...  21.000000  276.000000\n",
            "Sharpe ratio               0.059959   -0.053505  ...  -0.082932   -0.130778\n",
            "Skew                      -0.663411   -1.621748  ...  -1.264710   -1.033109\n",
            "Kurtosis                   9.261725   16.669796  ...   9.150407    9.100857\n",
            "\n",
            "[8 rows x 7 columns]\n",
            "epoch:  0\n",
            "Model TT ranks: [1 8 8 8 8 1]\n",
            "TT number of parameters:  3200\n",
            "Equivalent fully connected layer parameters:  184320\n",
            "Train on 9010 samples, validate on 1002 samples\n",
            "Epoch 1/1\n",
            "9010/9010 [==============================] - 13s 1ms/step - loss: 0.9711 - acc: 0.4743 - val_loss: 0.8354 - val_acc: 0.4940\n",
            "epoch:  1\n",
            "Train on 9010 samples, validate on 1002 samples\n",
            "Epoch 1/1\n",
            "9010/9010 [==============================] - 12s 1ms/step - loss: 0.8381 - acc: 0.5155 - val_loss: 0.8237 - val_acc: 0.5130\n",
            "epoch:  2\n",
            "Train on 9010 samples, validate on 1002 samples\n",
            "Epoch 1/1\n",
            "9010/9010 [==============================] - 12s 1ms/step - loss: 0.8344 - acc: 0.5224 - val_loss: 0.8258 - val_acc: 0.5100\n",
            "epoch:  3\n",
            "Train on 9010 samples, validate on 1002 samples\n",
            "Epoch 1/1\n",
            "9010/9010 [==============================] - 12s 1ms/step - loss: 0.8313 - acc: 0.5231 - val_loss: 0.8265 - val_acc: 0.5150\n",
            "epoch:  4\n",
            "Train on 9010 samples, validate on 1002 samples\n",
            "Epoch 1/1\n",
            "9010/9010 [==============================] - 12s 1ms/step - loss: 0.8286 - acc: 0.5269 - val_loss: 0.8259 - val_acc: 0.5419\n",
            "epoch:  5\n",
            "Train on 9010 samples, validate on 1002 samples\n",
            "Epoch 1/1\n",
            "9010/9010 [==============================] - 12s 1ms/step - loss: 0.8256 - acc: 0.5331 - val_loss: 0.8294 - val_acc: 0.5279\n",
            "epoch:  6\n",
            "Train on 9010 samples, validate on 1002 samples\n",
            "Epoch 1/1\n",
            "9010/9010 [==============================] - 12s 1ms/step - loss: 0.8238 - acc: 0.5309 - val_loss: 0.8259 - val_acc: 0.5409\n",
            "epoch:  7\n",
            "Train on 9010 samples, validate on 1002 samples\n",
            "Epoch 1/1\n",
            "9010/9010 [==============================] - 12s 1ms/step - loss: 0.8217 - acc: 0.5355 - val_loss: 0.8249 - val_acc: 0.5379\n",
            "epoch:  8\n",
            "Train on 9010 samples, validate on 1002 samples\n",
            "Epoch 1/1\n",
            "9010/9010 [==============================] - 12s 1ms/step - loss: 0.8200 - acc: 0.5363 - val_loss: 0.8231 - val_acc: 0.5359\n",
            "epoch:  9\n",
            "Train on 9010 samples, validate on 1002 samples\n",
            "Epoch 1/1\n",
            "9010/9010 [==============================] - 12s 1ms/step - loss: 0.8177 - acc: 0.5456 - val_loss: 0.8241 - val_acc: 0.5349\n",
            "epoch:  10\n",
            "Train on 9010 samples, validate on 1002 samples\n",
            "Epoch 1/1\n",
            "9010/9010 [==============================] - 12s 1ms/step - loss: 0.8169 - acc: 0.5491 - val_loss: 0.8256 - val_acc: 0.5359\n",
            "epoch:  11\n",
            "Train on 9010 samples, validate on 1002 samples\n",
            "Epoch 1/1\n",
            "9010/9010 [==============================] - 12s 1ms/step - loss: 0.8141 - acc: 0.5476 - val_loss: 0.8272 - val_acc: 0.5190\n",
            "epoch:  12\n",
            "Train on 9010 samples, validate on 1002 samples\n",
            "Epoch 1/1\n",
            "9010/9010 [==============================] - 12s 1ms/step - loss: 0.8124 - acc: 0.5564 - val_loss: 0.8191 - val_acc: 0.5259\n",
            "epoch:  13\n",
            "Train on 9010 samples, validate on 1002 samples\n",
            "Epoch 1/1\n",
            "9010/9010 [==============================] - 12s 1ms/step - loss: 0.8110 - acc: 0.5588 - val_loss: 0.8245 - val_acc: 0.5299\n",
            "epoch:  14\n",
            "Train on 9010 samples, validate on 1002 samples\n",
            "Epoch 1/1\n",
            "9010/9010 [==============================] - 12s 1ms/step - loss: 0.8091 - acc: 0.5599 - val_loss: 0.8336 - val_acc: 0.5180\n",
            "epoch:  15\n",
            "Train on 9010 samples, validate on 1002 samples\n",
            "Epoch 1/1\n",
            "9010/9010 [==============================] - 12s 1ms/step - loss: 0.8067 - acc: 0.5654 - val_loss: 0.8244 - val_acc: 0.5140\n",
            "epoch:  16\n",
            "Train on 9010 samples, validate on 1002 samples\n",
            "Epoch 1/1\n",
            "9010/9010 [==============================] - 12s 1ms/step - loss: 0.8047 - acc: 0.5680 - val_loss: 0.8366 - val_acc: 0.4960\n",
            "epoch:  17\n",
            "Train on 9010 samples, validate on 1002 samples\n",
            "Epoch 1/1\n",
            "9010/9010 [==============================] - 12s 1ms/step - loss: 0.8024 - acc: 0.5708 - val_loss: 0.8451 - val_acc: 0.4970\n",
            "epoch:  18\n",
            "Train on 9010 samples, validate on 1002 samples\n",
            "Epoch 1/1\n",
            "9010/9010 [==============================] - 12s 1ms/step - loss: 0.8006 - acc: 0.5734 - val_loss: 0.8399 - val_acc: 0.4920\n",
            "epoch:  19\n",
            "Train on 9010 samples, validate on 1002 samples\n",
            "Epoch 1/1\n",
            "9010/9010 [==============================] - 12s 1ms/step - loss: 0.7985 - acc: 0.5785 - val_loss: 0.8369 - val_acc: 0.5240\n"
          ],
          "name": "stdout"
        },
        {
          "output_type": "stream",
          "text": [
            "/usr/local/lib/python3.7/dist-packages/ipykernel_launcher.py:2: DeprecationWarning: The default dtype for empty Series will be 'object' instead of 'float64' in a future version. Specify a dtype explicitly to silence this warning.\n",
            "  \n"
          ],
          "name": "stderr"
        },
        {
          "output_type": "stream",
          "text": [
            "                                  1           2  ...           7          8\n",
            "Total return (%)          20.631496  -21.712922  ...  -45.096299   3.871297\n",
            "Accuracy (%)              52.427184   46.925566  ...   39.805825  39.805825\n",
            "Average return (%)         0.066769   -0.070268  ...   -0.145943   0.012528\n",
            "Maximum drawdown (%)     -11.369877  -28.340459  ...  -46.248532 -23.199347\n",
            "Drawdown duration (Days)   5.000000  253.000000  ...  276.000000  16.000000\n",
            "Sharpe ratio               0.059959   -0.053505  ...   -0.130778   0.011790\n",
            "Skew                      -0.663411   -1.621748  ...   -1.033109  -0.165497\n",
            "Kurtosis                   9.261725   16.669796  ...    9.100857  10.896928\n",
            "\n",
            "[8 rows x 8 columns]\n",
            "epoch:  0\n",
            "Model TT ranks: [1 9 9 9 9 1]\n",
            "TT number of parameters:  4032\n",
            "Equivalent fully connected layer parameters:  184320\n",
            "Train on 9010 samples, validate on 1002 samples\n",
            "Epoch 1/1\n",
            "9010/9010 [==============================] - 14s 2ms/step - loss: 0.9733 - acc: 0.4592 - val_loss: 0.8425 - val_acc: 0.5060\n",
            "epoch:  1\n",
            "Train on 9010 samples, validate on 1002 samples\n",
            "Epoch 1/1\n",
            "9010/9010 [==============================] - 13s 1ms/step - loss: 0.8354 - acc: 0.5189 - val_loss: 0.8250 - val_acc: 0.5180\n",
            "epoch:  2\n",
            "Train on 9010 samples, validate on 1002 samples\n",
            "Epoch 1/1\n",
            "9010/9010 [==============================] - 13s 1ms/step - loss: 0.8305 - acc: 0.5272 - val_loss: 0.8219 - val_acc: 0.5269\n",
            "epoch:  3\n",
            "Train on 9010 samples, validate on 1002 samples\n",
            "Epoch 1/1\n",
            "9010/9010 [==============================] - 13s 1ms/step - loss: 0.8272 - acc: 0.5294 - val_loss: 0.8166 - val_acc: 0.5220\n",
            "epoch:  4\n",
            "Train on 9010 samples, validate on 1002 samples\n",
            "Epoch 1/1\n",
            "9010/9010 [==============================] - 13s 1ms/step - loss: 0.8245 - acc: 0.5375 - val_loss: 0.8161 - val_acc: 0.5339\n",
            "epoch:  5\n",
            "Train on 9010 samples, validate on 1002 samples\n",
            "Epoch 1/1\n",
            "9010/9010 [==============================] - 13s 1ms/step - loss: 0.8221 - acc: 0.5395 - val_loss: 0.8164 - val_acc: 0.5309\n",
            "epoch:  6\n",
            "Train on 9010 samples, validate on 1002 samples\n",
            "Epoch 1/1\n",
            "9010/9010 [==============================] - 13s 1ms/step - loss: 0.8194 - acc: 0.5463 - val_loss: 0.8097 - val_acc: 0.5220\n",
            "epoch:  7\n",
            "Train on 9010 samples, validate on 1002 samples\n",
            "Epoch 1/1\n",
            "9010/9010 [==============================] - 13s 1ms/step - loss: 0.8180 - acc: 0.5445 - val_loss: 0.8089 - val_acc: 0.5279\n",
            "epoch:  8\n",
            "Train on 9010 samples, validate on 1002 samples\n",
            "Epoch 1/1\n",
            "9010/9010 [==============================] - 13s 1ms/step - loss: 0.8154 - acc: 0.5506 - val_loss: 0.8106 - val_acc: 0.5329\n",
            "epoch:  9\n",
            "Train on 9010 samples, validate on 1002 samples\n",
            "Epoch 1/1\n",
            "9010/9010 [==============================] - 13s 1ms/step - loss: 0.8134 - acc: 0.5537 - val_loss: 0.8142 - val_acc: 0.5429\n",
            "epoch:  10\n",
            "Train on 9010 samples, validate on 1002 samples\n",
            "Epoch 1/1\n",
            "9010/9010 [==============================] - 13s 1ms/step - loss: 0.8113 - acc: 0.5569 - val_loss: 0.8156 - val_acc: 0.5319\n",
            "epoch:  11\n",
            "Train on 9010 samples, validate on 1002 samples\n",
            "Epoch 1/1\n",
            "9010/9010 [==============================] - 13s 1ms/step - loss: 0.8083 - acc: 0.5588 - val_loss: 0.8119 - val_acc: 0.5399\n",
            "epoch:  12\n",
            "Train on 9010 samples, validate on 1002 samples\n",
            "Epoch 1/1\n",
            "9010/9010 [==============================] - 13s 1ms/step - loss: 0.8067 - acc: 0.5615 - val_loss: 0.8159 - val_acc: 0.5369\n",
            "epoch:  13\n",
            "Train on 9010 samples, validate on 1002 samples\n",
            "Epoch 1/1\n",
            "9010/9010 [==============================] - 13s 1ms/step - loss: 0.8042 - acc: 0.5633 - val_loss: 0.8133 - val_acc: 0.5329\n",
            "epoch:  14\n",
            "Train on 9010 samples, validate on 1002 samples\n",
            "Epoch 1/1\n",
            "9010/9010 [==============================] - 13s 1ms/step - loss: 0.8016 - acc: 0.5699 - val_loss: 0.8085 - val_acc: 0.5339\n",
            "epoch:  15\n",
            "Train on 9010 samples, validate on 1002 samples\n",
            "Epoch 1/1\n",
            "9010/9010 [==============================] - 13s 1ms/step - loss: 0.7992 - acc: 0.5749 - val_loss: 0.8166 - val_acc: 0.5339\n",
            "epoch:  16\n",
            "Train on 9010 samples, validate on 1002 samples\n",
            "Epoch 1/1\n",
            "9010/9010 [==============================] - 13s 1ms/step - loss: 0.7969 - acc: 0.5752 - val_loss: 0.8140 - val_acc: 0.5339\n",
            "epoch:  17\n",
            "Train on 9010 samples, validate on 1002 samples\n",
            "Epoch 1/1\n",
            "9010/9010 [==============================] - 13s 1ms/step - loss: 0.7940 - acc: 0.5775 - val_loss: 0.8242 - val_acc: 0.5379\n",
            "epoch:  18\n",
            "Train on 9010 samples, validate on 1002 samples\n",
            "Epoch 1/1\n",
            "9010/9010 [==============================] - 13s 1ms/step - loss: 0.7913 - acc: 0.5891 - val_loss: 0.8151 - val_acc: 0.5299\n",
            "epoch:  19\n",
            "Train on 9010 samples, validate on 1002 samples\n",
            "Epoch 1/1\n",
            "9010/9010 [==============================] - 13s 1ms/step - loss: 0.7893 - acc: 0.5871 - val_loss: 0.8214 - val_acc: 0.5379\n"
          ],
          "name": "stdout"
        },
        {
          "output_type": "stream",
          "text": [
            "/usr/local/lib/python3.7/dist-packages/ipykernel_launcher.py:2: DeprecationWarning: The default dtype for empty Series will be 'object' instead of 'float64' in a future version. Specify a dtype explicitly to silence this warning.\n",
            "  \n"
          ],
          "name": "stderr"
        },
        {
          "output_type": "stream",
          "text": [
            "                                  1           2  ...          8           9\n",
            "Total return (%)          20.631496  -21.712922  ...   3.871297   16.123211\n",
            "Accuracy (%)              52.427184   46.925566  ...  39.805825   48.220065\n",
            "Average return (%)         0.066769   -0.070268  ...   0.012528    0.052179\n",
            "Maximum drawdown (%)     -11.369877  -28.340459  ... -23.199347  -13.553643\n",
            "Drawdown duration (Days)   5.000000  253.000000  ...  16.000000  113.000000\n",
            "Sharpe ratio               0.059959   -0.053505  ...   0.011790    0.046798\n",
            "Skew                      -0.663411   -1.621748  ...  -0.165497    1.149006\n",
            "Kurtosis                   9.261725   16.669796  ...  10.896928    8.206043\n",
            "\n",
            "[8 rows x 9 columns]\n",
            "epoch:  0\n",
            "Model TT ranks: [ 1 10 10 10 10  1]\n",
            "TT number of parameters:  4960\n",
            "Equivalent fully connected layer parameters:  184320\n",
            "Train on 9010 samples, validate on 1002 samples\n",
            "Epoch 1/1\n",
            "9010/9010 [==============================] - 15s 2ms/step - loss: 0.9478 - acc: 0.4812 - val_loss: 0.8145 - val_acc: 0.5309\n",
            "epoch:  1\n",
            "Train on 9010 samples, validate on 1002 samples\n",
            "Epoch 1/1\n",
            "9010/9010 [==============================] - 13s 1ms/step - loss: 0.8327 - acc: 0.5225 - val_loss: 0.8121 - val_acc: 0.5399\n",
            "epoch:  2\n",
            "Train on 9010 samples, validate on 1002 samples\n",
            "Epoch 1/1\n",
            "9010/9010 [==============================] - 13s 1ms/step - loss: 0.8282 - acc: 0.5286 - val_loss: 0.8250 - val_acc: 0.5359\n",
            "epoch:  3\n",
            "Train on 9010 samples, validate on 1002 samples\n",
            "Epoch 1/1\n",
            "9010/9010 [==============================] - 13s 1ms/step - loss: 0.8248 - acc: 0.5314 - val_loss: 0.8280 - val_acc: 0.5100\n",
            "epoch:  4\n",
            "Train on 9010 samples, validate on 1002 samples\n",
            "Epoch 1/1\n",
            "9010/9010 [==============================] - 13s 1ms/step - loss: 0.8223 - acc: 0.5358 - val_loss: 0.8264 - val_acc: 0.5419\n",
            "epoch:  5\n",
            "Train on 9010 samples, validate on 1002 samples\n",
            "Epoch 1/1\n",
            "9010/9010 [==============================] - 13s 1ms/step - loss: 0.8207 - acc: 0.5393 - val_loss: 0.8302 - val_acc: 0.5269\n",
            "epoch:  6\n",
            "Train on 9010 samples, validate on 1002 samples\n",
            "Epoch 1/1\n",
            "9010/9010 [==============================] - 13s 1ms/step - loss: 0.8188 - acc: 0.5463 - val_loss: 0.8541 - val_acc: 0.5000\n",
            "epoch:  7\n",
            "Train on 9010 samples, validate on 1002 samples\n",
            "Epoch 1/1\n",
            "9010/9010 [==============================] - 13s 1ms/step - loss: 0.8169 - acc: 0.5471 - val_loss: 0.8374 - val_acc: 0.5160\n",
            "epoch:  8\n",
            "Train on 9010 samples, validate on 1002 samples\n",
            "Epoch 1/1\n",
            "9010/9010 [==============================] - 13s 1ms/step - loss: 0.8148 - acc: 0.5550 - val_loss: 0.8293 - val_acc: 0.5299\n",
            "epoch:  9\n",
            "Train on 9010 samples, validate on 1002 samples\n",
            "Epoch 1/1\n",
            "9010/9010 [==============================] - 13s 1ms/step - loss: 0.8124 - acc: 0.5569 - val_loss: 0.8363 - val_acc: 0.5070\n",
            "epoch:  10\n",
            "Train on 9010 samples, validate on 1002 samples\n",
            "Epoch 1/1\n",
            "9010/9010 [==============================] - 13s 1ms/step - loss: 0.8098 - acc: 0.5625 - val_loss: 0.8307 - val_acc: 0.5289\n",
            "epoch:  11\n",
            "Train on 9010 samples, validate on 1002 samples\n",
            "Epoch 1/1\n",
            "9010/9010 [==============================] - 13s 1ms/step - loss: 0.8081 - acc: 0.5685 - val_loss: 0.8460 - val_acc: 0.5010\n",
            "epoch:  12\n",
            "Train on 9010 samples, validate on 1002 samples\n",
            "Epoch 1/1\n",
            "9010/9010 [==============================] - 13s 1ms/step - loss: 0.8054 - acc: 0.5750 - val_loss: 0.8320 - val_acc: 0.5150\n",
            "epoch:  13\n",
            "Train on 9010 samples, validate on 1002 samples\n",
            "Epoch 1/1\n",
            "9010/9010 [==============================] - 13s 1ms/step - loss: 0.8028 - acc: 0.5786 - val_loss: 0.8350 - val_acc: 0.5160\n",
            "epoch:  14\n",
            "Train on 9010 samples, validate on 1002 samples\n",
            "Epoch 1/1\n",
            "9010/9010 [==============================] - 13s 1ms/step - loss: 0.7996 - acc: 0.5837 - val_loss: 0.8503 - val_acc: 0.5160\n",
            "epoch:  15\n",
            "Train on 9010 samples, validate on 1002 samples\n",
            "Epoch 1/1\n",
            "9010/9010 [==============================] - 13s 1ms/step - loss: 0.7974 - acc: 0.5827 - val_loss: 0.8218 - val_acc: 0.5319\n",
            "epoch:  16\n",
            "Train on 9010 samples, validate on 1002 samples\n",
            "Epoch 1/1\n",
            "9010/9010 [==============================] - 13s 1ms/step - loss: 0.7951 - acc: 0.5903 - val_loss: 0.8369 - val_acc: 0.5230\n",
            "epoch:  17\n",
            "Train on 9010 samples, validate on 1002 samples\n",
            "Epoch 1/1\n",
            "9010/9010 [==============================] - 13s 1ms/step - loss: 0.7927 - acc: 0.5926 - val_loss: 0.8355 - val_acc: 0.5299\n",
            "epoch:  18\n",
            "Train on 9010 samples, validate on 1002 samples\n",
            "Epoch 1/1\n",
            "9010/9010 [==============================] - 13s 1ms/step - loss: 0.7896 - acc: 0.5951 - val_loss: 0.8384 - val_acc: 0.5359\n",
            "epoch:  19\n",
            "Train on 9010 samples, validate on 1002 samples\n",
            "Epoch 1/1\n",
            "9010/9010 [==============================] - 13s 1ms/step - loss: 0.7874 - acc: 0.5994 - val_loss: 0.8264 - val_acc: 0.5279\n",
            "                                 1           2   ...          9           10\n",
            "Total return (%)          20.631496  -21.712922  ...   16.123211    6.022995\n",
            "Accuracy (%)              52.427184   46.925566  ...   48.220065   47.249191\n",
            "Average return (%)         0.066769   -0.070268  ...    0.052179    0.019492\n",
            "Maximum drawdown (%)     -11.369877  -28.340459  ...  -13.553643  -28.685106\n",
            "Drawdown duration (Days)   5.000000  253.000000  ...  113.000000  114.000000\n",
            "Sharpe ratio               0.059959   -0.053505  ...    0.046798    0.016791\n",
            "Skew                      -0.663411   -1.621748  ...    1.149006    0.593754\n",
            "Kurtosis                   9.261725   16.669796  ...    8.206043   12.191779\n",
            "\n",
            "[8 rows x 10 columns]\n"
          ],
          "name": "stdout"
        },
        {
          "output_type": "stream",
          "text": [
            "/usr/local/lib/python3.7/dist-packages/ipykernel_launcher.py:2: DeprecationWarning: The default dtype for empty Series will be 'object' instead of 'float64' in a future version. Specify a dtype explicitly to silence this warning.\n",
            "  \n"
          ],
          "name": "stderr"
        }
      ]
    },
    {
      "cell_type": "code",
      "metadata": {
        "colab": {
          "base_uri": "https://localhost:8080/"
        },
        "id": "9oRYMV8WanT7",
        "outputId": "f1bb1a56-1836-421f-a7bd-7ce27f7f734a"
      },
      "source": [
        "model.summary()"
      ],
      "execution_count": 49,
      "outputs": [
        {
          "output_type": "stream",
          "text": [
            "_________________________________________________________________\n",
            "Layer (type)                 Output Shape              Param #   \n",
            "=================================================================\n",
            "tt_recurrent_layer_10 (TTRec (None, 1024)              1054560   \n",
            "_________________________________________________________________\n",
            "dense_10 (Dense)             (None, 3)                 3075      \n",
            "=================================================================\n",
            "Total params: 1,057,635\n",
            "Trainable params: 1,057,635\n",
            "Non-trainable params: 0\n",
            "_________________________________________________________________\n"
          ],
          "name": "stdout"
        }
      ]
    },
    {
      "cell_type": "markdown",
      "metadata": {
        "id": "FDCDHcF1auUF"
      },
      "source": [
        "## Analysis"
      ]
    },
    {
      "cell_type": "code",
      "metadata": {
        "colab": {
          "base_uri": "https://localhost:8080/",
          "height": 297
        },
        "id": "e731zUZ9awI_",
        "outputId": "cd576ae6-ca3c-48c4-c6d3-efba2bb46a99"
      },
      "source": [
        "trading_res"
      ],
      "execution_count": 50,
      "outputs": [
        {
          "output_type": "execute_result",
          "data": {
            "text/html": [
              "<div>\n",
              "<style scoped>\n",
              "    .dataframe tbody tr th:only-of-type {\n",
              "        vertical-align: middle;\n",
              "    }\n",
              "\n",
              "    .dataframe tbody tr th {\n",
              "        vertical-align: top;\n",
              "    }\n",
              "\n",
              "    .dataframe thead th {\n",
              "        text-align: right;\n",
              "    }\n",
              "</style>\n",
              "<table border=\"1\" class=\"dataframe\">\n",
              "  <thead>\n",
              "    <tr style=\"text-align: right;\">\n",
              "      <th></th>\n",
              "      <th>1</th>\n",
              "      <th>2</th>\n",
              "      <th>3</th>\n",
              "      <th>4</th>\n",
              "      <th>5</th>\n",
              "      <th>6</th>\n",
              "      <th>7</th>\n",
              "      <th>8</th>\n",
              "      <th>9</th>\n",
              "      <th>10</th>\n",
              "    </tr>\n",
              "  </thead>\n",
              "  <tbody>\n",
              "    <tr>\n",
              "      <th>Total return (%)</th>\n",
              "      <td>20.631496</td>\n",
              "      <td>-21.712922</td>\n",
              "      <td>-10.101957</td>\n",
              "      <td>-18.451960</td>\n",
              "      <td>15.121737</td>\n",
              "      <td>-27.803697</td>\n",
              "      <td>-45.096299</td>\n",
              "      <td>3.871297</td>\n",
              "      <td>16.123211</td>\n",
              "      <td>6.022995</td>\n",
              "    </tr>\n",
              "    <tr>\n",
              "      <th>Accuracy (%)</th>\n",
              "      <td>52.427184</td>\n",
              "      <td>46.925566</td>\n",
              "      <td>42.718447</td>\n",
              "      <td>45.631068</td>\n",
              "      <td>43.689320</td>\n",
              "      <td>43.042071</td>\n",
              "      <td>39.805825</td>\n",
              "      <td>39.805825</td>\n",
              "      <td>48.220065</td>\n",
              "      <td>47.249191</td>\n",
              "    </tr>\n",
              "    <tr>\n",
              "      <th>Average return (%)</th>\n",
              "      <td>0.066769</td>\n",
              "      <td>-0.070268</td>\n",
              "      <td>-0.032692</td>\n",
              "      <td>-0.059715</td>\n",
              "      <td>0.048938</td>\n",
              "      <td>-0.089980</td>\n",
              "      <td>-0.145943</td>\n",
              "      <td>0.012528</td>\n",
              "      <td>0.052179</td>\n",
              "      <td>0.019492</td>\n",
              "    </tr>\n",
              "    <tr>\n",
              "      <th>Maximum drawdown (%)</th>\n",
              "      <td>-11.369877</td>\n",
              "      <td>-28.340459</td>\n",
              "      <td>-19.032745</td>\n",
              "      <td>-31.945689</td>\n",
              "      <td>-12.527364</td>\n",
              "      <td>-32.513842</td>\n",
              "      <td>-46.248532</td>\n",
              "      <td>-23.199347</td>\n",
              "      <td>-13.553643</td>\n",
              "      <td>-28.685106</td>\n",
              "    </tr>\n",
              "    <tr>\n",
              "      <th>Drawdown duration (Days)</th>\n",
              "      <td>5.000000</td>\n",
              "      <td>253.000000</td>\n",
              "      <td>214.000000</td>\n",
              "      <td>135.000000</td>\n",
              "      <td>103.000000</td>\n",
              "      <td>21.000000</td>\n",
              "      <td>276.000000</td>\n",
              "      <td>16.000000</td>\n",
              "      <td>113.000000</td>\n",
              "      <td>114.000000</td>\n",
              "    </tr>\n",
              "    <tr>\n",
              "      <th>Sharpe ratio</th>\n",
              "      <td>0.059959</td>\n",
              "      <td>-0.053505</td>\n",
              "      <td>-0.034866</td>\n",
              "      <td>-0.049625</td>\n",
              "      <td>0.044222</td>\n",
              "      <td>-0.082932</td>\n",
              "      <td>-0.130778</td>\n",
              "      <td>0.011790</td>\n",
              "      <td>0.046798</td>\n",
              "      <td>0.016791</td>\n",
              "    </tr>\n",
              "    <tr>\n",
              "      <th>Skew</th>\n",
              "      <td>-0.663411</td>\n",
              "      <td>-1.621748</td>\n",
              "      <td>0.395220</td>\n",
              "      <td>-0.851206</td>\n",
              "      <td>0.836206</td>\n",
              "      <td>-1.264710</td>\n",
              "      <td>-1.033109</td>\n",
              "      <td>-0.165497</td>\n",
              "      <td>1.149006</td>\n",
              "      <td>0.593754</td>\n",
              "    </tr>\n",
              "    <tr>\n",
              "      <th>Kurtosis</th>\n",
              "      <td>9.261725</td>\n",
              "      <td>16.669796</td>\n",
              "      <td>8.248177</td>\n",
              "      <td>13.120156</td>\n",
              "      <td>10.910538</td>\n",
              "      <td>9.150407</td>\n",
              "      <td>9.100857</td>\n",
              "      <td>10.896928</td>\n",
              "      <td>8.206043</td>\n",
              "      <td>12.191779</td>\n",
              "    </tr>\n",
              "  </tbody>\n",
              "</table>\n",
              "</div>"
            ],
            "text/plain": [
              "                                 1           2   ...          9           10\n",
              "Total return (%)          20.631496  -21.712922  ...   16.123211    6.022995\n",
              "Accuracy (%)              52.427184   46.925566  ...   48.220065   47.249191\n",
              "Average return (%)         0.066769   -0.070268  ...    0.052179    0.019492\n",
              "Maximum drawdown (%)     -11.369877  -28.340459  ...  -13.553643  -28.685106\n",
              "Drawdown duration (Days)   5.000000  253.000000  ...  113.000000  114.000000\n",
              "Sharpe ratio               0.059959   -0.053505  ...    0.046798    0.016791\n",
              "Skew                      -0.663411   -1.621748  ...    1.149006    0.593754\n",
              "Kurtosis                   9.261725   16.669796  ...    8.206043   12.191779\n",
              "\n",
              "[8 rows x 10 columns]"
            ]
          },
          "metadata": {
            "tags": []
          },
          "execution_count": 50
        }
      ]
    },
    {
      "cell_type": "code",
      "metadata": {
        "colab": {
          "base_uri": "https://localhost:8080/",
          "height": 241
        },
        "id": "BNGKLJqNa3Iq",
        "outputId": "c2bf2337-18fb-47de-ccdb-d831859f2291"
      },
      "source": [
        "fig,ax = plt.subplots()\n",
        "ax.plot(ranks, parameters, marker='o', markersize=4)\n",
        "ax.set_title('Number of Parameters')\n",
        "ax.set_xlabel('Ranks')\n",
        "ax.set_ylabel('Number')\n",
        "ax.set_xlim([1,10])\n",
        "\n",
        "fig.set_size_inches(12,3)"
      ],
      "execution_count": 51,
      "outputs": [
        {
          "output_type": "display_data",
          "data": {
            "image/png": "[encoded data removed]",
            "text/plain": [
              "<Figure size 864x216 with 1 Axes>"
            ]
          },
          "metadata": {
            "tags": [],
            "needs_background": "light"
          }
        }
      ]
    },
    {
      "cell_type": "code",
      "metadata": {
        "colab": {
          "base_uri": "https://localhost:8080/"
        },
        "id": "XgjZWMSBbI6v",
        "outputId": "cbb0ba3a-f90c-4482-a87b-6c658c353998"
      },
      "source": [
        "model = best_model\n",
        "train_loss = best_train_loss\n",
        "valid_loss = best_valid_loss\n",
        "trani_acc = best_train_acc\n",
        "valid_acc = best_valid_acc\n",
        "weights_XH = best_weights_XH\n",
        "weights_HH = best_weights_HH\n",
        "\n",
        "model.summary()"
      ],
      "execution_count": 52,
      "outputs": [
        {
          "output_type": "stream",
          "text": [
            "_________________________________________________________________\n",
            "Layer (type)                 Output Shape              Param #   \n",
            "=================================================================\n",
            "tt_recurrent_layer_1 (TTRecu (None, 1024)              1049664   \n",
            "_________________________________________________________________\n",
            "dense_1 (Dense)              (None, 3)                 3075      \n",
            "=================================================================\n",
            "Total params: 1,052,739\n",
            "Trainable params: 1,052,739\n",
            "Non-trainable params: 0\n",
            "_________________________________________________________________\n"
          ],
          "name": "stdout"
        }
      ]
    },
    {
      "cell_type": "code",
      "metadata": {
        "colab": {
          "base_uri": "https://localhost:8080/",
          "height": 543
        },
        "id": "UIIyu6VpbL5p",
        "outputId": "6ddb4122-e2ac-4949-93af-443209aca55d"
      },
      "source": [
        "fig, axes = plt.subplots(2,1)\n",
        "\n",
        "ax=axes[0]\n",
        "ax.plot([i for i in range(1,epochs+1)], train_loss, marker='o', markersize=4)\n",
        "ax.plot([i for i in range(1,epochs+1)], valid_loss, marker='o', markersize=4)\n",
        "ax.legend(['Train', 'Validation'])\n",
        "ax.set_title('Cross-entropy loss')\n",
        "ax.set_xlabel('Epoch')\n",
        "ax.set_ylabel('Loss')\n",
        "ax.set_xlim([1,20])\n",
        "\n",
        "ax=axes[1]\n",
        "ax.plot([i for i in range(1,epochs+1)], train_acc, marker='o', markersize=4)\n",
        "ax.plot([i for i in range(1,epochs+1)], valid_acc, marker='o', markersize=4)\n",
        "ax.legend(['Train', 'Validation'])\n",
        "ax.set_title('Accuracy')\n",
        "ax.set_xlabel('Epoch')\n",
        "ax.set_ylabel('Accuracy (%)')\n",
        "ax.set_xlim([1,20])\n",
        "\n",
        "fig.set_size_inches(12,6)\n",
        "fig.tight_layout()\n",
        "\n",
        "print('train loss: ',train_loss[19])\n",
        "print('validation loss: ', valid_loss[19], '\\n')\n",
        "\n",
        "print('train accuracy: ',train_acc[19])\n",
        "print('validation accuracy: ', valid_acc[19], '\\n')"
      ],
      "execution_count": 53,
      "outputs": [
        {
          "output_type": "stream",
          "text": [
            "train loss:  0.797222257626308\n",
            "validation loss:  0.8253574557528048 \n",
            "\n",
            "train accuracy:  59.94450631866709\n",
            "validation accuracy:  52.09580827764646 \n",
            "\n"
          ],
          "name": "stdout"
        },
        {
          "output_type": "display_data",
          "data": {
            "image/png": "[encoded data removed]",
            "text/plain": [
              "<Figure size 864x432 with 2 Axes>"
            ]
          },
          "metadata": {
            "tags": [],
            "needs_background": "light"
          }
        }
      ]
    },
    {
      "cell_type": "code",
      "metadata": {
        "id": "9z-X3DP3bp0P"
      },
      "source": [
        "wcore_1 = [] \n",
        "wcore_2 = []\n",
        "wcore_3 = []\n",
        "wcore_4 = []\n",
        "wcore_5 = []\n",
        "\n",
        "for i in range(len(weights_XH)):\n",
        "  wcore_5.append(weights_XH[i][model.layers[0].indices[4]:model.layers[0].indices[3]])\n",
        "  wcore_4.append(weights_XH[i][model.layers[0].indices[3]:model.layers[0].indices[2]])\n",
        "  wcore_3.append(weights_XH[i][model.layers[0].indices[2]:model.layers[0].indices[1]])\n",
        "  wcore_2.append(weights_XH[i][model.layers[0].indices[1]:model.layers[0].indices[0]])\n",
        "  wcore_1.append(weights_XH[i][model.layers[0].indices[0]:])"
      ],
      "execution_count": 54,
      "outputs": []
    },
    {
      "cell_type": "code",
      "metadata": {
        "id": "_JNY0VAJbxmW"
      },
      "source": [
        "dwcore_1 = []\n",
        "dwcore_2 = []\n",
        "dwcore_3 = []\n",
        "dwcore_4 = []\n",
        "dwcore_5 = []\n",
        "\n",
        "for i in range(1,len(weights_XH)):\n",
        "  dwcore_1.append(np.mean(abs(wcore_1[i]-wcore_1[i-1])))\n",
        "  dwcore_2.append(np.mean(abs(wcore_2[i]-wcore_2[i-1])))\n",
        "  dwcore_3.append(np.mean(abs(wcore_3[i]-wcore_3[i-1])))\n",
        "  dwcore_4.append(np.mean(abs(wcore_4[i]-wcore_4[i-1])))\n",
        "  dwcore_5.append(np.mean(abs(wcore_5[i]-wcore_5[i-1])))\n",
        "  \n",
        "pdwcore_1 = []\n",
        "pdwcore_2 = []\n",
        "pdwcore_3 = []\n",
        "pdwcore_4 = []\n",
        "pdwcore_5 = []\n",
        "\n",
        "for i in range(1,len(weights_XH)):\n",
        "  pdwcore_1.append(100*np.mean(abs((wcore_1[i]-wcore_1[i-1])/wcore_1[i-1])))\n",
        "  pdwcore_2.append(100*np.mean(abs((wcore_2[i]-wcore_2[i-1])/wcore_2[i-1])))\n",
        "  pdwcore_3.append(100*np.mean(abs((wcore_3[i]-wcore_3[i-1])/wcore_3[i-1])))\n",
        "  pdwcore_4.append(100*np.mean(abs((wcore_4[i]-wcore_4[i-1])/wcore_4[i-1])))\n",
        "  pdwcore_5.append(100*np.mean(abs((wcore_5[i]-wcore_5[i-1])/wcore_5[i-1])))"
      ],
      "execution_count": 55,
      "outputs": []
    },
    {
      "cell_type": "code",
      "metadata": {
        "colab": {
          "base_uri": "https://localhost:8080/",
          "height": 241
        },
        "id": "9zhA7yNWb3zb",
        "outputId": "3addd171-753e-4974-ea96-b8a35ab95f1f"
      },
      "source": [
        "fig, axes = plt.subplots() # plot 3 by 2\n",
        "\n",
        "axes.plot([i for i in range(2,epochs+1)], dwcore_1, marker='o', markersize=4)\n",
        "axes.plot([i for i in range(2,epochs+1)], dwcore_2, marker='o', markersize=4)\n",
        "axes.plot([i for i in range(2,epochs+1)], dwcore_3, marker='o', markersize=4)\n",
        "axes.plot([i for i in range(2,epochs+1)], dwcore_4, marker='o', markersize=4)\n",
        "axes.plot([i for i in range(2,epochs+1)], dwcore_5, marker='o', markersize=4)\n",
        "axes.legend(['Core 1', 'Core 2', 'Core 3', 'Core 4', 'Core 5'], loc='best')\n",
        "axes.set_title('Change in core weights')\n",
        "axes.set_xlabel('Epoch')\n",
        "axes.set_ylabel('Change')\n",
        "axes.set_xlim([2,20])\n",
        "\n",
        "fig.set_size_inches(12,3)"
      ],
      "execution_count": 56,
      "outputs": [
        {
          "output_type": "display_data",
          "data": {
            "image/png": "[encoded data removed]",
            "text/plain": [
              "<Figure size 864x216 with 1 Axes>"
            ]
          },
          "metadata": {
            "tags": [],
            "needs_background": "light"
          }
        }
      ]
    },
    {
      "cell_type": "markdown",
      "metadata": {
        "id": "HMy5N8fgcTrl"
      },
      "source": [
        "## Backtest"
      ]
    },
    {
      "cell_type": "code",
      "metadata": {
        "colab": {
          "base_uri": "https://localhost:8080/",
          "height": 244
        },
        "id": "xXjU5InJcVW8",
        "outputId": "44c4069f-732e-4bd6-e1f6-91420cea7264"
      },
      "source": [
        "returns = labels['SPX'][-RNN_y_test.shape[0]:]*100\n",
        "idx = model.predict(RNN_X_test).argmax(1)-1\n",
        "idx = idx*model.predict(RNN_X_test).max(1)\n",
        "predicted = returns*idx\n",
        "\n",
        "returns.index = pd.to_datetime(returns.index)\n",
        "predicted.index = pd.to_datetime(predicted.index)\n",
        "\n",
        "fig, ax = plt.subplots()\n",
        "\n",
        "returns.cumsum().plot()\n",
        "predicted.cumsum().plot()\n",
        "plt.legend(['Actual', 'Forecast'], loc='upper left')\n",
        "plt.title('Backtesting with SPX')\n",
        "plt.ylabel('Cumulative log returns (%)')\n",
        "fig.set_size_inches(12,3)"
      ],
      "execution_count": 57,
      "outputs": [
        {
          "output_type": "display_data",
          "data": {
            "image/png": "[encoded data removed]",
            "text/plain": [
              "<Figure size 864x216 with 1 Axes>"
            ]
          },
          "metadata": {
            "tags": [],
            "needs_background": "light"
          }
        }
      ]
    },
    {
      "cell_type": "code",
      "metadata": {
        "colab": {
          "base_uri": "https://localhost:8080/"
        },
        "id": "R-ZOhQFNccQX",
        "outputId": "9e37ad0f-d054-42f3-ed96-a7288b2ad669"
      },
      "source": [
        "trading_results(predicted)"
      ],
      "execution_count": 58,
      "outputs": [
        {
          "output_type": "stream",
          "text": [
            "/usr/local/lib/python3.7/dist-packages/ipykernel_launcher.py:2: DeprecationWarning: The default dtype for empty Series will be 'object' instead of 'float64' in a future version. Specify a dtype explicitly to silence this warning.\n",
            "  \n"
          ],
          "name": "stderr"
        },
        {
          "output_type": "execute_result",
          "data": {
            "text/plain": [
              "Total return (%)            20.631496\n",
              "Accuracy (%)                52.427184\n",
              "Average return (%)           0.066769\n",
              "Maximum drawdown (%)       -11.369877\n",
              "Drawdown duration (Days)     5.000000\n",
              "Sharpe ratio                 0.059959\n",
              "Skew                        -0.663411\n",
              "Kurtosis                     9.261725\n",
              "dtype: float64"
            ]
          },
          "metadata": {
            "tags": []
          },
          "execution_count": 58
        }
      ]
    },
    {
      "cell_type": "code",
      "metadata": {
        "colab": {
          "base_uri": "https://localhost:8080/"
        },
        "id": "qL02Q0VYcd2j",
        "outputId": "b331db1a-620e-42fa-9064-173f6ab1da4d"
      },
      "source": [
        "# test loss\n",
        "score = model.evaluate(RNN_X_test,RNN_y_test, batch_size=22*3)\n",
        "score"
      ],
      "execution_count": 59,
      "outputs": [
        {
          "output_type": "stream",
          "text": [
            "309/309 [==============================] - 0s 894us/step\n"
          ],
          "name": "stdout"
        },
        {
          "output_type": "execute_result",
          "data": {
            "text/plain": [
              "[0.8408159711985912, 0.524271845528223]"
            ]
          },
          "metadata": {
            "tags": []
          },
          "execution_count": 59
        }
      ]
    }
  ]
}